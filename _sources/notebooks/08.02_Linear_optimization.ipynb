{
 "metadata": {
  "language_info": {
   "codemirror_mode": {
    "name": "ipython",
    "version": 3
   },
   "file_extension": ".py",
   "mimetype": "text/x-python",
   "name": "python",
   "nbconvert_exporter": "python",
   "pygments_lexer": "ipython3",
   "version": "3.9.1-final"
  },
  "orig_nbformat": 2,
  "kernelspec": {
   "name": "python3",
   "display_name": "Python 3",
   "language": "python"
  }
 },
 "nbformat": 4,
 "nbformat_minor": 2,
 "cells": [
  {
   "source": [
    "# Logistics Analysis\n",
    "\n",
    "In this example, we will analyze the accuracy of a public transit system. The example, is analyzing three lines in Seattle, and it is based on the great blog post [How to Solve Optimization Problems with Python](https://towardsdatascience.com/how-to-solve-optimization-problems-with-python-9088bf8d48e5)"
   ],
   "cell_type": "markdown",
   "metadata": {}
  },
  {
   "cell_type": "code",
   "execution_count": 1,
   "metadata": {},
   "outputs": [],
   "source": [
    "import pandas as pd\n",
    "import numpy as np"
   ]
  },
  {
   "source": [
    "## Loading the data\n",
    "\n",
    "We will get the data from HTML table that are available from [Rotoguru](http://rotoguru.net), that is gather stats data from fantasy league. We will focus on the data of the NBA players."
   ],
   "cell_type": "markdown",
   "metadata": {}
  },
  {
   "cell_type": "code",
   "execution_count": 2,
   "metadata": {},
   "outputs": [],
   "source": [
    "data_url = 'http://rotoguru1.com/cgi-bin/hyday.pl?game=fd'\n",
    "dfs = (\n",
    "    pd\n",
    "    .read_html(data_url)\n",
    ")"
   ]
  },
  {
   "source": [
    "There are a few HTML table in the page, and after some scorlling we can see that the table with the players data is the 6th one (index=5):\n",
    "* Start with the dataframe at index 5 of the list of table from the HTML page above\n",
    "* Rename the column to be: Position, Name,FD Points, Salary, Team, Opp., Score, Min, Stats\n",
    "* Filter out rows with Position string longer than 2 characters (header lines)\n",
    "* Remove the dollar sign ($) and commas from the Salary column\n"
   ],
   "cell_type": "markdown",
   "metadata": {}
  },
  {
   "cell_type": "code",
   "execution_count": 22,
   "metadata": {},
   "outputs": [
    {
     "output_type": "execute_result",
     "data": {
      "text/plain": [
       "    Position                Name FD Points  Salary Team   Opp.    Score  \\\n",
       "2         SG     VanVleet, Fred^      77.6    8800  tor  @ orl  123-108   \n",
       "3         PG     Curry, Stephen^      69.2    9400  gsw  v bos  107-111   \n",
       "4         SG      Harden, James^      57.2   10500  bkn  v lac  124-120   \n",
       "5         PG      Irving, Kyrie^        56    9500  bkn  v lac  124-120   \n",
       "6         PG        Lowry, Kyle^        50    7500  tor  @ orl  123-108   \n",
       "..       ...                 ...       ...     ...  ...    ...      ...   \n",
       "199        C  Valanciunas, Jonas         0    6800  mem  @ ind  116-134   \n",
       "200        C     Azubuike, Udoka         0    3500  uta  v det  117-105   \n",
       "201        C      Okafor, Jahlil         0    3500  det  @ uta  105-117   \n",
       "202        C      Bryant, Thomas         0    6400  was  v por  121-132   \n",
       "203        C       Oturu, Daniel         0    3500  lac  @ bkn  120-124   \n",
       "\n",
       "       Min                                          Stats  Points  \n",
       "2    37:06  54pt 3rb 2as 3st 3bl 1to 11trey 17-23fg 9-9ft    77.6  \n",
       "3    38:10      38pt 11rb 8as 3st 3to 7trey 12-21fg 7-7ft    69.2  \n",
       "4    43:04      23pt 11rb 14as 1st 3to 1trey 7-15fg 8-8ft    57.2  \n",
       "5    36:37   39pt 5rb 2as 1st 2bl 1to 6trey 15-23fg 3-3ft    56.0  \n",
       "6    34:25      14pt 10rb 10as 4st 3to 3trey 4-11fg 3-5ft    50.0  \n",
       "..     ...                                            ...     ...  \n",
       "199    DNP                                            NaN     0.0  \n",
       "200    NaN                                            NaN     0.0  \n",
       "201    NaN                                            NaN     0.0  \n",
       "202    NaN                                            NaN     0.0  \n",
       "203    NaN                                            NaN     0.0  \n",
       "\n",
       "[198 rows x 10 columns]"
      ],
      "text/html": "<div>\n<style scoped>\n    .dataframe tbody tr th:only-of-type {\n        vertical-align: middle;\n    }\n\n    .dataframe tbody tr th {\n        vertical-align: top;\n    }\n\n    .dataframe thead th {\n        text-align: right;\n    }\n</style>\n<table border=\"1\" class=\"dataframe\">\n  <thead>\n    <tr style=\"text-align: right;\">\n      <th></th>\n      <th>Position</th>\n      <th>Name</th>\n      <th>FD Points</th>\n      <th>Salary</th>\n      <th>Team</th>\n      <th>Opp.</th>\n      <th>Score</th>\n      <th>Min</th>\n      <th>Stats</th>\n      <th>Points</th>\n    </tr>\n  </thead>\n  <tbody>\n    <tr>\n      <th>2</th>\n      <td>SG</td>\n      <td>VanVleet, Fred^</td>\n      <td>77.6</td>\n      <td>8800</td>\n      <td>tor</td>\n      <td>@ orl</td>\n      <td>123-108</td>\n      <td>37:06</td>\n      <td>54pt 3rb 2as 3st 3bl 1to 11trey 17-23fg 9-9ft</td>\n      <td>77.6</td>\n    </tr>\n    <tr>\n      <th>3</th>\n      <td>PG</td>\n      <td>Curry, Stephen^</td>\n      <td>69.2</td>\n      <td>9400</td>\n      <td>gsw</td>\n      <td>v bos</td>\n      <td>107-111</td>\n      <td>38:10</td>\n      <td>38pt 11rb 8as 3st 3to 7trey 12-21fg 7-7ft</td>\n      <td>69.2</td>\n    </tr>\n    <tr>\n      <th>4</th>\n      <td>SG</td>\n      <td>Harden, James^</td>\n      <td>57.2</td>\n      <td>10500</td>\n      <td>bkn</td>\n      <td>v lac</td>\n      <td>124-120</td>\n      <td>43:04</td>\n      <td>23pt 11rb 14as 1st 3to 1trey 7-15fg 8-8ft</td>\n      <td>57.2</td>\n    </tr>\n    <tr>\n      <th>5</th>\n      <td>PG</td>\n      <td>Irving, Kyrie^</td>\n      <td>56</td>\n      <td>9500</td>\n      <td>bkn</td>\n      <td>v lac</td>\n      <td>124-120</td>\n      <td>36:37</td>\n      <td>39pt 5rb 2as 1st 2bl 1to 6trey 15-23fg 3-3ft</td>\n      <td>56.0</td>\n    </tr>\n    <tr>\n      <th>6</th>\n      <td>PG</td>\n      <td>Lowry, Kyle^</td>\n      <td>50</td>\n      <td>7500</td>\n      <td>tor</td>\n      <td>@ orl</td>\n      <td>123-108</td>\n      <td>34:25</td>\n      <td>14pt 10rb 10as 4st 3to 3trey 4-11fg 3-5ft</td>\n      <td>50.0</td>\n    </tr>\n    <tr>\n      <th>...</th>\n      <td>...</td>\n      <td>...</td>\n      <td>...</td>\n      <td>...</td>\n      <td>...</td>\n      <td>...</td>\n      <td>...</td>\n      <td>...</td>\n      <td>...</td>\n      <td>...</td>\n    </tr>\n    <tr>\n      <th>199</th>\n      <td>C</td>\n      <td>Valanciunas, Jonas</td>\n      <td>0</td>\n      <td>6800</td>\n      <td>mem</td>\n      <td>@ ind</td>\n      <td>116-134</td>\n      <td>DNP</td>\n      <td>NaN</td>\n      <td>0.0</td>\n    </tr>\n    <tr>\n      <th>200</th>\n      <td>C</td>\n      <td>Azubuike, Udoka</td>\n      <td>0</td>\n      <td>3500</td>\n      <td>uta</td>\n      <td>v det</td>\n      <td>117-105</td>\n      <td>NaN</td>\n      <td>NaN</td>\n      <td>0.0</td>\n    </tr>\n    <tr>\n      <th>201</th>\n      <td>C</td>\n      <td>Okafor, Jahlil</td>\n      <td>0</td>\n      <td>3500</td>\n      <td>det</td>\n      <td>@ uta</td>\n      <td>105-117</td>\n      <td>NaN</td>\n      <td>NaN</td>\n      <td>0.0</td>\n    </tr>\n    <tr>\n      <th>202</th>\n      <td>C</td>\n      <td>Bryant, Thomas</td>\n      <td>0</td>\n      <td>6400</td>\n      <td>was</td>\n      <td>v por</td>\n      <td>121-132</td>\n      <td>NaN</td>\n      <td>NaN</td>\n      <td>0.0</td>\n    </tr>\n    <tr>\n      <th>203</th>\n      <td>C</td>\n      <td>Oturu, Daniel</td>\n      <td>0</td>\n      <td>3500</td>\n      <td>lac</td>\n      <td>@ bkn</td>\n      <td>120-124</td>\n      <td>NaN</td>\n      <td>NaN</td>\n      <td>0.0</td>\n    </tr>\n  </tbody>\n</table>\n<p>198 rows × 10 columns</p>\n</div>"
     },
     "metadata": {},
     "execution_count": 22
    }
   ],
   "source": [
    "all_players = (\n",
    "    dfs[5]\n",
    "    .rename(\n",
    "        columns={\n",
    "            0:'Position',\n",
    "            1:'Name',\n",
    "            2:'FD Points',\n",
    "            3:'Salary',\n",
    "            4:'Team',\n",
    "            5:'Opp.',\n",
    "            6:'Score',\n",
    "            7:'Min',\n",
    "            8:'Stats'\n",
    "            }\n",
    "    )\n",
    "    .query('Position.str.len() <= 2')\n",
    "    .assign(Points = lambda x : x['FD Points'].astype(float))\n",
    "    .assign(Salary = lambda x : x.Salary.str.replace('[$,]','', regex=True).astype(int))\n",
    ")\n",
    "all_players"
   ]
  },
  {
   "cell_type": "code",
   "execution_count": 4,
   "metadata": {},
   "outputs": [
    {
     "output_type": "stream",
     "name": "stdout",
     "text": [
      "Defaulting to user installation because normal site-packages is not writeable\n",
      "Requirement already satisfied: pulp in /usr/local/lib/python3.9/site-packages (2.4)\n",
      "Requirement already satisfied: amply>=0.1.2 in /usr/local/lib/python3.9/site-packages (from pulp) (0.1.4)\n",
      "Requirement already satisfied: pyparsing in /usr/local/lib/python3.9/site-packages (from amply>=0.1.2->pulp) (2.4.7)\n",
      "Requirement already satisfied: docutils>=0.3 in /usr/local/lib/python3.9/site-packages (from amply>=0.1.2->pulp) (0.16)\n",
      "Note: you may need to restart the kernel to use updated packages.\n"
     ]
    }
   ],
   "source": [
    "pip install pulp"
   ]
  },
  {
   "cell_type": "code",
   "execution_count": 5,
   "metadata": {},
   "outputs": [],
   "source": [
    "# Get a list of players\n",
    "players = list(all_players['Name'])"
   ]
  },
  {
   "cell_type": "code",
   "execution_count": 6,
   "metadata": {},
   "outputs": [],
   "source": [
    "from pulp import *\n",
    "\n",
    "# Set Players to Take either 1 or 0 values (owned or not)\n",
    "player_vars = LpVariable.dicts(\"Player\", players, lowBound=0, upBound=1, cat='Integer')"
   ]
  },
  {
   "cell_type": "code",
   "execution_count": 7,
   "metadata": {},
   "outputs": [],
   "source": [
    "total_score = LpProblem(\"Fantasy_Points_Problem\", LpMaximize)"
   ]
  },
  {
   "cell_type": "code",
   "execution_count": 23,
   "metadata": {},
   "outputs": [],
   "source": [
    "points = (\n",
    "    all_players\n",
    "    .set_index('Name')\n",
    "    .to_dict()\n",
    "    ['Points']\n",
    ")"
   ]
  },
  {
   "cell_type": "code",
   "execution_count": 24,
   "metadata": {},
   "outputs": [],
   "source": [
    "positions = (\n",
    "    all_players\n",
    "    .set_index('Name')\n",
    "    .to_dict()\n",
    "    ['Position']\n",
    ")"
   ]
  },
  {
   "cell_type": "code",
   "execution_count": 25,
   "metadata": {},
   "outputs": [],
   "source": [
    "salaries = (\n",
    "    all_players\n",
    "    .set_index('Name')\n",
    "    .to_dict()\n",
    "    ['Salary']\n",
    ")"
   ]
  },
  {
   "cell_type": "code",
   "execution_count": 26,
   "metadata": {},
   "outputs": [],
   "source": [
    "total_score += lpSum([points[i] * player_vars[i] for i in player_vars])"
   ]
  },
  {
   "cell_type": "code",
   "execution_count": 27,
   "metadata": {},
   "outputs": [],
   "source": [
    "total_score += lpSum([salaries[i] * player_vars[i] for i in player_vars]) <= 60000"
   ]
  },
  {
   "cell_type": "code",
   "execution_count": 28,
   "metadata": {},
   "outputs": [],
   "source": [
    "# Get indices of players for each position\n",
    "pg = [p for p in positions.keys() if positions[p] == 'PG']\n",
    "sg = [p for p in positions.keys() if positions[p] == 'SG']\n",
    "sf = [p for p in positions.keys() if positions[p] == 'SF']\n",
    "pf = [p for p in positions.keys() if positions[p] == 'PF']\n",
    "c = [p for p in positions.keys() if positions[p] == 'C']\n",
    "# Set Constraints\n",
    "total_score += lpSum([player_vars[i] for i in pg]) == 2\n",
    "total_score += lpSum([player_vars[i] for i in sg]) == 2\n",
    "total_score += lpSum([player_vars[i] for i in sf]) == 2\n",
    "total_score += lpSum([player_vars[i] for i in pf]) == 2\n",
    "total_score += lpSum([player_vars[i] for i in c]) == 1"
   ]
  },
  {
   "cell_type": "code",
   "execution_count": 29,
   "metadata": {},
   "outputs": [
    {
     "output_type": "execute_result",
     "data": {
      "text/plain": [
       "1"
      ]
     },
     "metadata": {},
     "execution_count": 29
    }
   ],
   "source": [
    "total_score.solve()"
   ]
  },
  {
   "cell_type": "code",
   "execution_count": 30,
   "metadata": {},
   "outputs": [
    {
     "output_type": "stream",
     "name": "stdout",
     "text": [
      "Player_Brooks,_Dillon^\nPlayer_Covington,_Robert^\nPlayer_Curry,_Stephen^\nPlayer_Jackson,_Josh\nPlayer_Leonard,_Kawhi^\nPlayer_Lowry,_Kyle^\nPlayer_O'Neale,_Royce^\nPlayer_Plumlee,_Mason^\nPlayer_VanVleet,_Fred^\n"
     ]
    }
   ],
   "source": [
    "for v in total_score.variables():\n",
    "    if v.varValue > 0:\n",
    "        print(v.name)"
   ]
  },
  {
   "cell_type": "code",
   "execution_count": null,
   "metadata": {},
   "outputs": [],
   "source": []
  }
 ]
}