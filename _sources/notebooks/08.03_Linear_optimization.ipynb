{
 "metadata": {
  "language_info": {
   "codemirror_mode": {
    "name": "ipython",
    "version": 3
   },
   "file_extension": ".py",
   "mimetype": "text/x-python",
   "name": "python",
   "nbconvert_exporter": "python",
   "pygments_lexer": "ipython3",
   "version": "3.9.1-final"
  },
  "orig_nbformat": 2,
  "kernelspec": {
   "name": "python3",
   "display_name": "Python 3",
   "language": "python"
  }
 },
 "nbformat": 4,
 "nbformat_minor": 2,
 "cells": [
  {
   "source": [
    "# Linear Programming (Optimization) \n",
    "\n",
    "In this example, we will use an common analysis that is used to optimize decision based on constrains, and it is based on the great blog post [How to Solve Optimization Problems with Python](https://towardsdatascience.com/how-to-solve-optimization-problems-with-python-9088bf8d48e5)"
   ],
   "cell_type": "markdown",
   "metadata": {}
  },
  {
   "cell_type": "code",
   "execution_count": 1,
   "metadata": {},
   "outputs": [],
   "source": [
    "import pandas as pd\n",
    "import numpy as np"
   ]
  },
  {
   "source": [
    "## Loading the data\n",
    "\n",
    "We will get the data from HTML table that are available from [Rotoguru](http://rotoguru.net), that is gather stats data from fantasy league. We will focus on the data of the NBA players."
   ],
   "cell_type": "markdown",
   "metadata": {}
  },
  {
   "cell_type": "code",
   "execution_count": 2,
   "metadata": {},
   "outputs": [],
   "source": [
    "data_url = 'http://rotoguru1.com/cgi-bin/hyday.pl?game=fd'\n",
    "dfs = (\n",
    "    pd\n",
    "    .read_html(data_url)\n",
    ")"
   ]
  },
  {
   "source": [
    "There are a few HTML table in the page, and after some scorlling we can see that the table with the players data is the 6th one (index=5):\n",
    "* Start with the dataframe at index 5 of the list of table from the HTML page above\n",
    "* Rename the column to be: Position, Name,FD Points, Salary, Team, Opp., Score, Min, Stats\n",
    "* Filter out rows with Position string longer than 2 characters (header lines)\n",
    "* Add a column with the float value of the points to be used as the target of the optimization \n",
    "* Remove the dollar sign ($) and commas from the Salary column and convert it to integer value\n"
   ],
   "cell_type": "markdown",
   "metadata": {}
  },
  {
   "cell_type": "code",
   "execution_count": 3,
   "metadata": {},
   "outputs": [
    {
     "output_type": "execute_result",
     "data": {
      "text/plain": [
       "    Position                 Name FD Points  Salary Team   Opp.    Score  \\\n",
       "2         PG        Doncic, Luka^      62.6   11500  dal  @ atl  122-116   \n",
       "3         SG        George, Paul^      49.8    8400  lac  @ cle   121-99   \n",
       "4         SG       Beal, Bradley^      48.6   10800  was  @ mia  103-100   \n",
       "5         PG       Fox, De'Aaron^      46.7    8200  sac  v bos  116-111   \n",
       "6         SG      DeRozan, DeMar^      46.6    7200  sas  v min  111-108   \n",
       "..       ...                  ...       ...     ...  ...    ...      ...   \n",
       "333        C  Carter Jr., Wendell         0    5900  chi  v nyk  103-107   \n",
       "334        C         Magnay, Will         0    3500  nor  v pho  123-101   \n",
       "335        C       Bryant, Thomas         0    6400  was  @ mia  103-100   \n",
       "336        C      Leonard, Meyers         0    3500  mia  v was  100-103   \n",
       "337        C        Oturu, Daniel         0    3500  lac  @ cle   121-99   \n",
       "\n",
       "       Min                                           Stats  Points  \n",
       "2    37:50  27pt 8rb 14as 2st 1bl 4to 1trey 8-20fg 10-10ft    62.6  \n",
       "3    34:05                36pt 4rb 6as 8trey 13-20fg 2-3ft    49.8  \n",
       "4    38:05    32pt 8rb 4as 1st 1bl 5to 4trey 11-23fg 6-8ft    48.6  \n",
       "5    38:05        26pt 1rb 11as 2st 3to 2trey 9-17fg 6-6ft    46.7  \n",
       "6    40:17                30pt 8rb 6as 2to 10-19fg 10-11ft    46.6  \n",
       "..     ...                                             ...     ...  \n",
       "333    NaN                                             NaN     0.0  \n",
       "334    NaN                                             NaN     0.0  \n",
       "335    NaN                                             NaN     0.0  \n",
       "336    NaN                                             NaN     0.0  \n",
       "337    NaN                                             NaN     0.0  \n",
       "\n",
       "[332 rows x 10 columns]"
      ],
      "text/html": "<div>\n<style scoped>\n    .dataframe tbody tr th:only-of-type {\n        vertical-align: middle;\n    }\n\n    .dataframe tbody tr th {\n        vertical-align: top;\n    }\n\n    .dataframe thead th {\n        text-align: right;\n    }\n</style>\n<table border=\"1\" class=\"dataframe\">\n  <thead>\n    <tr style=\"text-align: right;\">\n      <th></th>\n      <th>Position</th>\n      <th>Name</th>\n      <th>FD Points</th>\n      <th>Salary</th>\n      <th>Team</th>\n      <th>Opp.</th>\n      <th>Score</th>\n      <th>Min</th>\n      <th>Stats</th>\n      <th>Points</th>\n    </tr>\n  </thead>\n  <tbody>\n    <tr>\n      <th>2</th>\n      <td>PG</td>\n      <td>Doncic, Luka^</td>\n      <td>62.6</td>\n      <td>11500</td>\n      <td>dal</td>\n      <td>@ atl</td>\n      <td>122-116</td>\n      <td>37:50</td>\n      <td>27pt 8rb 14as 2st 1bl 4to 1trey 8-20fg 10-10ft</td>\n      <td>62.6</td>\n    </tr>\n    <tr>\n      <th>3</th>\n      <td>SG</td>\n      <td>George, Paul^</td>\n      <td>49.8</td>\n      <td>8400</td>\n      <td>lac</td>\n      <td>@ cle</td>\n      <td>121-99</td>\n      <td>34:05</td>\n      <td>36pt 4rb 6as 8trey 13-20fg 2-3ft</td>\n      <td>49.8</td>\n    </tr>\n    <tr>\n      <th>4</th>\n      <td>SG</td>\n      <td>Beal, Bradley^</td>\n      <td>48.6</td>\n      <td>10800</td>\n      <td>was</td>\n      <td>@ mia</td>\n      <td>103-100</td>\n      <td>38:05</td>\n      <td>32pt 8rb 4as 1st 1bl 5to 4trey 11-23fg 6-8ft</td>\n      <td>48.6</td>\n    </tr>\n    <tr>\n      <th>5</th>\n      <td>PG</td>\n      <td>Fox, De'Aaron^</td>\n      <td>46.7</td>\n      <td>8200</td>\n      <td>sac</td>\n      <td>v bos</td>\n      <td>116-111</td>\n      <td>38:05</td>\n      <td>26pt 1rb 11as 2st 3to 2trey 9-17fg 6-6ft</td>\n      <td>46.7</td>\n    </tr>\n    <tr>\n      <th>6</th>\n      <td>SG</td>\n      <td>DeRozan, DeMar^</td>\n      <td>46.6</td>\n      <td>7200</td>\n      <td>sas</td>\n      <td>v min</td>\n      <td>111-108</td>\n      <td>40:17</td>\n      <td>30pt 8rb 6as 2to 10-19fg 10-11ft</td>\n      <td>46.6</td>\n    </tr>\n    <tr>\n      <th>...</th>\n      <td>...</td>\n      <td>...</td>\n      <td>...</td>\n      <td>...</td>\n      <td>...</td>\n      <td>...</td>\n      <td>...</td>\n      <td>...</td>\n      <td>...</td>\n      <td>...</td>\n    </tr>\n    <tr>\n      <th>333</th>\n      <td>C</td>\n      <td>Carter Jr., Wendell</td>\n      <td>0</td>\n      <td>5900</td>\n      <td>chi</td>\n      <td>v nyk</td>\n      <td>103-107</td>\n      <td>NaN</td>\n      <td>NaN</td>\n      <td>0.0</td>\n    </tr>\n    <tr>\n      <th>334</th>\n      <td>C</td>\n      <td>Magnay, Will</td>\n      <td>0</td>\n      <td>3500</td>\n      <td>nor</td>\n      <td>v pho</td>\n      <td>123-101</td>\n      <td>NaN</td>\n      <td>NaN</td>\n      <td>0.0</td>\n    </tr>\n    <tr>\n      <th>335</th>\n      <td>C</td>\n      <td>Bryant, Thomas</td>\n      <td>0</td>\n      <td>6400</td>\n      <td>was</td>\n      <td>@ mia</td>\n      <td>103-100</td>\n      <td>NaN</td>\n      <td>NaN</td>\n      <td>0.0</td>\n    </tr>\n    <tr>\n      <th>336</th>\n      <td>C</td>\n      <td>Leonard, Meyers</td>\n      <td>0</td>\n      <td>3500</td>\n      <td>mia</td>\n      <td>v was</td>\n      <td>100-103</td>\n      <td>NaN</td>\n      <td>NaN</td>\n      <td>0.0</td>\n    </tr>\n    <tr>\n      <th>337</th>\n      <td>C</td>\n      <td>Oturu, Daniel</td>\n      <td>0</td>\n      <td>3500</td>\n      <td>lac</td>\n      <td>@ cle</td>\n      <td>121-99</td>\n      <td>NaN</td>\n      <td>NaN</td>\n      <td>0.0</td>\n    </tr>\n  </tbody>\n</table>\n<p>332 rows × 10 columns</p>\n</div>"
     },
     "metadata": {},
     "execution_count": 3
    }
   ],
   "source": [
    "all_players = (\n",
    "    dfs[5]\n",
    "    .rename(\n",
    "        columns={\n",
    "            0:'Position',\n",
    "            1:'Name',\n",
    "            2:'FD Points',\n",
    "            3:'Salary',\n",
    "            4:'Team',\n",
    "            5:'Opp.',\n",
    "            6:'Score',\n",
    "            7:'Min',\n",
    "            8:'Stats'\n",
    "            }\n",
    "    )\n",
    "    .query('Position.str.len() <= 2')\n",
    "    .assign(Points = lambda x : x['FD Points'].astype(float))\n",
    "    .assign(Salary = lambda x : x.Salary.str.replace('[$,]','', regex=True).astype(int))\n",
    ")\n",
    "all_players"
   ]
  },
  {
   "source": [
    "## Installing the LP Library\n",
    "\n",
    "Many times you can find a python library that is implementing many of the fucntions that you need. This is another major benefit of Python over close tools such as Excel."
   ],
   "cell_type": "markdown",
   "metadata": {}
  },
  {
   "cell_type": "code",
   "execution_count": 4,
   "metadata": {},
   "outputs": [
    {
     "output_type": "stream",
     "name": "stdout",
     "text": [
      "Defaulting to user installation because normal site-packages is not writeable\n",
      "Requirement already satisfied: pulp in /usr/local/lib/python3.9/site-packages (2.4)\n",
      "Requirement already satisfied: amply>=0.1.2 in /usr/local/lib/python3.9/site-packages (from pulp) (0.1.4)\n",
      "Requirement already satisfied: docutils>=0.3 in /usr/local/lib/python3.9/site-packages (from amply>=0.1.2->pulp) (0.16)\n",
      "Requirement already satisfied: pyparsing in /usr/local/lib/python3.9/site-packages (from amply>=0.1.2->pulp) (2.4.7)\n",
      "Note: you may need to restart the kernel to use updated packages.\n"
     ]
    }
   ],
   "source": [
    "pip install pulp"
   ]
  },
  {
   "source": [
    "## Defining the problem variables\n",
    "\n",
    "The most complicated part of the analysis is to understand how to map it into the domain of the algorithm. \n",
    "\n",
    "The current problem that we want to solve using Linear Programming (LP) is what is the best roaster of NBA players we want to choose for our fantasy league. The output is this case is the list of the players names. \n",
    "\n",
    "We will create a list of all the players and assign them either 1 (selected to the team) or 0 (not selected)"
   ],
   "cell_type": "markdown",
   "metadata": {}
  },
  {
   "cell_type": "code",
   "execution_count": 5,
   "metadata": {},
   "outputs": [],
   "source": [
    "from pulp import *\n",
    "\n",
    "# Get a list of players\n",
    "players = list(all_players['Name'])\n",
    "# Set Players to Take either 1 or 0 values (owned or not)\n",
    "player_vars = LpVariable.dicts(\"Player\", players, lowBound=0, upBound=1, cat='Integer')"
   ]
  },
  {
   "source": [
    "### Problem target\n",
    "\n",
    "In the fantasy league games, we want to maximize the number of points that the player that we choose will score in the next game. \n",
    "\n",
    "Let's start with defining the LP problem as a maximization problem:\n"
   ],
   "cell_type": "markdown",
   "metadata": {}
  },
  {
   "cell_type": "code",
   "execution_count": 6,
   "metadata": {},
   "outputs": [],
   "source": [
    "total_score = LpProblem(\"Fantasy_Points_Problem\", LpMaximize)"
   ]
  },
  {
   "source": [
    "### Variable Dictionaries\n",
    "\n",
    "The library is expecting to get a set of dictionaries each with the name of the player as the common index and the numeric value for each. We will do that for the Points (the target to maximize), the Positions (that we need to pick a couple of each position), and the Salaries (that we need to cap to a specific limit)."
   ],
   "cell_type": "markdown",
   "metadata": {}
  },
  {
   "cell_type": "code",
   "execution_count": 7,
   "metadata": {},
   "outputs": [],
   "source": [
    "points = (\n",
    "    all_players\n",
    "    .set_index('Name')\n",
    "    .to_dict()\n",
    "    ['Points']\n",
    ")"
   ]
  },
  {
   "cell_type": "code",
   "execution_count": 8,
   "metadata": {},
   "outputs": [],
   "source": [
    "salaries = (\n",
    "    all_players\n",
    "    .set_index('Name')\n",
    "    .to_dict()\n",
    "    ['Salary']\n",
    ")"
   ]
  },
  {
   "source": [
    "### Linear Programming (LP) Definition\n",
    "\n",
    "The LP problem is defined as a set of linear expressions of the form:\n",
    "$𝑎_1𝑥_1+𝑎_2𝑥_2+𝑎_3𝑥_3+...𝑎_𝑛𝑥_𝑛{<=,=,>=}𝑏$\n",
    "\n",
    "Where $x_1, x_2 ... x_n$ are the _decision_ variables we want to choose (the player names), and $a_1, a_2, ... a_n$ are the _objective_ and _constrains_ variables we have in our data.\n",
    "\n",
    "First, we add the LP sum of the points where $a_i$ is the points each player scored, and $x_i$ is the player. In a real application we will want to have the projected number of points and not the sum of past points, and we will calculated a forecasting model that can identify trends or recent injuries. But for this simple example, we will take that sum as a good estimator for their expected points in the next game. \n"
   ],
   "cell_type": "markdown",
   "metadata": {}
  },
  {
   "cell_type": "code",
   "execution_count": 9,
   "metadata": {},
   "outputs": [],
   "source": [
    "total_score += lpSum([points[i] * player_vars[i] for i in player_vars])"
   ]
  },
  {
   "source": [
    "Second, we add the constrain the salaries where $a_i$ is the salary of each player, and $x_i$ is the player, and the constrain value for the sum of all the salaries of the players we choose not to exceed $60,000:"
   ],
   "cell_type": "markdown",
   "metadata": {}
  },
  {
   "cell_type": "code",
   "execution_count": 10,
   "metadata": {},
   "outputs": [],
   "source": [
    "total_score += lpSum([salaries[i] * player_vars[i] for i in player_vars]) <= 60_000"
   ]
  },
  {
   "source": [
    "Last, we want to make sure that we have the right number of players in each position in the fantasy team. We will create a list of players for each of the positions: Point Guard (PG), Shooting Guard (SG), Small Forward (SF), Power Forward (PF), and Center (C)"
   ],
   "cell_type": "markdown",
   "metadata": {}
  },
  {
   "cell_type": "code",
   "execution_count": 11,
   "metadata": {},
   "outputs": [],
   "source": [
    "pg = (\n",
    "    all_players\n",
    "    .query(\"Position == 'PG'\")\n",
    "    ['Name']\n",
    "    .to_list()\n",
    ")\n",
    "sg = (\n",
    "    all_players\n",
    "    .query(\"Position == 'SG'\")\n",
    "    ['Name']\n",
    "    .to_list()\n",
    ")\n",
    "sf = (\n",
    "    all_players\n",
    "    .query(\"Position == 'SF'\")\n",
    "    ['Name']\n",
    "    .to_list()\n",
    ")\n",
    "pf = (\n",
    "    all_players\n",
    "    .query(\"Position == 'PF'\")\n",
    "    ['Name']\n",
    "    .to_list()\n",
    ")\n",
    "c = (\n",
    "    all_players\n",
    "    .query(\"Position == 'C'\")\n",
    "    ['Name']\n",
    "    .to_list()\n",
    ")"
   ]
  },
  {
   "source": [
    "And add the constrains to have exactly two PG, two SG, two SF, two PF and one C:"
   ],
   "cell_type": "markdown",
   "metadata": {}
  },
  {
   "cell_type": "code",
   "execution_count": 12,
   "metadata": {},
   "outputs": [],
   "source": [
    "# Set Constraints\n",
    "total_score += lpSum([player_vars[i] for i in pg]) == 2\n",
    "total_score += lpSum([player_vars[i] for i in sg]) == 2\n",
    "total_score += lpSum([player_vars[i] for i in sf]) == 2\n",
    "total_score += lpSum([player_vars[i] for i in pf]) == 2\n",
    "total_score += lpSum([player_vars[i] for i in c]) == 1"
   ]
  },
  {
   "source": [
    "### LP Solution\n",
    "\n",
    "Finally, we can solve the set of linear expressions: "
   ],
   "cell_type": "markdown",
   "metadata": {}
  },
  {
   "cell_type": "code",
   "execution_count": 13,
   "metadata": {},
   "outputs": [
    {
     "output_type": "execute_result",
     "data": {
      "text/plain": [
       "1"
      ]
     },
     "metadata": {},
     "execution_count": 13
    }
   ],
   "source": [
    "total_score.solve()"
   ]
  },
  {
   "source": [
    "And filter the list of the possible players to the ones that were selected (their variable value is 1):"
   ],
   "cell_type": "markdown",
   "metadata": {}
  },
  {
   "cell_type": "code",
   "execution_count": 14,
   "metadata": {},
   "outputs": [
    {
     "output_type": "execute_result",
     "data": {
      "text/plain": [
       "[Player_Barnes,_Harrison^,\n",
       " Player_Beasley,_Malik^,\n",
       " Player_Doncic,_Luka^,\n",
       " Player_George,_Paul^,\n",
       " Player_Huerter,_Kevin^,\n",
       " Player_Payton,_Elfrid^,\n",
       " Player_Portis,_Bobby,\n",
       " Player_Sabonis,_Domantas^,\n",
       " Player_Zubac,_Ivica]"
      ]
     },
     "metadata": {},
     "execution_count": 14
    }
   ],
   "source": [
    "( \n",
    "    list(\n",
    "        filter(\n",
    "            lambda x : x.varValue == 1, \n",
    "            total_score.variables()\n",
    "        )\n",
    "    )\n",
    ")\n"
   ]
  },
  {
   "cell_type": "code",
   "execution_count": null,
   "metadata": {},
   "outputs": [],
   "source": []
  }
 ]
}