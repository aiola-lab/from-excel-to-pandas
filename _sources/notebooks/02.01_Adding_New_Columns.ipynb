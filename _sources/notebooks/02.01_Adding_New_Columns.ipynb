{
 "cells": [
  {
   "cell_type": "markdown",
   "metadata": {},
   "source": [
    "# Adding New Columns\n",
    "\n",
    "In the second chapter we will learn how to add new columns to the tables based on a set of functions. This is similar to the Functions that are available in Excel with _=FUNC(A1)_"
   ]
  },
  {
   "cell_type": "markdown",
   "metadata": {},
   "source": [
    "We will start with loading a csv file that is hosted in data.world on the \"Median Value Per Sq ft per zip code in the US\""
   ]
  },
  {
   "cell_type": "code",
   "execution_count": 6,
   "metadata": {},
   "outputs": [],
   "source": [
    "import pandas as pd"
   ]
  },
  {
   "cell_type": "code",
   "execution_count": 7,
   "metadata": {},
   "outputs": [],
   "source": [
    "df = pd.read_csv('https://query.data.world/s/xrfy7fb7oq55gpzh6bvs6jtonv32lk')"
   ]
  },
  {
   "cell_type": "code",
   "execution_count": 8,
   "metadata": {},
   "outputs": [
    {
     "output_type": "execute_result",
     "data": {
      "text/plain": [
       "   RegionID  RegionName      City State     Metro CountyName  SizeRank  \\\n",
       "0     61639       10025  New York    NY  New York   New York         1   \n",
       "1     84654       60657   Chicago    IL   Chicago       Cook         2   \n",
       "2     61637       10023  New York    NY  New York   New York         3   \n",
       "3     84616       60614   Chicago    IL   Chicago       Cook         4   \n",
       "4     93144       79936   El Paso    TX   El Paso    El Paso         5   \n",
       "\n",
       "   1996-04  1996-05  1996-06  ...  2016-12  2017-01  2017-02  2017-03  \\\n",
       "0      NaN      NaN      NaN  ...   1306.0     1290     1277     1272   \n",
       "1    134.0    134.0    133.0  ...    291.0      294      296      295   \n",
       "2      NaN      NaN      NaN  ...   1602.0     1597     1580     1567   \n",
       "3    149.0    150.0    150.0  ...    330.0      333      333      331   \n",
       "4     50.0     51.0     50.0  ...     81.0       81       81       81   \n",
       "\n",
       "   2017-04  2017-05  2017-06  2017-07  2017-08  2017-09  \n",
       "0     1271     1277     1281     1279     1274     1270  \n",
       "1      293      294      294      294      294      295  \n",
       "2     1569     1570     1560     1543     1529     1521  \n",
       "3      330      330      329      328      329      329  \n",
       "4       81       81       82       82       82       82  \n",
       "\n",
       "[5 rows x 265 columns]"
      ],
      "text/html": "<div>\n<style scoped>\n    .dataframe tbody tr th:only-of-type {\n        vertical-align: middle;\n    }\n\n    .dataframe tbody tr th {\n        vertical-align: top;\n    }\n\n    .dataframe thead th {\n        text-align: right;\n    }\n</style>\n<table border=\"1\" class=\"dataframe\">\n  <thead>\n    <tr style=\"text-align: right;\">\n      <th></th>\n      <th>RegionID</th>\n      <th>RegionName</th>\n      <th>City</th>\n      <th>State</th>\n      <th>Metro</th>\n      <th>CountyName</th>\n      <th>SizeRank</th>\n      <th>1996-04</th>\n      <th>1996-05</th>\n      <th>1996-06</th>\n      <th>...</th>\n      <th>2016-12</th>\n      <th>2017-01</th>\n      <th>2017-02</th>\n      <th>2017-03</th>\n      <th>2017-04</th>\n      <th>2017-05</th>\n      <th>2017-06</th>\n      <th>2017-07</th>\n      <th>2017-08</th>\n      <th>2017-09</th>\n    </tr>\n  </thead>\n  <tbody>\n    <tr>\n      <th>0</th>\n      <td>61639</td>\n      <td>10025</td>\n      <td>New York</td>\n      <td>NY</td>\n      <td>New York</td>\n      <td>New York</td>\n      <td>1</td>\n      <td>NaN</td>\n      <td>NaN</td>\n      <td>NaN</td>\n      <td>...</td>\n      <td>1306.0</td>\n      <td>1290</td>\n      <td>1277</td>\n      <td>1272</td>\n      <td>1271</td>\n      <td>1277</td>\n      <td>1281</td>\n      <td>1279</td>\n      <td>1274</td>\n      <td>1270</td>\n    </tr>\n    <tr>\n      <th>1</th>\n      <td>84654</td>\n      <td>60657</td>\n      <td>Chicago</td>\n      <td>IL</td>\n      <td>Chicago</td>\n      <td>Cook</td>\n      <td>2</td>\n      <td>134.0</td>\n      <td>134.0</td>\n      <td>133.0</td>\n      <td>...</td>\n      <td>291.0</td>\n      <td>294</td>\n      <td>296</td>\n      <td>295</td>\n      <td>293</td>\n      <td>294</td>\n      <td>294</td>\n      <td>294</td>\n      <td>294</td>\n      <td>295</td>\n    </tr>\n    <tr>\n      <th>2</th>\n      <td>61637</td>\n      <td>10023</td>\n      <td>New York</td>\n      <td>NY</td>\n      <td>New York</td>\n      <td>New York</td>\n      <td>3</td>\n      <td>NaN</td>\n      <td>NaN</td>\n      <td>NaN</td>\n      <td>...</td>\n      <td>1602.0</td>\n      <td>1597</td>\n      <td>1580</td>\n      <td>1567</td>\n      <td>1569</td>\n      <td>1570</td>\n      <td>1560</td>\n      <td>1543</td>\n      <td>1529</td>\n      <td>1521</td>\n    </tr>\n    <tr>\n      <th>3</th>\n      <td>84616</td>\n      <td>60614</td>\n      <td>Chicago</td>\n      <td>IL</td>\n      <td>Chicago</td>\n      <td>Cook</td>\n      <td>4</td>\n      <td>149.0</td>\n      <td>150.0</td>\n      <td>150.0</td>\n      <td>...</td>\n      <td>330.0</td>\n      <td>333</td>\n      <td>333</td>\n      <td>331</td>\n      <td>330</td>\n      <td>330</td>\n      <td>329</td>\n      <td>328</td>\n      <td>329</td>\n      <td>329</td>\n    </tr>\n    <tr>\n      <th>4</th>\n      <td>93144</td>\n      <td>79936</td>\n      <td>El Paso</td>\n      <td>TX</td>\n      <td>El Paso</td>\n      <td>El Paso</td>\n      <td>5</td>\n      <td>50.0</td>\n      <td>51.0</td>\n      <td>50.0</td>\n      <td>...</td>\n      <td>81.0</td>\n      <td>81</td>\n      <td>81</td>\n      <td>81</td>\n      <td>81</td>\n      <td>81</td>\n      <td>82</td>\n      <td>82</td>\n      <td>82</td>\n      <td>82</td>\n    </tr>\n  </tbody>\n</table>\n<p>5 rows × 265 columns</p>\n</div>"
     },
     "metadata": {},
     "execution_count": 8
    }
   ],
   "source": [
    "df.head()"
   ]
  },
  {
   "cell_type": "markdown",
   "metadata": {},
   "source": [
    "## Constant Value\n",
    "\n",
    "The simplest way to add a column is to put a constant value. Since we know that this data is only for USA we can add a column with the value _USA_ to a new column called _country_. We will be able to later merge this table with data from other countries and then this new column will be useful. \n",
    "\n",
    "For setting a value in a column we will use the [assign](https://pandas.pydata.org/pandas-docs/stable/reference/api/pandas.DataFrame.assign.html) function of Pandas. You will need to scroll all the way to the right of the output to see the new _country_ column."
   ]
  },
  {
   "cell_type": "code",
   "execution_count": 9,
   "metadata": {},
   "outputs": [
    {
     "output_type": "execute_result",
     "data": {
      "text/plain": [
       "       RegionID  RegionName             City State      Metro    CountyName  \\\n",
       "0         61639       10025         New York    NY   New York      New York   \n",
       "1         84654       60657          Chicago    IL    Chicago          Cook   \n",
       "2         61637       10023         New York    NY   New York      New York   \n",
       "3         84616       60614          Chicago    IL    Chicago          Cook   \n",
       "4         93144       79936          El Paso    TX    El Paso       El Paso   \n",
       "...         ...         ...              ...   ...        ...           ...   \n",
       "14750     73940       36564         Fairhope    AL     Daphne       Baldwin   \n",
       "14751     59107        3293        Woodstock    NH  Claremont       Grafton   \n",
       "14752     82396       55713             Buhl    MN     Duluth   Saint Louis   \n",
       "14753     66881       21405        Annapolis    MD  Baltimore  Anne Arundel   \n",
       "14754     94815       85220  Apache Junction    AZ    Phoenix         Pinal   \n",
       "\n",
       "       SizeRank  1996-04  1996-05  1996-06  ...  2017-01  2017-02  2017-03  \\\n",
       "0             1      NaN      NaN      NaN  ...     1290     1277     1272   \n",
       "1             2    134.0    134.0    133.0  ...      294      296      295   \n",
       "2             3      NaN      NaN      NaN  ...     1597     1580     1567   \n",
       "3             4    149.0    150.0    150.0  ...      333      333      331   \n",
       "4             5     50.0     51.0     50.0  ...       81       81       81   \n",
       "...         ...      ...      ...      ...  ...      ...      ...      ...   \n",
       "14750     14751      NaN      NaN      NaN  ...      230      238      243   \n",
       "14751     14752     58.0     59.0     61.0  ...      129      129      128   \n",
       "14752     14753      NaN      NaN      NaN  ...       72       73       74   \n",
       "14753     14754    146.0    149.0    151.0  ...      470      462      457   \n",
       "14754     14755      NaN      NaN      NaN  ...      117      119      119   \n",
       "\n",
       "       2017-04  2017-05  2017-06  2017-07  2017-08  2017-09  country  \n",
       "0         1271     1277     1281     1279     1274     1270      USA  \n",
       "1          293      294      294      294      294      295      USA  \n",
       "2         1569     1570     1560     1543     1529     1521      USA  \n",
       "3          330      330      329      328      329      329      USA  \n",
       "4           81       81       82       82       82       82      USA  \n",
       "...        ...      ...      ...      ...      ...      ...      ...  \n",
       "14750      245      244      245      246      244      240      USA  \n",
       "14751      129      130      130      130      130      131      USA  \n",
       "14752       74       73       73       74       77       79      USA  \n",
       "14753      457      455      454      455      458      460      USA  \n",
       "14754      119      120      121      122      124      124      USA  \n",
       "\n",
       "[14755 rows x 266 columns]"
      ],
      "text/html": "<div>\n<style scoped>\n    .dataframe tbody tr th:only-of-type {\n        vertical-align: middle;\n    }\n\n    .dataframe tbody tr th {\n        vertical-align: top;\n    }\n\n    .dataframe thead th {\n        text-align: right;\n    }\n</style>\n<table border=\"1\" class=\"dataframe\">\n  <thead>\n    <tr style=\"text-align: right;\">\n      <th></th>\n      <th>RegionID</th>\n      <th>RegionName</th>\n      <th>City</th>\n      <th>State</th>\n      <th>Metro</th>\n      <th>CountyName</th>\n      <th>SizeRank</th>\n      <th>1996-04</th>\n      <th>1996-05</th>\n      <th>1996-06</th>\n      <th>...</th>\n      <th>2017-01</th>\n      <th>2017-02</th>\n      <th>2017-03</th>\n      <th>2017-04</th>\n      <th>2017-05</th>\n      <th>2017-06</th>\n      <th>2017-07</th>\n      <th>2017-08</th>\n      <th>2017-09</th>\n      <th>country</th>\n    </tr>\n  </thead>\n  <tbody>\n    <tr>\n      <th>0</th>\n      <td>61639</td>\n      <td>10025</td>\n      <td>New York</td>\n      <td>NY</td>\n      <td>New York</td>\n      <td>New York</td>\n      <td>1</td>\n      <td>NaN</td>\n      <td>NaN</td>\n      <td>NaN</td>\n      <td>...</td>\n      <td>1290</td>\n      <td>1277</td>\n      <td>1272</td>\n      <td>1271</td>\n      <td>1277</td>\n      <td>1281</td>\n      <td>1279</td>\n      <td>1274</td>\n      <td>1270</td>\n      <td>USA</td>\n    </tr>\n    <tr>\n      <th>1</th>\n      <td>84654</td>\n      <td>60657</td>\n      <td>Chicago</td>\n      <td>IL</td>\n      <td>Chicago</td>\n      <td>Cook</td>\n      <td>2</td>\n      <td>134.0</td>\n      <td>134.0</td>\n      <td>133.0</td>\n      <td>...</td>\n      <td>294</td>\n      <td>296</td>\n      <td>295</td>\n      <td>293</td>\n      <td>294</td>\n      <td>294</td>\n      <td>294</td>\n      <td>294</td>\n      <td>295</td>\n      <td>USA</td>\n    </tr>\n    <tr>\n      <th>2</th>\n      <td>61637</td>\n      <td>10023</td>\n      <td>New York</td>\n      <td>NY</td>\n      <td>New York</td>\n      <td>New York</td>\n      <td>3</td>\n      <td>NaN</td>\n      <td>NaN</td>\n      <td>NaN</td>\n      <td>...</td>\n      <td>1597</td>\n      <td>1580</td>\n      <td>1567</td>\n      <td>1569</td>\n      <td>1570</td>\n      <td>1560</td>\n      <td>1543</td>\n      <td>1529</td>\n      <td>1521</td>\n      <td>USA</td>\n    </tr>\n    <tr>\n      <th>3</th>\n      <td>84616</td>\n      <td>60614</td>\n      <td>Chicago</td>\n      <td>IL</td>\n      <td>Chicago</td>\n      <td>Cook</td>\n      <td>4</td>\n      <td>149.0</td>\n      <td>150.0</td>\n      <td>150.0</td>\n      <td>...</td>\n      <td>333</td>\n      <td>333</td>\n      <td>331</td>\n      <td>330</td>\n      <td>330</td>\n      <td>329</td>\n      <td>328</td>\n      <td>329</td>\n      <td>329</td>\n      <td>USA</td>\n    </tr>\n    <tr>\n      <th>4</th>\n      <td>93144</td>\n      <td>79936</td>\n      <td>El Paso</td>\n      <td>TX</td>\n      <td>El Paso</td>\n      <td>El Paso</td>\n      <td>5</td>\n      <td>50.0</td>\n      <td>51.0</td>\n      <td>50.0</td>\n      <td>...</td>\n      <td>81</td>\n      <td>81</td>\n      <td>81</td>\n      <td>81</td>\n      <td>81</td>\n      <td>82</td>\n      <td>82</td>\n      <td>82</td>\n      <td>82</td>\n      <td>USA</td>\n    </tr>\n    <tr>\n      <th>...</th>\n      <td>...</td>\n      <td>...</td>\n      <td>...</td>\n      <td>...</td>\n      <td>...</td>\n      <td>...</td>\n      <td>...</td>\n      <td>...</td>\n      <td>...</td>\n      <td>...</td>\n      <td>...</td>\n      <td>...</td>\n      <td>...</td>\n      <td>...</td>\n      <td>...</td>\n      <td>...</td>\n      <td>...</td>\n      <td>...</td>\n      <td>...</td>\n      <td>...</td>\n      <td>...</td>\n    </tr>\n    <tr>\n      <th>14750</th>\n      <td>73940</td>\n      <td>36564</td>\n      <td>Fairhope</td>\n      <td>AL</td>\n      <td>Daphne</td>\n      <td>Baldwin</td>\n      <td>14751</td>\n      <td>NaN</td>\n      <td>NaN</td>\n      <td>NaN</td>\n      <td>...</td>\n      <td>230</td>\n      <td>238</td>\n      <td>243</td>\n      <td>245</td>\n      <td>244</td>\n      <td>245</td>\n      <td>246</td>\n      <td>244</td>\n      <td>240</td>\n      <td>USA</td>\n    </tr>\n    <tr>\n      <th>14751</th>\n      <td>59107</td>\n      <td>3293</td>\n      <td>Woodstock</td>\n      <td>NH</td>\n      <td>Claremont</td>\n      <td>Grafton</td>\n      <td>14752</td>\n      <td>58.0</td>\n      <td>59.0</td>\n      <td>61.0</td>\n      <td>...</td>\n      <td>129</td>\n      <td>129</td>\n      <td>128</td>\n      <td>129</td>\n      <td>130</td>\n      <td>130</td>\n      <td>130</td>\n      <td>130</td>\n      <td>131</td>\n      <td>USA</td>\n    </tr>\n    <tr>\n      <th>14752</th>\n      <td>82396</td>\n      <td>55713</td>\n      <td>Buhl</td>\n      <td>MN</td>\n      <td>Duluth</td>\n      <td>Saint Louis</td>\n      <td>14753</td>\n      <td>NaN</td>\n      <td>NaN</td>\n      <td>NaN</td>\n      <td>...</td>\n      <td>72</td>\n      <td>73</td>\n      <td>74</td>\n      <td>74</td>\n      <td>73</td>\n      <td>73</td>\n      <td>74</td>\n      <td>77</td>\n      <td>79</td>\n      <td>USA</td>\n    </tr>\n    <tr>\n      <th>14753</th>\n      <td>66881</td>\n      <td>21405</td>\n      <td>Annapolis</td>\n      <td>MD</td>\n      <td>Baltimore</td>\n      <td>Anne Arundel</td>\n      <td>14754</td>\n      <td>146.0</td>\n      <td>149.0</td>\n      <td>151.0</td>\n      <td>...</td>\n      <td>470</td>\n      <td>462</td>\n      <td>457</td>\n      <td>457</td>\n      <td>455</td>\n      <td>454</td>\n      <td>455</td>\n      <td>458</td>\n      <td>460</td>\n      <td>USA</td>\n    </tr>\n    <tr>\n      <th>14754</th>\n      <td>94815</td>\n      <td>85220</td>\n      <td>Apache Junction</td>\n      <td>AZ</td>\n      <td>Phoenix</td>\n      <td>Pinal</td>\n      <td>14755</td>\n      <td>NaN</td>\n      <td>NaN</td>\n      <td>NaN</td>\n      <td>...</td>\n      <td>117</td>\n      <td>119</td>\n      <td>119</td>\n      <td>119</td>\n      <td>120</td>\n      <td>121</td>\n      <td>122</td>\n      <td>124</td>\n      <td>124</td>\n      <td>USA</td>\n    </tr>\n  </tbody>\n</table>\n<p>14755 rows × 266 columns</p>\n</div>"
     },
     "metadata": {},
     "execution_count": 9
    }
   ],
   "source": [
    "(\n",
    "    df\n",
    "    .assign(country=\"USA\")\n",
    ")"
   ]
  },
  {
   "source": [
    "## Function Equivalent\n",
    "\n",
    "Most of the functions that you are used to use in Excel have a direct Equivalent in Pands.\n",
    "\n",
    "For example: ```=TRIM('cell for trimming')``` can be replaced by _strip_:"
   ],
   "cell_type": "markdown",
   "metadata": {}
  },
  {
   "cell_type": "code",
   "execution_count": 11,
   "metadata": {},
   "outputs": [
    {
     "output_type": "execute_result",
     "data": {
      "text/plain": [
       "   RegionID  RegionName      City State     Metro CountyName  SizeRank  \\\n",
       "0     61639       10025  New York    NY  New York   New York         1   \n",
       "1     84654       60657   Chicago    IL   Chicago       Cook         2   \n",
       "2     61637       10023  New York    NY  New York   New York         3   \n",
       "3     84616       60614   Chicago    IL   Chicago       Cook         4   \n",
       "4     93144       79936   El Paso    TX   El Paso    El Paso         5   \n",
       "\n",
       "   1996-04  1996-05  1996-06  ...  2017-01  2017-02  2017-03  2017-04  \\\n",
       "0      NaN      NaN      NaN  ...     1290     1277     1272     1271   \n",
       "1    134.0    134.0    133.0  ...      294      296      295      293   \n",
       "2      NaN      NaN      NaN  ...     1597     1580     1567     1569   \n",
       "3    149.0    150.0    150.0  ...      333      333      331      330   \n",
       "4     50.0     51.0     50.0  ...       81       81       81       81   \n",
       "\n",
       "   2017-05  2017-06  2017-07  2017-08  2017-09   trimmed  \n",
       "0     1277     1281     1279     1274     1270  New York  \n",
       "1      294      294      294      294      295   Chicago  \n",
       "2     1570     1560     1543     1529     1521  New York  \n",
       "3      330      329      328      329      329   Chicago  \n",
       "4       81       82       82       82       82   El Paso  \n",
       "\n",
       "[5 rows x 266 columns]"
      ],
      "text/html": "<div>\n<style scoped>\n    .dataframe tbody tr th:only-of-type {\n        vertical-align: middle;\n    }\n\n    .dataframe tbody tr th {\n        vertical-align: top;\n    }\n\n    .dataframe thead th {\n        text-align: right;\n    }\n</style>\n<table border=\"1\" class=\"dataframe\">\n  <thead>\n    <tr style=\"text-align: right;\">\n      <th></th>\n      <th>RegionID</th>\n      <th>RegionName</th>\n      <th>City</th>\n      <th>State</th>\n      <th>Metro</th>\n      <th>CountyName</th>\n      <th>SizeRank</th>\n      <th>1996-04</th>\n      <th>1996-05</th>\n      <th>1996-06</th>\n      <th>...</th>\n      <th>2017-01</th>\n      <th>2017-02</th>\n      <th>2017-03</th>\n      <th>2017-04</th>\n      <th>2017-05</th>\n      <th>2017-06</th>\n      <th>2017-07</th>\n      <th>2017-08</th>\n      <th>2017-09</th>\n      <th>trimmed</th>\n    </tr>\n  </thead>\n  <tbody>\n    <tr>\n      <th>0</th>\n      <td>61639</td>\n      <td>10025</td>\n      <td>New York</td>\n      <td>NY</td>\n      <td>New York</td>\n      <td>New York</td>\n      <td>1</td>\n      <td>NaN</td>\n      <td>NaN</td>\n      <td>NaN</td>\n      <td>...</td>\n      <td>1290</td>\n      <td>1277</td>\n      <td>1272</td>\n      <td>1271</td>\n      <td>1277</td>\n      <td>1281</td>\n      <td>1279</td>\n      <td>1274</td>\n      <td>1270</td>\n      <td>New York</td>\n    </tr>\n    <tr>\n      <th>1</th>\n      <td>84654</td>\n      <td>60657</td>\n      <td>Chicago</td>\n      <td>IL</td>\n      <td>Chicago</td>\n      <td>Cook</td>\n      <td>2</td>\n      <td>134.0</td>\n      <td>134.0</td>\n      <td>133.0</td>\n      <td>...</td>\n      <td>294</td>\n      <td>296</td>\n      <td>295</td>\n      <td>293</td>\n      <td>294</td>\n      <td>294</td>\n      <td>294</td>\n      <td>294</td>\n      <td>295</td>\n      <td>Chicago</td>\n    </tr>\n    <tr>\n      <th>2</th>\n      <td>61637</td>\n      <td>10023</td>\n      <td>New York</td>\n      <td>NY</td>\n      <td>New York</td>\n      <td>New York</td>\n      <td>3</td>\n      <td>NaN</td>\n      <td>NaN</td>\n      <td>NaN</td>\n      <td>...</td>\n      <td>1597</td>\n      <td>1580</td>\n      <td>1567</td>\n      <td>1569</td>\n      <td>1570</td>\n      <td>1560</td>\n      <td>1543</td>\n      <td>1529</td>\n      <td>1521</td>\n      <td>New York</td>\n    </tr>\n    <tr>\n      <th>3</th>\n      <td>84616</td>\n      <td>60614</td>\n      <td>Chicago</td>\n      <td>IL</td>\n      <td>Chicago</td>\n      <td>Cook</td>\n      <td>4</td>\n      <td>149.0</td>\n      <td>150.0</td>\n      <td>150.0</td>\n      <td>...</td>\n      <td>333</td>\n      <td>333</td>\n      <td>331</td>\n      <td>330</td>\n      <td>330</td>\n      <td>329</td>\n      <td>328</td>\n      <td>329</td>\n      <td>329</td>\n      <td>Chicago</td>\n    </tr>\n    <tr>\n      <th>4</th>\n      <td>93144</td>\n      <td>79936</td>\n      <td>El Paso</td>\n      <td>TX</td>\n      <td>El Paso</td>\n      <td>El Paso</td>\n      <td>5</td>\n      <td>50.0</td>\n      <td>51.0</td>\n      <td>50.0</td>\n      <td>...</td>\n      <td>81</td>\n      <td>81</td>\n      <td>81</td>\n      <td>81</td>\n      <td>81</td>\n      <td>82</td>\n      <td>82</td>\n      <td>82</td>\n      <td>82</td>\n      <td>El Paso</td>\n    </tr>\n  </tbody>\n</table>\n<p>5 rows × 266 columns</p>\n</div>"
     },
     "metadata": {},
     "execution_count": 11
    }
   ],
   "source": [
    "(\n",
    "    df\n",
    "    .assign(trimmed = df.City.str.strip())\n",
    "    .head()\n",
    ")"
   ]
  },
  {
   "source": [
    "or to remove spaces between words, you will need to run 'Find and Replace' option in Excel and in Pandas we can use the _replace_ function (note the last column that was added to the Dataframe):"
   ],
   "cell_type": "markdown",
   "metadata": {}
  },
  {
   "cell_type": "code",
   "execution_count": 13,
   "metadata": {},
   "outputs": [
    {
     "output_type": "execute_result",
     "data": {
      "text/plain": [
       "   RegionID  RegionName      City State     Metro CountyName  SizeRank  \\\n",
       "0     61639       10025  New York    NY  New York   New York         1   \n",
       "1     84654       60657   Chicago    IL   Chicago       Cook         2   \n",
       "2     61637       10023  New York    NY  New York   New York         3   \n",
       "3     84616       60614   Chicago    IL   Chicago       Cook         4   \n",
       "4     93144       79936   El Paso    TX   El Paso    El Paso         5   \n",
       "\n",
       "   1996-04  1996-05  1996-06  ...  2017-01  2017-02  2017-03  2017-04  \\\n",
       "0      NaN      NaN      NaN  ...     1290     1277     1272     1271   \n",
       "1    134.0    134.0    133.0  ...      294      296      295      293   \n",
       "2      NaN      NaN      NaN  ...     1597     1580     1567     1569   \n",
       "3    149.0    150.0    150.0  ...      333      333      331      330   \n",
       "4     50.0     51.0     50.0  ...       81       81       81       81   \n",
       "\n",
       "   2017-05  2017-06  2017-07  2017-08  2017-09  no_space  \n",
       "0     1277     1281     1279     1274     1270   NewYork  \n",
       "1      294      294      294      294      295   Chicago  \n",
       "2     1570     1560     1543     1529     1521   NewYork  \n",
       "3      330      329      328      329      329   Chicago  \n",
       "4       81       82       82       82       82    ElPaso  \n",
       "\n",
       "[5 rows x 266 columns]"
      ],
      "text/html": "<div>\n<style scoped>\n    .dataframe tbody tr th:only-of-type {\n        vertical-align: middle;\n    }\n\n    .dataframe tbody tr th {\n        vertical-align: top;\n    }\n\n    .dataframe thead th {\n        text-align: right;\n    }\n</style>\n<table border=\"1\" class=\"dataframe\">\n  <thead>\n    <tr style=\"text-align: right;\">\n      <th></th>\n      <th>RegionID</th>\n      <th>RegionName</th>\n      <th>City</th>\n      <th>State</th>\n      <th>Metro</th>\n      <th>CountyName</th>\n      <th>SizeRank</th>\n      <th>1996-04</th>\n      <th>1996-05</th>\n      <th>1996-06</th>\n      <th>...</th>\n      <th>2017-01</th>\n      <th>2017-02</th>\n      <th>2017-03</th>\n      <th>2017-04</th>\n      <th>2017-05</th>\n      <th>2017-06</th>\n      <th>2017-07</th>\n      <th>2017-08</th>\n      <th>2017-09</th>\n      <th>no_space</th>\n    </tr>\n  </thead>\n  <tbody>\n    <tr>\n      <th>0</th>\n      <td>61639</td>\n      <td>10025</td>\n      <td>New York</td>\n      <td>NY</td>\n      <td>New York</td>\n      <td>New York</td>\n      <td>1</td>\n      <td>NaN</td>\n      <td>NaN</td>\n      <td>NaN</td>\n      <td>...</td>\n      <td>1290</td>\n      <td>1277</td>\n      <td>1272</td>\n      <td>1271</td>\n      <td>1277</td>\n      <td>1281</td>\n      <td>1279</td>\n      <td>1274</td>\n      <td>1270</td>\n      <td>NewYork</td>\n    </tr>\n    <tr>\n      <th>1</th>\n      <td>84654</td>\n      <td>60657</td>\n      <td>Chicago</td>\n      <td>IL</td>\n      <td>Chicago</td>\n      <td>Cook</td>\n      <td>2</td>\n      <td>134.0</td>\n      <td>134.0</td>\n      <td>133.0</td>\n      <td>...</td>\n      <td>294</td>\n      <td>296</td>\n      <td>295</td>\n      <td>293</td>\n      <td>294</td>\n      <td>294</td>\n      <td>294</td>\n      <td>294</td>\n      <td>295</td>\n      <td>Chicago</td>\n    </tr>\n    <tr>\n      <th>2</th>\n      <td>61637</td>\n      <td>10023</td>\n      <td>New York</td>\n      <td>NY</td>\n      <td>New York</td>\n      <td>New York</td>\n      <td>3</td>\n      <td>NaN</td>\n      <td>NaN</td>\n      <td>NaN</td>\n      <td>...</td>\n      <td>1597</td>\n      <td>1580</td>\n      <td>1567</td>\n      <td>1569</td>\n      <td>1570</td>\n      <td>1560</td>\n      <td>1543</td>\n      <td>1529</td>\n      <td>1521</td>\n      <td>NewYork</td>\n    </tr>\n    <tr>\n      <th>3</th>\n      <td>84616</td>\n      <td>60614</td>\n      <td>Chicago</td>\n      <td>IL</td>\n      <td>Chicago</td>\n      <td>Cook</td>\n      <td>4</td>\n      <td>149.0</td>\n      <td>150.0</td>\n      <td>150.0</td>\n      <td>...</td>\n      <td>333</td>\n      <td>333</td>\n      <td>331</td>\n      <td>330</td>\n      <td>330</td>\n      <td>329</td>\n      <td>328</td>\n      <td>329</td>\n      <td>329</td>\n      <td>Chicago</td>\n    </tr>\n    <tr>\n      <th>4</th>\n      <td>93144</td>\n      <td>79936</td>\n      <td>El Paso</td>\n      <td>TX</td>\n      <td>El Paso</td>\n      <td>El Paso</td>\n      <td>5</td>\n      <td>50.0</td>\n      <td>51.0</td>\n      <td>50.0</td>\n      <td>...</td>\n      <td>81</td>\n      <td>81</td>\n      <td>81</td>\n      <td>81</td>\n      <td>81</td>\n      <td>82</td>\n      <td>82</td>\n      <td>82</td>\n      <td>82</td>\n      <td>ElPaso</td>\n    </tr>\n  </tbody>\n</table>\n<p>5 rows × 266 columns</p>\n</div>"
     },
     "metadata": {},
     "execution_count": 13
    }
   ],
   "source": [
    "(\n",
    "    df\n",
    "    .assign(no_space = df.City.str.replace(' ',''))\n",
    "    .head()\n",
    ")"
   ]
  },
  {
   "source": [
    "### More Textual Functions\n",
    "\n",
    "Another commonly used Excel functions are LEFT and RIGHT (```=LEFT(Cell, number of digits)```). In Pandas, we can use the '```:```', which is used for _until_ or _from_:"
   ],
   "cell_type": "markdown",
   "metadata": {}
  },
  {
   "cell_type": "code",
   "execution_count": 15,
   "metadata": {},
   "outputs": [
    {
     "output_type": "execute_result",
     "data": {
      "text/plain": [
       "   RegionID  RegionName      City State     Metro CountyName  SizeRank  \\\n",
       "0     61639       10025  New York    NY  New York   New York         1   \n",
       "1     84654       60657   Chicago    IL   Chicago       Cook         2   \n",
       "2     61637       10023  New York    NY  New York   New York         3   \n",
       "3     84616       60614   Chicago    IL   Chicago       Cook         4   \n",
       "4     93144       79936   El Paso    TX   El Paso    El Paso         5   \n",
       "\n",
       "   1996-04  1996-05  1996-06  ...  2017-02  2017-03  2017-04  2017-05  \\\n",
       "0      NaN      NaN      NaN  ...     1277     1272     1271     1277   \n",
       "1    134.0    134.0    133.0  ...      296      295      293      294   \n",
       "2      NaN      NaN      NaN  ...     1580     1567     1569     1570   \n",
       "3    149.0    150.0    150.0  ...      333      331      330      330   \n",
       "4     50.0     51.0     50.0  ...       81       81       81       81   \n",
       "\n",
       "   2017-06  2017-07  2017-08  2017-09  left_city  right_city  \n",
       "0     1281     1279     1274     1270      New Y        York  \n",
       "1      294      294      294      295      Chica       icago  \n",
       "2     1560     1543     1529     1521      New Y        York  \n",
       "3      329      328      329      329      Chica       icago  \n",
       "4       82       82       82       82      El Pa        Paso  \n",
       "\n",
       "[5 rows x 267 columns]"
      ],
      "text/html": "<div>\n<style scoped>\n    .dataframe tbody tr th:only-of-type {\n        vertical-align: middle;\n    }\n\n    .dataframe tbody tr th {\n        vertical-align: top;\n    }\n\n    .dataframe thead th {\n        text-align: right;\n    }\n</style>\n<table border=\"1\" class=\"dataframe\">\n  <thead>\n    <tr style=\"text-align: right;\">\n      <th></th>\n      <th>RegionID</th>\n      <th>RegionName</th>\n      <th>City</th>\n      <th>State</th>\n      <th>Metro</th>\n      <th>CountyName</th>\n      <th>SizeRank</th>\n      <th>1996-04</th>\n      <th>1996-05</th>\n      <th>1996-06</th>\n      <th>...</th>\n      <th>2017-02</th>\n      <th>2017-03</th>\n      <th>2017-04</th>\n      <th>2017-05</th>\n      <th>2017-06</th>\n      <th>2017-07</th>\n      <th>2017-08</th>\n      <th>2017-09</th>\n      <th>left_city</th>\n      <th>right_city</th>\n    </tr>\n  </thead>\n  <tbody>\n    <tr>\n      <th>0</th>\n      <td>61639</td>\n      <td>10025</td>\n      <td>New York</td>\n      <td>NY</td>\n      <td>New York</td>\n      <td>New York</td>\n      <td>1</td>\n      <td>NaN</td>\n      <td>NaN</td>\n      <td>NaN</td>\n      <td>...</td>\n      <td>1277</td>\n      <td>1272</td>\n      <td>1271</td>\n      <td>1277</td>\n      <td>1281</td>\n      <td>1279</td>\n      <td>1274</td>\n      <td>1270</td>\n      <td>New Y</td>\n      <td>York</td>\n    </tr>\n    <tr>\n      <th>1</th>\n      <td>84654</td>\n      <td>60657</td>\n      <td>Chicago</td>\n      <td>IL</td>\n      <td>Chicago</td>\n      <td>Cook</td>\n      <td>2</td>\n      <td>134.0</td>\n      <td>134.0</td>\n      <td>133.0</td>\n      <td>...</td>\n      <td>296</td>\n      <td>295</td>\n      <td>293</td>\n      <td>294</td>\n      <td>294</td>\n      <td>294</td>\n      <td>294</td>\n      <td>295</td>\n      <td>Chica</td>\n      <td>icago</td>\n    </tr>\n    <tr>\n      <th>2</th>\n      <td>61637</td>\n      <td>10023</td>\n      <td>New York</td>\n      <td>NY</td>\n      <td>New York</td>\n      <td>New York</td>\n      <td>3</td>\n      <td>NaN</td>\n      <td>NaN</td>\n      <td>NaN</td>\n      <td>...</td>\n      <td>1580</td>\n      <td>1567</td>\n      <td>1569</td>\n      <td>1570</td>\n      <td>1560</td>\n      <td>1543</td>\n      <td>1529</td>\n      <td>1521</td>\n      <td>New Y</td>\n      <td>York</td>\n    </tr>\n    <tr>\n      <th>3</th>\n      <td>84616</td>\n      <td>60614</td>\n      <td>Chicago</td>\n      <td>IL</td>\n      <td>Chicago</td>\n      <td>Cook</td>\n      <td>4</td>\n      <td>149.0</td>\n      <td>150.0</td>\n      <td>150.0</td>\n      <td>...</td>\n      <td>333</td>\n      <td>331</td>\n      <td>330</td>\n      <td>330</td>\n      <td>329</td>\n      <td>328</td>\n      <td>329</td>\n      <td>329</td>\n      <td>Chica</td>\n      <td>icago</td>\n    </tr>\n    <tr>\n      <th>4</th>\n      <td>93144</td>\n      <td>79936</td>\n      <td>El Paso</td>\n      <td>TX</td>\n      <td>El Paso</td>\n      <td>El Paso</td>\n      <td>5</td>\n      <td>50.0</td>\n      <td>51.0</td>\n      <td>50.0</td>\n      <td>...</td>\n      <td>81</td>\n      <td>81</td>\n      <td>81</td>\n      <td>81</td>\n      <td>82</td>\n      <td>82</td>\n      <td>82</td>\n      <td>82</td>\n      <td>El Pa</td>\n      <td>Paso</td>\n    </tr>\n  </tbody>\n</table>\n<p>5 rows × 267 columns</p>\n</div>"
     },
     "metadata": {},
     "execution_count": 15
    }
   ],
   "source": [
    "(\n",
    "    df\n",
    "    .assign(left_city = df.City.str[:5]) # until the 5th character\n",
    "    .assign(right_city = df.City.str[-5:]) # from the 5th characters from the end (=right)\n",
    "    .head()\n",
    ")"
   ]
  },
  {
   "cell_type": "markdown",
   "metadata": {},
   "source": [
    "## Using Lambda\n",
    "\n",
    "Lambda is a bit confusing at first glance, however, it is used to define a the function that we want to apply on a each row or columns of the table. For example, let's define two new columns: one that is calculating the quantile of the region compare to all the regions, and one that is checking if the state is one of ['NY','NJ']\n",
    "\n",
    "If you scroll all the way to the right on the table below, you can see the new two columns at the end."
   ]
  },
  {
   "cell_type": "code",
   "execution_count": 20,
   "metadata": {},
   "outputs": [
    {
     "output_type": "execute_result",
     "data": {
      "text/plain": [
       "       RegionID  RegionName             City State      Metro    CountyName  \\\n",
       "0         61639       10025         New York    NY   New York      New York   \n",
       "1         84654       60657          Chicago    IL    Chicago          Cook   \n",
       "2         61637       10023         New York    NY   New York      New York   \n",
       "3         84616       60614          Chicago    IL    Chicago          Cook   \n",
       "4         93144       79936          El Paso    TX    El Paso       El Paso   \n",
       "...         ...         ...              ...   ...        ...           ...   \n",
       "14750     73940       36564         Fairhope    AL     Daphne       Baldwin   \n",
       "14751     59107        3293        Woodstock    NH  Claremont       Grafton   \n",
       "14752     82396       55713             Buhl    MN     Duluth   Saint Louis   \n",
       "14753     66881       21405        Annapolis    MD  Baltimore  Anne Arundel   \n",
       "14754     94815       85220  Apache Junction    AZ    Phoenix         Pinal   \n",
       "\n",
       "       SizeRank  1996-04  1996-05  1996-06  ...  2017-02  2017-03  2017-04  \\\n",
       "0             1      NaN      NaN      NaN  ...     1277     1272     1271   \n",
       "1             2    134.0    134.0    133.0  ...      296      295      293   \n",
       "2             3      NaN      NaN      NaN  ...     1580     1567     1569   \n",
       "3             4    149.0    150.0    150.0  ...      333      331      330   \n",
       "4             5     50.0     51.0     50.0  ...       81       81       81   \n",
       "...         ...      ...      ...      ...  ...      ...      ...      ...   \n",
       "14750     14751      NaN      NaN      NaN  ...      238      243      245   \n",
       "14751     14752     58.0     59.0     61.0  ...      129      128      129   \n",
       "14752     14753      NaN      NaN      NaN  ...       73       74       74   \n",
       "14753     14754    146.0    149.0    151.0  ...      462      457      457   \n",
       "14754     14755      NaN      NaN      NaN  ...      119      119      119   \n",
       "\n",
       "       2017-05  2017-06  2017-07  2017-08  2017-09  last_quantile  is_NY_or_NJ  \n",
       "0         1277     1281     1279     1274     1270       0.702434         True  \n",
       "1          294      294      294      294      295       0.163164        False  \n",
       "2         1570     1560     1543     1529     1521       0.841261         True  \n",
       "3          330      329      328      329      329       0.181969        False  \n",
       "4           81       82       82       82       82       0.045354        False  \n",
       "...        ...      ...      ...      ...      ...            ...          ...  \n",
       "14750      244      245      246      244      240       0.132743        False  \n",
       "14751      130      130      130      130      131       0.072456        False  \n",
       "14752       73       73       74       77       79       0.043695        False  \n",
       "14753      455      454      455      458      460       0.254425        False  \n",
       "14754      120      121      122      124      124       0.068584        False  \n",
       "\n",
       "[14755 rows x 267 columns]"
      ],
      "text/html": "<div>\n<style scoped>\n    .dataframe tbody tr th:only-of-type {\n        vertical-align: middle;\n    }\n\n    .dataframe tbody tr th {\n        vertical-align: top;\n    }\n\n    .dataframe thead th {\n        text-align: right;\n    }\n</style>\n<table border=\"1\" class=\"dataframe\">\n  <thead>\n    <tr style=\"text-align: right;\">\n      <th></th>\n      <th>RegionID</th>\n      <th>RegionName</th>\n      <th>City</th>\n      <th>State</th>\n      <th>Metro</th>\n      <th>CountyName</th>\n      <th>SizeRank</th>\n      <th>1996-04</th>\n      <th>1996-05</th>\n      <th>1996-06</th>\n      <th>...</th>\n      <th>2017-02</th>\n      <th>2017-03</th>\n      <th>2017-04</th>\n      <th>2017-05</th>\n      <th>2017-06</th>\n      <th>2017-07</th>\n      <th>2017-08</th>\n      <th>2017-09</th>\n      <th>last_quantile</th>\n      <th>is_NY_or_NJ</th>\n    </tr>\n  </thead>\n  <tbody>\n    <tr>\n      <th>0</th>\n      <td>61639</td>\n      <td>10025</td>\n      <td>New York</td>\n      <td>NY</td>\n      <td>New York</td>\n      <td>New York</td>\n      <td>1</td>\n      <td>NaN</td>\n      <td>NaN</td>\n      <td>NaN</td>\n      <td>...</td>\n      <td>1277</td>\n      <td>1272</td>\n      <td>1271</td>\n      <td>1277</td>\n      <td>1281</td>\n      <td>1279</td>\n      <td>1274</td>\n      <td>1270</td>\n      <td>0.702434</td>\n      <td>True</td>\n    </tr>\n    <tr>\n      <th>1</th>\n      <td>84654</td>\n      <td>60657</td>\n      <td>Chicago</td>\n      <td>IL</td>\n      <td>Chicago</td>\n      <td>Cook</td>\n      <td>2</td>\n      <td>134.0</td>\n      <td>134.0</td>\n      <td>133.0</td>\n      <td>...</td>\n      <td>296</td>\n      <td>295</td>\n      <td>293</td>\n      <td>294</td>\n      <td>294</td>\n      <td>294</td>\n      <td>294</td>\n      <td>295</td>\n      <td>0.163164</td>\n      <td>False</td>\n    </tr>\n    <tr>\n      <th>2</th>\n      <td>61637</td>\n      <td>10023</td>\n      <td>New York</td>\n      <td>NY</td>\n      <td>New York</td>\n      <td>New York</td>\n      <td>3</td>\n      <td>NaN</td>\n      <td>NaN</td>\n      <td>NaN</td>\n      <td>...</td>\n      <td>1580</td>\n      <td>1567</td>\n      <td>1569</td>\n      <td>1570</td>\n      <td>1560</td>\n      <td>1543</td>\n      <td>1529</td>\n      <td>1521</td>\n      <td>0.841261</td>\n      <td>True</td>\n    </tr>\n    <tr>\n      <th>3</th>\n      <td>84616</td>\n      <td>60614</td>\n      <td>Chicago</td>\n      <td>IL</td>\n      <td>Chicago</td>\n      <td>Cook</td>\n      <td>4</td>\n      <td>149.0</td>\n      <td>150.0</td>\n      <td>150.0</td>\n      <td>...</td>\n      <td>333</td>\n      <td>331</td>\n      <td>330</td>\n      <td>330</td>\n      <td>329</td>\n      <td>328</td>\n      <td>329</td>\n      <td>329</td>\n      <td>0.181969</td>\n      <td>False</td>\n    </tr>\n    <tr>\n      <th>4</th>\n      <td>93144</td>\n      <td>79936</td>\n      <td>El Paso</td>\n      <td>TX</td>\n      <td>El Paso</td>\n      <td>El Paso</td>\n      <td>5</td>\n      <td>50.0</td>\n      <td>51.0</td>\n      <td>50.0</td>\n      <td>...</td>\n      <td>81</td>\n      <td>81</td>\n      <td>81</td>\n      <td>81</td>\n      <td>82</td>\n      <td>82</td>\n      <td>82</td>\n      <td>82</td>\n      <td>0.045354</td>\n      <td>False</td>\n    </tr>\n    <tr>\n      <th>...</th>\n      <td>...</td>\n      <td>...</td>\n      <td>...</td>\n      <td>...</td>\n      <td>...</td>\n      <td>...</td>\n      <td>...</td>\n      <td>...</td>\n      <td>...</td>\n      <td>...</td>\n      <td>...</td>\n      <td>...</td>\n      <td>...</td>\n      <td>...</td>\n      <td>...</td>\n      <td>...</td>\n      <td>...</td>\n      <td>...</td>\n      <td>...</td>\n      <td>...</td>\n      <td>...</td>\n    </tr>\n    <tr>\n      <th>14750</th>\n      <td>73940</td>\n      <td>36564</td>\n      <td>Fairhope</td>\n      <td>AL</td>\n      <td>Daphne</td>\n      <td>Baldwin</td>\n      <td>14751</td>\n      <td>NaN</td>\n      <td>NaN</td>\n      <td>NaN</td>\n      <td>...</td>\n      <td>238</td>\n      <td>243</td>\n      <td>245</td>\n      <td>244</td>\n      <td>245</td>\n      <td>246</td>\n      <td>244</td>\n      <td>240</td>\n      <td>0.132743</td>\n      <td>False</td>\n    </tr>\n    <tr>\n      <th>14751</th>\n      <td>59107</td>\n      <td>3293</td>\n      <td>Woodstock</td>\n      <td>NH</td>\n      <td>Claremont</td>\n      <td>Grafton</td>\n      <td>14752</td>\n      <td>58.0</td>\n      <td>59.0</td>\n      <td>61.0</td>\n      <td>...</td>\n      <td>129</td>\n      <td>128</td>\n      <td>129</td>\n      <td>130</td>\n      <td>130</td>\n      <td>130</td>\n      <td>130</td>\n      <td>131</td>\n      <td>0.072456</td>\n      <td>False</td>\n    </tr>\n    <tr>\n      <th>14752</th>\n      <td>82396</td>\n      <td>55713</td>\n      <td>Buhl</td>\n      <td>MN</td>\n      <td>Duluth</td>\n      <td>Saint Louis</td>\n      <td>14753</td>\n      <td>NaN</td>\n      <td>NaN</td>\n      <td>NaN</td>\n      <td>...</td>\n      <td>73</td>\n      <td>74</td>\n      <td>74</td>\n      <td>73</td>\n      <td>73</td>\n      <td>74</td>\n      <td>77</td>\n      <td>79</td>\n      <td>0.043695</td>\n      <td>False</td>\n    </tr>\n    <tr>\n      <th>14753</th>\n      <td>66881</td>\n      <td>21405</td>\n      <td>Annapolis</td>\n      <td>MD</td>\n      <td>Baltimore</td>\n      <td>Anne Arundel</td>\n      <td>14754</td>\n      <td>146.0</td>\n      <td>149.0</td>\n      <td>151.0</td>\n      <td>...</td>\n      <td>462</td>\n      <td>457</td>\n      <td>457</td>\n      <td>455</td>\n      <td>454</td>\n      <td>455</td>\n      <td>458</td>\n      <td>460</td>\n      <td>0.254425</td>\n      <td>False</td>\n    </tr>\n    <tr>\n      <th>14754</th>\n      <td>94815</td>\n      <td>85220</td>\n      <td>Apache Junction</td>\n      <td>AZ</td>\n      <td>Phoenix</td>\n      <td>Pinal</td>\n      <td>14755</td>\n      <td>NaN</td>\n      <td>NaN</td>\n      <td>NaN</td>\n      <td>...</td>\n      <td>119</td>\n      <td>119</td>\n      <td>119</td>\n      <td>120</td>\n      <td>121</td>\n      <td>122</td>\n      <td>124</td>\n      <td>124</td>\n      <td>0.068584</td>\n      <td>False</td>\n    </tr>\n  </tbody>\n</table>\n<p>14755 rows × 267 columns</p>\n</div>"
     },
     "metadata": {},
     "execution_count": 20
    }
   ],
   "source": [
    "(\n",
    "    df\n",
    "    .assign(last_quantile=lambda x : x['2017-09']/max(x['2017-09']))    \n",
    "    .assign(is_NY_or_NJ=lambda x : x.State.isin(['NY','NJ']))\n",
    ")"
   ]
  },
  {
   "cell_type": "markdown",
   "metadata": {},
   "source": [
    "## Multiple Data Sources\n",
    "\n",
    "We can do a more complicated analysis that is based on additional external sources. For example, we want to calculate the differences between red states and blue states. We can then ask various questions regarding the impacts or correlation between the house prices and the election results and voting patterns. \n",
    "\n",
    "First we will load data regarding the voting in various states across the years. A quick internet search finds an interesting table in the following Wikipedia page. Since there are multiple tables on that page, we can filter them using the _match_ option, and using the word _Year_ as the filter."
   ]
  },
  {
   "cell_type": "code",
   "execution_count": 21,
   "metadata": {},
   "outputs": [],
   "source": [
    "red_blue_states_wikipedia_entry = 'https://en.wikipedia.org/wiki/Red_states_and_blue_states'\n",
    "wikipedia_page_tables = pd.read_html(red_blue_states_wikipedia_entry, match='Year')"
   ]
  },
  {
   "cell_type": "markdown",
   "metadata": {},
   "source": [
    "As we saw in the loading data from web site, the list can includes multiple tables. However, we filtered it and only have one table, and we can access it with the _[0]_ modifier."
   ]
  },
  {
   "cell_type": "code",
   "execution_count": 22,
   "metadata": {},
   "outputs": [
    {
     "output_type": "execute_result",
     "data": {
      "text/plain": [
       "                    Year             1972          1976           1980  \\\n",
       "0   Democratic candidate  George McGovern  Jimmy Carter   Jimmy Carter   \n",
       "1   Republican candidate    Richard Nixon   Gerald Ford  Ronald Reagan   \n",
       "2  National popular vote            Nixon        Carter         Reagan   \n",
       "3                Alabama            Nixon        Carter         Reagan   \n",
       "4                 Alaska            Nixon          Ford         Reagan   \n",
       "\n",
       "             1984               1988               1992          1996  \\\n",
       "0  Walter Mondale    Michael Dukakis       Bill Clinton  Bill Clinton   \n",
       "1   Ronald Reagan  George H. W. Bush  George H. W. Bush      Bob Dole   \n",
       "2          Reagan               Bush         B. Clinton       Clinton   \n",
       "3          Reagan               Bush               Bush          Dole   \n",
       "4          Reagan               Bush               Bush          Dole   \n",
       "\n",
       "             2000            2004          2008          2012             2016  \n",
       "0         Al Gore      John Kerry  Barack Obama  Barack Obama  Hillary Clinton  \n",
       "1  George W. Bush  George W. Bush   John McCain   Mitt Romney     Donald Trump  \n",
       "2            Gore            Bush         Obama         Obama       H. Clinton  \n",
       "3            Bush            Bush        McCain        Romney            Trump  \n",
       "4            Bush            Bush        McCain        Romney            Trump  "
      ],
      "text/html": "<div>\n<style scoped>\n    .dataframe tbody tr th:only-of-type {\n        vertical-align: middle;\n    }\n\n    .dataframe tbody tr th {\n        vertical-align: top;\n    }\n\n    .dataframe thead th {\n        text-align: right;\n    }\n</style>\n<table border=\"1\" class=\"dataframe\">\n  <thead>\n    <tr style=\"text-align: right;\">\n      <th></th>\n      <th>Year</th>\n      <th>1972</th>\n      <th>1976</th>\n      <th>1980</th>\n      <th>1984</th>\n      <th>1988</th>\n      <th>1992</th>\n      <th>1996</th>\n      <th>2000</th>\n      <th>2004</th>\n      <th>2008</th>\n      <th>2012</th>\n      <th>2016</th>\n    </tr>\n  </thead>\n  <tbody>\n    <tr>\n      <th>0</th>\n      <td>Democratic candidate</td>\n      <td>George McGovern</td>\n      <td>Jimmy Carter</td>\n      <td>Jimmy Carter</td>\n      <td>Walter Mondale</td>\n      <td>Michael Dukakis</td>\n      <td>Bill Clinton</td>\n      <td>Bill Clinton</td>\n      <td>Al Gore</td>\n      <td>John Kerry</td>\n      <td>Barack Obama</td>\n      <td>Barack Obama</td>\n      <td>Hillary Clinton</td>\n    </tr>\n    <tr>\n      <th>1</th>\n      <td>Republican candidate</td>\n      <td>Richard Nixon</td>\n      <td>Gerald Ford</td>\n      <td>Ronald Reagan</td>\n      <td>Ronald Reagan</td>\n      <td>George H. W. Bush</td>\n      <td>George H. W. Bush</td>\n      <td>Bob Dole</td>\n      <td>George W. Bush</td>\n      <td>George W. Bush</td>\n      <td>John McCain</td>\n      <td>Mitt Romney</td>\n      <td>Donald Trump</td>\n    </tr>\n    <tr>\n      <th>2</th>\n      <td>National popular vote</td>\n      <td>Nixon</td>\n      <td>Carter</td>\n      <td>Reagan</td>\n      <td>Reagan</td>\n      <td>Bush</td>\n      <td>B. Clinton</td>\n      <td>Clinton</td>\n      <td>Gore</td>\n      <td>Bush</td>\n      <td>Obama</td>\n      <td>Obama</td>\n      <td>H. Clinton</td>\n    </tr>\n    <tr>\n      <th>3</th>\n      <td>Alabama</td>\n      <td>Nixon</td>\n      <td>Carter</td>\n      <td>Reagan</td>\n      <td>Reagan</td>\n      <td>Bush</td>\n      <td>Bush</td>\n      <td>Dole</td>\n      <td>Bush</td>\n      <td>Bush</td>\n      <td>McCain</td>\n      <td>Romney</td>\n      <td>Trump</td>\n    </tr>\n    <tr>\n      <th>4</th>\n      <td>Alaska</td>\n      <td>Nixon</td>\n      <td>Ford</td>\n      <td>Reagan</td>\n      <td>Reagan</td>\n      <td>Bush</td>\n      <td>Bush</td>\n      <td>Dole</td>\n      <td>Bush</td>\n      <td>Bush</td>\n      <td>McCain</td>\n      <td>Romney</td>\n      <td>Trump</td>\n    </tr>\n  </tbody>\n</table>\n</div>"
     },
     "metadata": {},
     "execution_count": 22
    }
   ],
   "source": [
    "red_blue_states = wikipedia_page_tables[0]\n",
    "red_blue_states.head()"
   ]
  },
  {
   "cell_type": "markdown",
   "metadata": {},
   "source": [
    "We will start with creating a new list of states that voted for a specific candidate in a specific electio. First, let's use Trump in the 2016 elections. \n",
    "\n",
    "We are using here a few new functions such as [rename](https://pandas.pydata.org/pandas-docs/stable/reference/api/pandas.DataFrame.rename.html), [query](https://pandas.pydata.org/pandas-docs/stable/reference/api/pandas.DataFrame.query.html) and [iloc](https://pandas.pydata.org/pandas-docs/stable/reference/api/pandas.DataFrame.iloc.html), which we will discuss in more details in the next sections."
   ]
  },
  {
   "cell_type": "code",
   "execution_count": 23,
   "metadata": {},
   "outputs": [],
   "source": [
    "red_candidate = 'Trump'\n",
    "election_year = '2016'"
   ]
  },
  {
   "cell_type": "code",
   "execution_count": 24,
   "metadata": {},
   "outputs": [
    {
     "output_type": "execute_result",
     "data": {
      "text/plain": [
       "3            Alabama\n",
       "4             Alaska\n",
       "5            Arizona\n",
       "6           Arkansas\n",
       "12           Florida\n",
       "13           Georgia\n",
       "15             Idaho\n",
       "17           Indiana\n",
       "18              Iowa\n",
       "19            Kansas\n",
       "20          Kentucky\n",
       "21         Louisiana\n",
       "27          Michigan\n",
       "29       Mississippi\n",
       "30          Missouri\n",
       "31           Montana\n",
       "39    North Carolina\n",
       "40      North Dakota\n",
       "41              Ohio\n",
       "42          Oklahoma\n",
       "44      Pennsylvania\n",
       "46    South Carolina\n",
       "47      South Dakota\n",
       "48         Tennessee\n",
       "49             Texas\n",
       "50              Utah\n",
       "54     West Virginia\n",
       "55         Wisconsin\n",
       "56           Wyoming\n",
       "Name: Year, dtype: object"
      ]
     },
     "metadata": {},
     "execution_count": 24
    }
   ],
   "source": [
    "red_states = (\n",
    "    red_blue_states\n",
    "    .rename(columns={election_year:'election_year'})\n",
    "    .reset_index()\n",
    "    .query(\"election_year == @red_candidate\")\n",
    "    .iloc[:,1]\n",
    ")\n",
    "red_states"
   ]
  },
  {
   "cell_type": "markdown",
   "metadata": {},
   "source": [
    "Now that we have the list of the red states, we need to match them to the states that we have in our house prices data set. We see that we have to match the short version in the data set with the long version in the red state list. \n",
    "\n",
    "We will use a another option to create a data frame using a Dictionary. It is not hard to find a list of mapping of states names and abbreviations. "
   ]
  },
  {
   "cell_type": "code",
   "execution_count": 25,
   "metadata": {},
   "outputs": [],
   "source": [
    "us_state_abbrev = {\n",
    "    'Alabama': 'AL',\n",
    "    'Alaska': 'AK',\n",
    "    'American Samoa': 'AS',\n",
    "    'Arizona': 'AZ',\n",
    "    'Arkansas': 'AR',\n",
    "    'California': 'CA',\n",
    "    'Colorado': 'CO',\n",
    "    'Connecticut': 'CT',\n",
    "    'Delaware': 'DE',\n",
    "    'District of Columbia': 'DC',\n",
    "    'Florida': 'FL',\n",
    "    'Georgia': 'GA',\n",
    "    'Guam': 'GU',\n",
    "    'Hawaii': 'HI',\n",
    "    'Idaho': 'ID',\n",
    "    'Illinois': 'IL',\n",
    "    'Indiana': 'IN',\n",
    "    'Iowa': 'IA',\n",
    "    'Kansas': 'KS',\n",
    "    'Kentucky': 'KY',\n",
    "    'Louisiana': 'LA',\n",
    "    'Maine': 'ME',\n",
    "    'Maryland': 'MD',\n",
    "    'Massachusetts': 'MA',\n",
    "    'Michigan': 'MI',\n",
    "    'Minnesota': 'MN',\n",
    "    'Mississippi': 'MS',\n",
    "    'Missouri': 'MO',\n",
    "    'Montana': 'MT',\n",
    "    'Nebraska': 'NE',\n",
    "    'Nevada': 'NV',\n",
    "    'New Hampshire': 'NH',\n",
    "    'New Jersey': 'NJ',\n",
    "    'New Mexico': 'NM',\n",
    "    'New York': 'NY',\n",
    "    'North Carolina': 'NC',\n",
    "    'North Dakota': 'ND',\n",
    "    'Northern Mariana Islands':'MP',\n",
    "    'Ohio': 'OH',\n",
    "    'Oklahoma': 'OK',\n",
    "    'Oregon': 'OR',\n",
    "    'Pennsylvania': 'PA',\n",
    "    'Puerto Rico': 'PR',\n",
    "    'Rhode Island': 'RI',\n",
    "    'South Carolina': 'SC',\n",
    "    'South Dakota': 'SD',\n",
    "    'Tennessee': 'TN',\n",
    "    'Texas': 'TX',\n",
    "    'Utah': 'UT',\n",
    "    'Vermont': 'VT',\n",
    "    'Virgin Islands': 'VI',\n",
    "    'Virginia': 'VA',\n",
    "    'Washington': 'WA',\n",
    "    'West Virginia': 'WV',\n",
    "    'Wisconsin': 'WI',\n",
    "    'Wyoming': 'WY'\n",
    "}"
   ]
  },
  {
   "cell_type": "markdown",
   "metadata": {},
   "source": [
    "and we can use the dictionary to create a table (DataFrame) from it"
   ]
  },
  {
   "cell_type": "code",
   "execution_count": 26,
   "metadata": {},
   "outputs": [],
   "source": [
    "us_state_abbrev_df = (\n",
    "    pd\n",
    "    .DataFrame\n",
    "    .from_dict(us_state_abbrev, \n",
    "                orient='index',\n",
    "                columns=['Abbreviation'])\n",
    ")"
   ]
  },
  {
   "cell_type": "markdown",
   "metadata": {},
   "source": [
    "Next, we will filter the table to include only the red states that we calculated before"
   ]
  },
  {
   "cell_type": "code",
   "execution_count": 27,
   "metadata": {},
   "outputs": [
    {
     "output_type": "execute_result",
     "data": {
      "text/plain": [
       "Alabama           AL\n",
       "Alaska            AK\n",
       "Arizona           AZ\n",
       "Arkansas          AR\n",
       "Florida           FL\n",
       "Georgia           GA\n",
       "Idaho             ID\n",
       "Indiana           IN\n",
       "Iowa              IA\n",
       "Kansas            KS\n",
       "Kentucky          KY\n",
       "Louisiana         LA\n",
       "Michigan          MI\n",
       "Mississippi       MS\n",
       "Missouri          MO\n",
       "Montana           MT\n",
       "North Carolina    NC\n",
       "North Dakota      ND\n",
       "Ohio              OH\n",
       "Oklahoma          OK\n",
       "Pennsylvania      PA\n",
       "South Carolina    SC\n",
       "South Dakota      SD\n",
       "Tennessee         TN\n",
       "Texas             TX\n",
       "Utah              UT\n",
       "West Virginia     WV\n",
       "Wisconsin         WI\n",
       "Wyoming           WY\n",
       "Name: Abbreviation, dtype: object"
      ]
     },
     "metadata": {},
     "execution_count": 27
    }
   ],
   "source": [
    "red_state_abbrev = (\n",
    "    us_state_abbrev_df\n",
    "    .loc[red_states]\n",
    "    .loc[:,'Abbreviation']\n",
    ")\n",
    "red_state_abbrev"
   ]
  },
  {
   "cell_type": "markdown",
   "metadata": {},
   "source": [
    "Finally, we can create a new column in our dataset (_is_red_) by checking if the _State_ in the row is in the list of red states that we calculated above. \n",
    "\n",
    "We can then, immediately use the new column to calculate the average (_mean_) price in _2017_09_ of the two groups, and see that the average in the blue states (_is_red = False_) is more than twice the average of red states (_is_red = True_)"
   ]
  },
  {
   "cell_type": "code",
   "execution_count": 30,
   "metadata": {
    "tags": []
   },
   "outputs": [
    {
     "output_type": "display_data",
     "data": {
      "text/plain": "<Figure size 432x288 with 1 Axes>",
      "image/svg+xml": "<?xml version=\"1.0\" encoding=\"utf-8\" standalone=\"no\"?>\n<!DOCTYPE svg PUBLIC \"-//W3C//DTD SVG 1.1//EN\"\n  \"http://www.w3.org/Graphics/SVG/1.1/DTD/svg11.dtd\">\n<!-- Created with matplotlib (https://matplotlib.org/) -->\n<svg height=\"277.904062pt\" version=\"1.1\" viewBox=\"0 0 375.2875 277.904062\" width=\"375.2875pt\" xmlns=\"http://www.w3.org/2000/svg\" xmlns:xlink=\"http://www.w3.org/1999/xlink\">\n <metadata>\n  <rdf:RDF xmlns:cc=\"http://creativecommons.org/ns#\" xmlns:dc=\"http://purl.org/dc/elements/1.1/\" xmlns:rdf=\"http://www.w3.org/1999/02/22-rdf-syntax-ns#\">\n   <cc:Work>\n    <dc:type rdf:resource=\"http://purl.org/dc/dcmitype/StillImage\"/>\n    <dc:date>2020-10-30T16:23:56.913919</dc:date>\n    <dc:format>image/svg+xml</dc:format>\n    <dc:creator>\n     <cc:Agent>\n      <dc:title>Matplotlib v3.3.2, https://matplotlib.org/</dc:title>\n     </cc:Agent>\n    </dc:creator>\n   </cc:Work>\n  </rdf:RDF>\n </metadata>\n <defs>\n  <style type=\"text/css\">*{stroke-linecap:butt;stroke-linejoin:round;}</style>\n </defs>\n <g id=\"figure_1\">\n  <g id=\"patch_1\">\n   <path d=\"M 0 277.904062 \nL 375.2875 277.904062 \nL 375.2875 0 \nL 0 0 \nz\n\" style=\"fill:none;\"/>\n  </g>\n  <g id=\"axes_1\">\n   <g id=\"patch_2\">\n    <path d=\"M 33.2875 224.64 \nL 368.0875 224.64 \nL 368.0875 7.2 \nL 33.2875 7.2 \nz\n\" style=\"fill:#ffffff;\"/>\n   </g>\n   <g id=\"patch_3\">\n    <path clip-path=\"url(#pfad28f7d5e)\" d=\"M 75.1375 224.64 \nL 158.8375 224.64 \nL 158.8375 17.554286 \nL 75.1375 17.554286 \nz\n\" style=\"fill:#1f77b4;\"/>\n   </g>\n   <g id=\"patch_4\">\n    <path clip-path=\"url(#pfad28f7d5e)\" d=\"M 242.5375 224.64 \nL 326.2375 224.64 \nL 326.2375 128.452444 \nL 242.5375 128.452444 \nz\n\" style=\"fill:#1f77b4;\"/>\n   </g>\n   <g id=\"matplotlib.axis_1\">\n    <g id=\"xtick_1\">\n     <g id=\"line2d_1\">\n      <defs>\n       <path d=\"M 0 0 \nL 0 3.5 \n\" id=\"m7e815aab8c\" style=\"stroke:#000000;stroke-width:0.8;\"/>\n      </defs>\n      <g>\n       <use style=\"stroke:#000000;stroke-width:0.8;\" x=\"116.9875\" xlink:href=\"#m7e815aab8c\" y=\"224.64\"/>\n      </g>\n     </g>\n     <g id=\"text_1\">\n      <!-- False -->\n      <g transform=\"translate(119.746875 256.747812)rotate(-90)scale(0.1 -0.1)\">\n       <defs>\n        <path d=\"M 9.8125 72.90625 \nL 51.703125 72.90625 \nL 51.703125 64.59375 \nL 19.671875 64.59375 \nL 19.671875 43.109375 \nL 48.578125 43.109375 \nL 48.578125 34.8125 \nL 19.671875 34.8125 \nL 19.671875 0 \nL 9.8125 0 \nz\n\" id=\"DejaVuSans-70\"/>\n        <path d=\"M 34.28125 27.484375 \nQ 23.390625 27.484375 19.1875 25 \nQ 14.984375 22.515625 14.984375 16.5 \nQ 14.984375 11.71875 18.140625 8.90625 \nQ 21.296875 6.109375 26.703125 6.109375 \nQ 34.1875 6.109375 38.703125 11.40625 \nQ 43.21875 16.703125 43.21875 25.484375 \nL 43.21875 27.484375 \nz\nM 52.203125 31.203125 \nL 52.203125 0 \nL 43.21875 0 \nL 43.21875 8.296875 \nQ 40.140625 3.328125 35.546875 0.953125 \nQ 30.953125 -1.421875 24.3125 -1.421875 \nQ 15.921875 -1.421875 10.953125 3.296875 \nQ 6 8.015625 6 15.921875 \nQ 6 25.140625 12.171875 29.828125 \nQ 18.359375 34.515625 30.609375 34.515625 \nL 43.21875 34.515625 \nL 43.21875 35.40625 \nQ 43.21875 41.609375 39.140625 45 \nQ 35.0625 48.390625 27.6875 48.390625 \nQ 23 48.390625 18.546875 47.265625 \nQ 14.109375 46.140625 10.015625 43.890625 \nL 10.015625 52.203125 \nQ 14.9375 54.109375 19.578125 55.046875 \nQ 24.21875 56 28.609375 56 \nQ 40.484375 56 46.34375 49.84375 \nQ 52.203125 43.703125 52.203125 31.203125 \nz\n\" id=\"DejaVuSans-97\"/>\n        <path d=\"M 9.421875 75.984375 \nL 18.40625 75.984375 \nL 18.40625 0 \nL 9.421875 0 \nz\n\" id=\"DejaVuSans-108\"/>\n        <path d=\"M 44.28125 53.078125 \nL 44.28125 44.578125 \nQ 40.484375 46.53125 36.375 47.5 \nQ 32.28125 48.484375 27.875 48.484375 \nQ 21.1875 48.484375 17.84375 46.4375 \nQ 14.5 44.390625 14.5 40.28125 \nQ 14.5 37.15625 16.890625 35.375 \nQ 19.28125 33.59375 26.515625 31.984375 \nL 29.59375 31.296875 \nQ 39.15625 29.25 43.1875 25.515625 \nQ 47.21875 21.78125 47.21875 15.09375 \nQ 47.21875 7.46875 41.1875 3.015625 \nQ 35.15625 -1.421875 24.609375 -1.421875 \nQ 20.21875 -1.421875 15.453125 -0.5625 \nQ 10.6875 0.296875 5.421875 2 \nL 5.421875 11.28125 \nQ 10.40625 8.6875 15.234375 7.390625 \nQ 20.0625 6.109375 24.8125 6.109375 \nQ 31.15625 6.109375 34.5625 8.28125 \nQ 37.984375 10.453125 37.984375 14.40625 \nQ 37.984375 18.0625 35.515625 20.015625 \nQ 33.0625 21.96875 24.703125 23.78125 \nL 21.578125 24.515625 \nQ 13.234375 26.265625 9.515625 29.90625 \nQ 5.8125 33.546875 5.8125 39.890625 \nQ 5.8125 47.609375 11.28125 51.796875 \nQ 16.75 56 26.8125 56 \nQ 31.78125 56 36.171875 55.265625 \nQ 40.578125 54.546875 44.28125 53.078125 \nz\n\" id=\"DejaVuSans-115\"/>\n        <path d=\"M 56.203125 29.59375 \nL 56.203125 25.203125 \nL 14.890625 25.203125 \nQ 15.484375 15.921875 20.484375 11.0625 \nQ 25.484375 6.203125 34.421875 6.203125 \nQ 39.59375 6.203125 44.453125 7.46875 \nQ 49.3125 8.734375 54.109375 11.28125 \nL 54.109375 2.78125 \nQ 49.265625 0.734375 44.1875 -0.34375 \nQ 39.109375 -1.421875 33.890625 -1.421875 \nQ 20.796875 -1.421875 13.15625 6.1875 \nQ 5.515625 13.8125 5.515625 26.8125 \nQ 5.515625 40.234375 12.765625 48.109375 \nQ 20.015625 56 32.328125 56 \nQ 43.359375 56 49.78125 48.890625 \nQ 56.203125 41.796875 56.203125 29.59375 \nz\nM 47.21875 32.234375 \nQ 47.125 39.59375 43.09375 43.984375 \nQ 39.0625 48.390625 32.421875 48.390625 \nQ 24.90625 48.390625 20.390625 44.140625 \nQ 15.875 39.890625 15.1875 32.171875 \nz\n\" id=\"DejaVuSans-101\"/>\n       </defs>\n       <use xlink:href=\"#DejaVuSans-70\"/>\n       <use x=\"48.394531\" xlink:href=\"#DejaVuSans-97\"/>\n       <use x=\"109.673828\" xlink:href=\"#DejaVuSans-108\"/>\n       <use x=\"137.457031\" xlink:href=\"#DejaVuSans-115\"/>\n       <use x=\"189.556641\" xlink:href=\"#DejaVuSans-101\"/>\n      </g>\n     </g>\n    </g>\n    <g id=\"xtick_2\">\n     <g id=\"line2d_2\">\n      <g>\n       <use style=\"stroke:#000000;stroke-width:0.8;\" x=\"284.3875\" xlink:href=\"#m7e815aab8c\" y=\"224.64\"/>\n      </g>\n     </g>\n     <g id=\"text_2\">\n      <!-- True -->\n      <g transform=\"translate(287.146875 252.874375)rotate(-90)scale(0.1 -0.1)\">\n       <defs>\n        <path d=\"M -0.296875 72.90625 \nL 61.375 72.90625 \nL 61.375 64.59375 \nL 35.5 64.59375 \nL 35.5 0 \nL 25.59375 0 \nL 25.59375 64.59375 \nL -0.296875 64.59375 \nz\n\" id=\"DejaVuSans-84\"/>\n        <path d=\"M 41.109375 46.296875 \nQ 39.59375 47.171875 37.8125 47.578125 \nQ 36.03125 48 33.890625 48 \nQ 26.265625 48 22.1875 43.046875 \nQ 18.109375 38.09375 18.109375 28.8125 \nL 18.109375 0 \nL 9.078125 0 \nL 9.078125 54.6875 \nL 18.109375 54.6875 \nL 18.109375 46.1875 \nQ 20.953125 51.171875 25.484375 53.578125 \nQ 30.03125 56 36.53125 56 \nQ 37.453125 56 38.578125 55.875 \nQ 39.703125 55.765625 41.0625 55.515625 \nz\n\" id=\"DejaVuSans-114\"/>\n        <path d=\"M 8.5 21.578125 \nL 8.5 54.6875 \nL 17.484375 54.6875 \nL 17.484375 21.921875 \nQ 17.484375 14.15625 20.5 10.265625 \nQ 23.53125 6.390625 29.59375 6.390625 \nQ 36.859375 6.390625 41.078125 11.03125 \nQ 45.3125 15.671875 45.3125 23.6875 \nL 45.3125 54.6875 \nL 54.296875 54.6875 \nL 54.296875 0 \nL 45.3125 0 \nL 45.3125 8.40625 \nQ 42.046875 3.421875 37.71875 1 \nQ 33.40625 -1.421875 27.6875 -1.421875 \nQ 18.265625 -1.421875 13.375 4.4375 \nQ 8.5 10.296875 8.5 21.578125 \nz\nM 31.109375 56 \nz\n\" id=\"DejaVuSans-117\"/>\n       </defs>\n       <use xlink:href=\"#DejaVuSans-84\"/>\n       <use x=\"46.333984\" xlink:href=\"#DejaVuSans-114\"/>\n       <use x=\"87.447266\" xlink:href=\"#DejaVuSans-117\"/>\n       <use x=\"150.826172\" xlink:href=\"#DejaVuSans-101\"/>\n      </g>\n     </g>\n    </g>\n    <g id=\"text_3\">\n     <!-- is_red -->\n     <g transform=\"translate(186 268.34625)scale(0.1 -0.1)\">\n      <defs>\n       <path d=\"M 9.421875 54.6875 \nL 18.40625 54.6875 \nL 18.40625 0 \nL 9.421875 0 \nz\nM 9.421875 75.984375 \nL 18.40625 75.984375 \nL 18.40625 64.59375 \nL 9.421875 64.59375 \nz\n\" id=\"DejaVuSans-105\"/>\n       <path d=\"M 50.984375 -16.609375 \nL 50.984375 -23.578125 \nL -0.984375 -23.578125 \nL -0.984375 -16.609375 \nz\n\" id=\"DejaVuSans-95\"/>\n       <path d=\"M 45.40625 46.390625 \nL 45.40625 75.984375 \nL 54.390625 75.984375 \nL 54.390625 0 \nL 45.40625 0 \nL 45.40625 8.203125 \nQ 42.578125 3.328125 38.25 0.953125 \nQ 33.9375 -1.421875 27.875 -1.421875 \nQ 17.96875 -1.421875 11.734375 6.484375 \nQ 5.515625 14.40625 5.515625 27.296875 \nQ 5.515625 40.1875 11.734375 48.09375 \nQ 17.96875 56 27.875 56 \nQ 33.9375 56 38.25 53.625 \nQ 42.578125 51.265625 45.40625 46.390625 \nz\nM 14.796875 27.296875 \nQ 14.796875 17.390625 18.875 11.75 \nQ 22.953125 6.109375 30.078125 6.109375 \nQ 37.203125 6.109375 41.296875 11.75 \nQ 45.40625 17.390625 45.40625 27.296875 \nQ 45.40625 37.203125 41.296875 42.84375 \nQ 37.203125 48.484375 30.078125 48.484375 \nQ 22.953125 48.484375 18.875 42.84375 \nQ 14.796875 37.203125 14.796875 27.296875 \nz\n\" id=\"DejaVuSans-100\"/>\n      </defs>\n      <use xlink:href=\"#DejaVuSans-105\"/>\n      <use x=\"27.783203\" xlink:href=\"#DejaVuSans-115\"/>\n      <use x=\"79.882812\" xlink:href=\"#DejaVuSans-95\"/>\n      <use x=\"129.882812\" xlink:href=\"#DejaVuSans-114\"/>\n      <use x=\"168.746094\" xlink:href=\"#DejaVuSans-101\"/>\n      <use x=\"230.269531\" xlink:href=\"#DejaVuSans-100\"/>\n     </g>\n    </g>\n   </g>\n   <g id=\"matplotlib.axis_2\">\n    <g id=\"ytick_1\">\n     <g id=\"line2d_3\">\n      <defs>\n       <path d=\"M 0 0 \nL -3.5 0 \n\" id=\"mc37ca98bc6\" style=\"stroke:#000000;stroke-width:0.8;\"/>\n      </defs>\n      <g>\n       <use style=\"stroke:#000000;stroke-width:0.8;\" x=\"33.2875\" xlink:href=\"#mc37ca98bc6\" y=\"224.64\"/>\n      </g>\n     </g>\n     <g id=\"text_4\">\n      <!-- 0 -->\n      <g transform=\"translate(19.925 228.439219)scale(0.1 -0.1)\">\n       <defs>\n        <path d=\"M 31.78125 66.40625 \nQ 24.171875 66.40625 20.328125 58.90625 \nQ 16.5 51.421875 16.5 36.375 \nQ 16.5 21.390625 20.328125 13.890625 \nQ 24.171875 6.390625 31.78125 6.390625 \nQ 39.453125 6.390625 43.28125 13.890625 \nQ 47.125 21.390625 47.125 36.375 \nQ 47.125 51.421875 43.28125 58.90625 \nQ 39.453125 66.40625 31.78125 66.40625 \nz\nM 31.78125 74.21875 \nQ 44.046875 74.21875 50.515625 64.515625 \nQ 56.984375 54.828125 56.984375 36.375 \nQ 56.984375 17.96875 50.515625 8.265625 \nQ 44.046875 -1.421875 31.78125 -1.421875 \nQ 19.53125 -1.421875 13.0625 8.265625 \nQ 6.59375 17.96875 6.59375 36.375 \nQ 6.59375 54.828125 13.0625 64.515625 \nQ 19.53125 74.21875 31.78125 74.21875 \nz\n\" id=\"DejaVuSans-48\"/>\n       </defs>\n       <use xlink:href=\"#DejaVuSans-48\"/>\n      </g>\n     </g>\n    </g>\n    <g id=\"ytick_2\">\n     <g id=\"line2d_4\">\n      <g>\n       <use style=\"stroke:#000000;stroke-width:0.8;\" x=\"33.2875\" xlink:href=\"#mc37ca98bc6\" y=\"178.903377\"/>\n      </g>\n     </g>\n     <g id=\"text_5\">\n      <!-- 50 -->\n      <g transform=\"translate(13.5625 182.702596)scale(0.1 -0.1)\">\n       <defs>\n        <path d=\"M 10.796875 72.90625 \nL 49.515625 72.90625 \nL 49.515625 64.59375 \nL 19.828125 64.59375 \nL 19.828125 46.734375 \nQ 21.96875 47.46875 24.109375 47.828125 \nQ 26.265625 48.1875 28.421875 48.1875 \nQ 40.625 48.1875 47.75 41.5 \nQ 54.890625 34.8125 54.890625 23.390625 \nQ 54.890625 11.625 47.5625 5.09375 \nQ 40.234375 -1.421875 26.90625 -1.421875 \nQ 22.3125 -1.421875 17.546875 -0.640625 \nQ 12.796875 0.140625 7.71875 1.703125 \nL 7.71875 11.625 \nQ 12.109375 9.234375 16.796875 8.0625 \nQ 21.484375 6.890625 26.703125 6.890625 \nQ 35.15625 6.890625 40.078125 11.328125 \nQ 45.015625 15.765625 45.015625 23.390625 \nQ 45.015625 31 40.078125 35.4375 \nQ 35.15625 39.890625 26.703125 39.890625 \nQ 22.75 39.890625 18.8125 39.015625 \nQ 14.890625 38.140625 10.796875 36.28125 \nz\n\" id=\"DejaVuSans-53\"/>\n       </defs>\n       <use xlink:href=\"#DejaVuSans-53\"/>\n       <use x=\"63.623047\" xlink:href=\"#DejaVuSans-48\"/>\n      </g>\n     </g>\n    </g>\n    <g id=\"ytick_3\">\n     <g id=\"line2d_5\">\n      <g>\n       <use style=\"stroke:#000000;stroke-width:0.8;\" x=\"33.2875\" xlink:href=\"#mc37ca98bc6\" y=\"133.166755\"/>\n      </g>\n     </g>\n     <g id=\"text_6\">\n      <!-- 100 -->\n      <g transform=\"translate(7.2 136.965974)scale(0.1 -0.1)\">\n       <defs>\n        <path d=\"M 12.40625 8.296875 \nL 28.515625 8.296875 \nL 28.515625 63.921875 \nL 10.984375 60.40625 \nL 10.984375 69.390625 \nL 28.421875 72.90625 \nL 38.28125 72.90625 \nL 38.28125 8.296875 \nL 54.390625 8.296875 \nL 54.390625 0 \nL 12.40625 0 \nz\n\" id=\"DejaVuSans-49\"/>\n       </defs>\n       <use xlink:href=\"#DejaVuSans-49\"/>\n       <use x=\"63.623047\" xlink:href=\"#DejaVuSans-48\"/>\n       <use x=\"127.246094\" xlink:href=\"#DejaVuSans-48\"/>\n      </g>\n     </g>\n    </g>\n    <g id=\"ytick_4\">\n     <g id=\"line2d_6\">\n      <g>\n       <use style=\"stroke:#000000;stroke-width:0.8;\" x=\"33.2875\" xlink:href=\"#mc37ca98bc6\" y=\"87.430132\"/>\n      </g>\n     </g>\n     <g id=\"text_7\">\n      <!-- 150 -->\n      <g transform=\"translate(7.2 91.229351)scale(0.1 -0.1)\">\n       <use xlink:href=\"#DejaVuSans-49\"/>\n       <use x=\"63.623047\" xlink:href=\"#DejaVuSans-53\"/>\n       <use x=\"127.246094\" xlink:href=\"#DejaVuSans-48\"/>\n      </g>\n     </g>\n    </g>\n    <g id=\"ytick_5\">\n     <g id=\"line2d_7\">\n      <g>\n       <use style=\"stroke:#000000;stroke-width:0.8;\" x=\"33.2875\" xlink:href=\"#mc37ca98bc6\" y=\"41.69351\"/>\n      </g>\n     </g>\n     <g id=\"text_8\">\n      <!-- 200 -->\n      <g transform=\"translate(7.2 45.492728)scale(0.1 -0.1)\">\n       <defs>\n        <path d=\"M 19.1875 8.296875 \nL 53.609375 8.296875 \nL 53.609375 0 \nL 7.328125 0 \nL 7.328125 8.296875 \nQ 12.9375 14.109375 22.625 23.890625 \nQ 32.328125 33.6875 34.8125 36.53125 \nQ 39.546875 41.84375 41.421875 45.53125 \nQ 43.3125 49.21875 43.3125 52.78125 \nQ 43.3125 58.59375 39.234375 62.25 \nQ 35.15625 65.921875 28.609375 65.921875 \nQ 23.96875 65.921875 18.8125 64.3125 \nQ 13.671875 62.703125 7.8125 59.421875 \nL 7.8125 69.390625 \nQ 13.765625 71.78125 18.9375 73 \nQ 24.125 74.21875 28.421875 74.21875 \nQ 39.75 74.21875 46.484375 68.546875 \nQ 53.21875 62.890625 53.21875 53.421875 \nQ 53.21875 48.921875 51.53125 44.890625 \nQ 49.859375 40.875 45.40625 35.40625 \nQ 44.1875 33.984375 37.640625 27.21875 \nQ 31.109375 20.453125 19.1875 8.296875 \nz\n\" id=\"DejaVuSans-50\"/>\n       </defs>\n       <use xlink:href=\"#DejaVuSans-50\"/>\n       <use x=\"63.623047\" xlink:href=\"#DejaVuSans-48\"/>\n       <use x=\"127.246094\" xlink:href=\"#DejaVuSans-48\"/>\n      </g>\n     </g>\n    </g>\n   </g>\n   <g id=\"patch_5\">\n    <path d=\"M 33.2875 224.64 \nL 33.2875 7.2 \n\" style=\"fill:none;stroke:#000000;stroke-linecap:square;stroke-linejoin:miter;stroke-width:0.8;\"/>\n   </g>\n   <g id=\"patch_6\">\n    <path d=\"M 368.0875 224.64 \nL 368.0875 7.2 \n\" style=\"fill:none;stroke:#000000;stroke-linecap:square;stroke-linejoin:miter;stroke-width:0.8;\"/>\n   </g>\n   <g id=\"patch_7\">\n    <path d=\"M 33.2875 224.64 \nL 368.0875 224.64 \n\" style=\"fill:none;stroke:#000000;stroke-linecap:square;stroke-linejoin:miter;stroke-width:0.8;\"/>\n   </g>\n   <g id=\"patch_8\">\n    <path d=\"M 33.2875 7.2 \nL 368.0875 7.2 \n\" style=\"fill:none;stroke:#000000;stroke-linecap:square;stroke-linejoin:miter;stroke-width:0.8;\"/>\n   </g>\n  </g>\n </g>\n <defs>\n  <clipPath id=\"pfad28f7d5e\">\n   <rect height=\"217.44\" width=\"334.8\" x=\"33.2875\" y=\"7.2\"/>\n  </clipPath>\n </defs>\n</svg>\n",
      "image/png": "[encoded data removed]"
     },
     "metadata": {
      "needs_background": "light"
     }
    }
   ],
   "source": [
    "(\n",
    "    df\n",
    "    .assign(is_red=lambda x : x.State.isin(red_state_abbrev))\n",
    "    .groupby('is_red')['2017-09']\n",
    "    .mean()\n",
    "    .plot\n",
    "    .bar()\n",
    ");"
   ]
  },
  {
   "cell_type": "code",
   "execution_count": null,
   "metadata": {},
   "outputs": [],
   "source": []
  }
 ],
 "metadata": {
  "kernelspec": {
   "display_name": "Python 3",
   "language": "python",
   "name": "python3"
  },
  "language_info": {
   "codemirror_mode": {
    "name": "ipython",
    "version": 3
   },
   "file_extension": ".py",
   "mimetype": "text/x-python",
   "name": "python",
   "nbconvert_exporter": "python",
   "pygments_lexer": "ipython3",
   "version": "3.8.3-final"
  }
 },
 "nbformat": 4,
 "nbformat_minor": 2
}