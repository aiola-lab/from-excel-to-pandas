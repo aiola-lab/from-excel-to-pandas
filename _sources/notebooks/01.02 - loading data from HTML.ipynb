{
 "metadata": {
  "language_info": {
   "codemirror_mode": {
    "name": "ipython",
    "version": 3
   },
   "file_extension": ".py",
   "mimetype": "text/x-python",
   "name": "python",
   "nbconvert_exporter": "python",
   "pygments_lexer": "ipython3",
   "version": "3.7.3-final"
  },
  "orig_nbformat": 2,
  "kernelspec": {
   "name": "python37364bitbaseconda6f6003116ada4c63b5bf39f2117e87c1",
   "display_name": "Python 3.7.3 64-bit ('base': conda)"
  }
 },
 "nbformat": 4,
 "nbformat_minor": 2,
 "cells": [
  {
   "cell_type": "markdown",
   "metadata": {},
   "source": [
    "# Reading Data from Web Sites"
   ]
  },
  {
   "cell_type": "markdown",
   "metadata": {},
   "source": [
    "## Loading HTML data"
   ]
  },
  {
   "cell_type": "code",
   "execution_count": 1,
   "metadata": {},
   "outputs": [],
   "source": [
    "import pandas as pd\n",
    "import numpy as np"
   ]
  },
  {
   "source": [
    "If you have a simple web page with a single table, you can pass the URL of the page to Pandas and call read_html. "
   ],
   "cell_type": "markdown",
   "metadata": {}
  },
  {
   "cell_type": "code",
   "execution_count": 7,
   "metadata": {},
   "outputs": [],
   "source": [
    "url = 'http://www.fdic.gov/bank/individual/failed/banklist.html'\n",
    "dfs = pd.read_html(url)"
   ]
  },
  {
   "source": [
    "read_html is returning a list of all the tables in the page. If we pring the first element (index 0 in the list), we will get the first data frame/table in that page."
   ],
   "cell_type": "markdown",
   "metadata": {}
  },
  {
   "cell_type": "code",
   "execution_count": 17,
   "metadata": {},
   "outputs": [
    {
     "output_type": "execute_result",
     "data": {
      "text/plain": "                             Bank Name           City  ST   CERT  \\\n0                 The First State Bank  Barboursville  WV  14361   \n1                   Ericson State Bank        Ericson  NE  18265   \n2     City National Bank of New Jersey         Newark  NJ  21111   \n3                        Resolute Bank         Maumee  OH  58317   \n4                Louisa Community Bank         Louisa  KY  58112   \n..                                 ...            ...  ..    ...   \n556                 Superior Bank, FSB       Hinsdale  IL  32646   \n557                Malta National Bank          Malta  OH   6629   \n558    First Alliance Bank & Trust Co.     Manchester  NH  34264   \n559  National State Bank of Metropolis     Metropolis  IL   3815   \n560                   Bank of Honolulu       Honolulu  HI  21029   \n\n                   Acquiring Institution       Closing Date  \n0                         MVB Bank, Inc.      April 3, 2020  \n1             Farmers and Merchants Bank  February 14, 2020  \n2                        Industrial Bank   November 1, 2019  \n3                     Buckeye State Bank   October 25, 2019  \n4      Kentucky Farmers Bank Corporation   October 25, 2019  \n..                                   ...                ...  \n556                Superior Federal, FSB      July 27, 2001  \n557                    North Valley Bank        May 3, 2001  \n558  Southern New Hampshire Bank & Trust   February 2, 2001  \n559              Banterra Bank of Marion  December 14, 2000  \n560                   Bank of the Orient   October 13, 2000  \n\n[561 rows x 6 columns]",
      "text/html": "<div>\n<style scoped>\n    .dataframe tbody tr th:only-of-type {\n        vertical-align: middle;\n    }\n\n    .dataframe tbody tr th {\n        vertical-align: top;\n    }\n\n    .dataframe thead th {\n        text-align: right;\n    }\n</style>\n<table border=\"1\" class=\"dataframe\">\n  <thead>\n    <tr style=\"text-align: right;\">\n      <th></th>\n      <th>Bank Name</th>\n      <th>City</th>\n      <th>ST</th>\n      <th>CERT</th>\n      <th>Acquiring Institution</th>\n      <th>Closing Date</th>\n    </tr>\n  </thead>\n  <tbody>\n    <tr>\n      <th>0</th>\n      <td>The First State Bank</td>\n      <td>Barboursville</td>\n      <td>WV</td>\n      <td>14361</td>\n      <td>MVB Bank, Inc.</td>\n      <td>April 3, 2020</td>\n    </tr>\n    <tr>\n      <th>1</th>\n      <td>Ericson State Bank</td>\n      <td>Ericson</td>\n      <td>NE</td>\n      <td>18265</td>\n      <td>Farmers and Merchants Bank</td>\n      <td>February 14, 2020</td>\n    </tr>\n    <tr>\n      <th>2</th>\n      <td>City National Bank of New Jersey</td>\n      <td>Newark</td>\n      <td>NJ</td>\n      <td>21111</td>\n      <td>Industrial Bank</td>\n      <td>November 1, 2019</td>\n    </tr>\n    <tr>\n      <th>3</th>\n      <td>Resolute Bank</td>\n      <td>Maumee</td>\n      <td>OH</td>\n      <td>58317</td>\n      <td>Buckeye State Bank</td>\n      <td>October 25, 2019</td>\n    </tr>\n    <tr>\n      <th>4</th>\n      <td>Louisa Community Bank</td>\n      <td>Louisa</td>\n      <td>KY</td>\n      <td>58112</td>\n      <td>Kentucky Farmers Bank Corporation</td>\n      <td>October 25, 2019</td>\n    </tr>\n    <tr>\n      <th>...</th>\n      <td>...</td>\n      <td>...</td>\n      <td>...</td>\n      <td>...</td>\n      <td>...</td>\n      <td>...</td>\n    </tr>\n    <tr>\n      <th>556</th>\n      <td>Superior Bank, FSB</td>\n      <td>Hinsdale</td>\n      <td>IL</td>\n      <td>32646</td>\n      <td>Superior Federal, FSB</td>\n      <td>July 27, 2001</td>\n    </tr>\n    <tr>\n      <th>557</th>\n      <td>Malta National Bank</td>\n      <td>Malta</td>\n      <td>OH</td>\n      <td>6629</td>\n      <td>North Valley Bank</td>\n      <td>May 3, 2001</td>\n    </tr>\n    <tr>\n      <th>558</th>\n      <td>First Alliance Bank &amp; Trust Co.</td>\n      <td>Manchester</td>\n      <td>NH</td>\n      <td>34264</td>\n      <td>Southern New Hampshire Bank &amp; Trust</td>\n      <td>February 2, 2001</td>\n    </tr>\n    <tr>\n      <th>559</th>\n      <td>National State Bank of Metropolis</td>\n      <td>Metropolis</td>\n      <td>IL</td>\n      <td>3815</td>\n      <td>Banterra Bank of Marion</td>\n      <td>December 14, 2000</td>\n    </tr>\n    <tr>\n      <th>560</th>\n      <td>Bank of Honolulu</td>\n      <td>Honolulu</td>\n      <td>HI</td>\n      <td>21029</td>\n      <td>Bank of the Orient</td>\n      <td>October 13, 2000</td>\n    </tr>\n  </tbody>\n</table>\n<p>561 rows × 6 columns</p>\n</div>"
     },
     "metadata": {},
     "execution_count": 17
    }
   ],
   "source": [
    "dfs[0]"
   ]
  },
  {
   "source": [
    "Many times pages will be more complex and we can still extract the relevant data. "
   ],
   "cell_type": "markdown",
   "metadata": {}
  },
  {
   "cell_type": "code",
   "execution_count": 18,
   "metadata": {},
   "outputs": [],
   "source": [
    "url = 'https://ncov2019.live/data'\n",
    "table_id = 'sortable_table_world'"
   ]
  },
  {
   "cell_type": "code",
   "execution_count": 19,
   "metadata": {},
   "outputs": [],
   "source": [
    "\n",
    "import requests\n",
    "\n",
    "header = {\n",
    "  \"User-Agent\": \"Mozilla/5.0 (X11; Linux x86_64) AppleWebKit/537.36 (KHTML, like Gecko) Chrome/50.0.2661.75 Safari/537.36\",\n",
    "  \"X-Requested-With\": \"XMLHttpRequest\"\n",
    "}\n",
    "\n",
    "r = requests.get(url, headers=header)\n",
    "\n",
    "\n",
    "df_list = pd.read_html(r.text, attrs={'id': table_id})\n"
   ]
  },
  {
   "cell_type": "code",
   "execution_count": 15,
   "metadata": {},
   "outputs": [
    {
     "output_type": "execute_result",
     "data": {
      "text/plain": "                             Name  Confirmed Per Million  Changes Today  \\\n0                           TOTAL   30993016        3986          16395   \n1                  ★  Afghanistan      39044         998            125   \n2                      ★  Albania      12226        4249              0   \n3                      ★  Algeria      49623        1127              0   \n4                      ★  Andorra       1564           0              0   \n..                            ...        ...         ...            ...   \n210                 ★  Montserrat         13           0              0   \n211           ★  Falkland Islands         13           0              0   \n212  ★  Saint Pierre and Miquelon         11           0              0   \n213                   ★  Anguilla          3           0              0   \n214                      ★  China      85279          59             10   \n\n    Percentage Day Change Critical Deceased Per Million.1  Changes Today.1  \\\n0                   0.05%    61410   961479           124              607   \n1                   0.32%       93     1441            37                4   \n2                      0%       13      358           124                0   \n3                      0%       31     1665            38                0   \n4                      0%        4       53             0                0   \n..                    ...      ...      ...           ...              ...   \n210                    0%  Unknown        1             0                0   \n211                    0%  Unknown  Unknown       Unknown                0   \n212                    0%  Unknown  Unknown       Unknown                0   \n213                    0%  Unknown  Unknown       Unknown                0   \n214                 0.01%        3     4634             3                0   \n\n    Percentage Death Change      Tests   Active Recovered Per Million.2  \\\n0                     0.06%  598346540  7499869  22368118          2877   \n1                     0.28%     108591     5027     32576           833   \n2                        0%      74487     4980      6888          2394   \n3                        0%    Unknown  Unknown     34923           793   \n4                        0%     137457      347      1164             0   \n..                      ...        ...      ...       ...           ...   \n210                      0%        373        0        12             0   \n211                      0%       2261  Unknown        13             0   \n212                      0%       1051  Unknown         5             0   \n213                      0%       1020  Unknown         3             0   \n214                      0%  160000000      168     80477            56   \n\n     Population  \n0    7774812442  \n1      39115100  \n2       2877094  \n3      44021396  \n4         77293  \n..          ...  \n210        4993  \n211        3501  \n212        5788  \n213       15032  \n214  1439323776  \n\n[215 rows x 15 columns]",
      "text/html": "<div>\n<style scoped>\n    .dataframe tbody tr th:only-of-type {\n        vertical-align: middle;\n    }\n\n    .dataframe tbody tr th {\n        vertical-align: top;\n    }\n\n    .dataframe thead th {\n        text-align: right;\n    }\n</style>\n<table border=\"1\" class=\"dataframe\">\n  <thead>\n    <tr style=\"text-align: right;\">\n      <th></th>\n      <th>Name</th>\n      <th>Confirmed</th>\n      <th>Per Million</th>\n      <th>Changes Today</th>\n      <th>Percentage Day Change</th>\n      <th>Critical</th>\n      <th>Deceased</th>\n      <th>Per Million.1</th>\n      <th>Changes Today.1</th>\n      <th>Percentage Death Change</th>\n      <th>Tests</th>\n      <th>Active</th>\n      <th>Recovered</th>\n      <th>Per Million.2</th>\n      <th>Population</th>\n    </tr>\n  </thead>\n  <tbody>\n    <tr>\n      <th>0</th>\n      <td>TOTAL</td>\n      <td>30993016</td>\n      <td>3986</td>\n      <td>16395</td>\n      <td>0.05%</td>\n      <td>61410</td>\n      <td>961479</td>\n      <td>124</td>\n      <td>607</td>\n      <td>0.06%</td>\n      <td>598346540</td>\n      <td>7499869</td>\n      <td>22368118</td>\n      <td>2877</td>\n      <td>7774812442</td>\n    </tr>\n    <tr>\n      <th>1</th>\n      <td>★  Afghanistan</td>\n      <td>39044</td>\n      <td>998</td>\n      <td>125</td>\n      <td>0.32%</td>\n      <td>93</td>\n      <td>1441</td>\n      <td>37</td>\n      <td>4</td>\n      <td>0.28%</td>\n      <td>108591</td>\n      <td>5027</td>\n      <td>32576</td>\n      <td>833</td>\n      <td>39115100</td>\n    </tr>\n    <tr>\n      <th>2</th>\n      <td>★  Albania</td>\n      <td>12226</td>\n      <td>4249</td>\n      <td>0</td>\n      <td>0%</td>\n      <td>13</td>\n      <td>358</td>\n      <td>124</td>\n      <td>0</td>\n      <td>0%</td>\n      <td>74487</td>\n      <td>4980</td>\n      <td>6888</td>\n      <td>2394</td>\n      <td>2877094</td>\n    </tr>\n    <tr>\n      <th>3</th>\n      <td>★  Algeria</td>\n      <td>49623</td>\n      <td>1127</td>\n      <td>0</td>\n      <td>0%</td>\n      <td>31</td>\n      <td>1665</td>\n      <td>38</td>\n      <td>0</td>\n      <td>0%</td>\n      <td>Unknown</td>\n      <td>Unknown</td>\n      <td>34923</td>\n      <td>793</td>\n      <td>44021396</td>\n    </tr>\n    <tr>\n      <th>4</th>\n      <td>★  Andorra</td>\n      <td>1564</td>\n      <td>0</td>\n      <td>0</td>\n      <td>0%</td>\n      <td>4</td>\n      <td>53</td>\n      <td>0</td>\n      <td>0</td>\n      <td>0%</td>\n      <td>137457</td>\n      <td>347</td>\n      <td>1164</td>\n      <td>0</td>\n      <td>77293</td>\n    </tr>\n    <tr>\n      <th>...</th>\n      <td>...</td>\n      <td>...</td>\n      <td>...</td>\n      <td>...</td>\n      <td>...</td>\n      <td>...</td>\n      <td>...</td>\n      <td>...</td>\n      <td>...</td>\n      <td>...</td>\n      <td>...</td>\n      <td>...</td>\n      <td>...</td>\n      <td>...</td>\n      <td>...</td>\n    </tr>\n    <tr>\n      <th>210</th>\n      <td>★  Montserrat</td>\n      <td>13</td>\n      <td>0</td>\n      <td>0</td>\n      <td>0%</td>\n      <td>Unknown</td>\n      <td>1</td>\n      <td>0</td>\n      <td>0</td>\n      <td>0%</td>\n      <td>373</td>\n      <td>0</td>\n      <td>12</td>\n      <td>0</td>\n      <td>4993</td>\n    </tr>\n    <tr>\n      <th>211</th>\n      <td>★  Falkland Islands</td>\n      <td>13</td>\n      <td>0</td>\n      <td>0</td>\n      <td>0%</td>\n      <td>Unknown</td>\n      <td>Unknown</td>\n      <td>Unknown</td>\n      <td>0</td>\n      <td>0%</td>\n      <td>2261</td>\n      <td>Unknown</td>\n      <td>13</td>\n      <td>0</td>\n      <td>3501</td>\n    </tr>\n    <tr>\n      <th>212</th>\n      <td>★  Saint Pierre and Miquelon</td>\n      <td>11</td>\n      <td>0</td>\n      <td>0</td>\n      <td>0%</td>\n      <td>Unknown</td>\n      <td>Unknown</td>\n      <td>Unknown</td>\n      <td>0</td>\n      <td>0%</td>\n      <td>1051</td>\n      <td>Unknown</td>\n      <td>5</td>\n      <td>0</td>\n      <td>5788</td>\n    </tr>\n    <tr>\n      <th>213</th>\n      <td>★  Anguilla</td>\n      <td>3</td>\n      <td>0</td>\n      <td>0</td>\n      <td>0%</td>\n      <td>Unknown</td>\n      <td>Unknown</td>\n      <td>Unknown</td>\n      <td>0</td>\n      <td>0%</td>\n      <td>1020</td>\n      <td>Unknown</td>\n      <td>3</td>\n      <td>0</td>\n      <td>15032</td>\n    </tr>\n    <tr>\n      <th>214</th>\n      <td>★  China</td>\n      <td>85279</td>\n      <td>59</td>\n      <td>10</td>\n      <td>0.01%</td>\n      <td>3</td>\n      <td>4634</td>\n      <td>3</td>\n      <td>0</td>\n      <td>0%</td>\n      <td>160000000</td>\n      <td>168</td>\n      <td>80477</td>\n      <td>56</td>\n      <td>1439323776</td>\n    </tr>\n  </tbody>\n</table>\n<p>215 rows × 15 columns</p>\n</div>"
     },
     "metadata": {},
     "execution_count": 15
    }
   ],
   "source": [
    "df_list[0]"
   ]
  },
  {
   "cell_type": "code",
   "execution_count": null,
   "metadata": {},
   "outputs": [],
   "source": []
  }
 ]
}