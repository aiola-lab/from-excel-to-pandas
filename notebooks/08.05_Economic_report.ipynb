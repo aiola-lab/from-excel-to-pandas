{
 "metadata": {
  "language_info": {
   "codemirror_mode": {
    "name": "ipython",
    "version": 3
   },
   "file_extension": ".py",
   "mimetype": "text/x-python",
   "name": "python",
   "nbconvert_exporter": "python",
   "pygments_lexer": "ipython3",
   "version": "3.9.2-final"
  },
  "orig_nbformat": 2,
  "kernelspec": {
   "name": "python3",
   "display_name": "Python 3",
   "language": "python"
  }
 },
 "nbformat": 4,
 "nbformat_minor": 2,
 "cells": [
  {
   "source": [
    "# Economic Report Generation\n",
    "\n",
    "In this example, we will generate an economic report based on data from the world bank and other similar sources, and it is based on the great blog post [Automate your economic report using Python!](https://towardsdatascience.com/automate-your-economic-report-using-python-36933c11a815)"
   ],
   "cell_type": "markdown",
   "metadata": {}
  },
  {
   "cell_type": "code",
   "execution_count": 1,
   "metadata": {},
   "outputs": [],
   "source": [
    "# Set country to 3-letter country code of country of interest (e.g. KOR for South Korea)\n",
    "country = 'KOR'"
   ]
  },
  {
   "cell_type": "code",
   "execution_count": 6,
   "metadata": {},
   "outputs": [
    {
     "output_type": "stream",
     "name": "stdout",
     "text": [
      "Defaulting to user installation because normal site-packages is not writeable\n",
      "Requirement already satisfied: wbdata in /home/vscode/.local/lib/python3.9/site-packages (0.3.0)\n",
      "\u001b[31mERROR: Could not find a version that satisfies the requirement haver\u001b[0m\n",
      "\u001b[31mERROR: No matching distribution found for haver\u001b[0m\n",
      "Note: you may need to restart the kernel to use updated packages.\n"
     ]
    }
   ],
   "source": [
    "pip install wbdata haver"
   ]
  },
  {
   "cell_type": "code",
   "execution_count": 10,
   "metadata": {},
   "outputs": [],
   "source": [
    "import wbdata as wb                            \n",
    "# import Haver                                   \n",
    "import pandas as pd                            \n",
    "import numpy as np\n",
    "import datetime as dt\n",
    "# import docx                                    \n",
    "# from docx.shared import Cm\n",
    "# from docx.shared import Pt\n",
    "# from docx.enum.text import WD_ALIGN_PARAGRAPH\n",
    "from matplotlib import pyplot as plt\n",
    "from matplotlib import ticker\n",
    "import random\n",
    "import calendar\n",
    "import re\n",
    "# from pandasgui import show"
   ]
  },
  {
   "source": [
    "## Loading the data\n",
    "\n"
   ],
   "cell_type": "markdown",
   "metadata": {}
  },
  {
   "cell_type": "code",
   "execution_count": null,
   "metadata": {},
   "outputs": [],
   "source": [
    "# Set the time period\n",
    "data_date = (\n",
    "    dt\n",
    "    .datetime(\n",
    "        dt.date.today().year - 7, 1, 1), \n",
    "        dt.datetime(dt.date.today().year - 2, 1, 1)\n",
    ")\n",
    "\n",
    "# Read Excel file of country codes and country names\n",
    "country_codes = pd.read_excel('all-data.xlsx', sheet_name='data', index_col='adb_code')\n"
   ]
  },
  {
   "cell_type": "code",
   "execution_count": 12,
   "metadata": {},
   "outputs": [
    {
     "output_type": "error",
     "ename": "NameError",
     "evalue": "name 'country_codes' is not defined",
     "traceback": [
      "\u001b[0;31m---------------------------------------------------------------------------\u001b[0m",
      "\u001b[0;31mNameError\u001b[0m                                 Traceback (most recent call last)",
      "\u001b[0;32m<ipython-input-12-75a431bdde29>\u001b[0m in \u001b[0;36m<module>\u001b[0;34m\u001b[0m\n\u001b[1;32m      4\u001b[0m     .get_dataframe(\n\u001b[1;32m      5\u001b[0m         \u001b[0mindicators\u001b[0m\u001b[0;34m=\u001b[0m\u001b[0;34m\"IC.BUS.EASE.XQ\"\u001b[0m\u001b[0;34m,\u001b[0m\u001b[0;34m\u001b[0m\u001b[0;34m\u001b[0m\u001b[0m\n\u001b[0;32m----> 6\u001b[0;31m         \u001b[0mcountry\u001b[0m\u001b[0;34m=\u001b[0m\u001b[0mcountry_codes\u001b[0m\u001b[0;34m.\u001b[0m\u001b[0miso_code\u001b[0m\u001b[0;34m[\u001b[0m\u001b[0mcountry\u001b[0m\u001b[0;34m]\u001b[0m\u001b[0;34m,\u001b[0m\u001b[0;34m\u001b[0m\u001b[0;34m\u001b[0m\u001b[0m\n\u001b[0m\u001b[1;32m      7\u001b[0m         \u001b[0mdata_date\u001b[0m\u001b[0;34m=\u001b[0m\u001b[0mdata_date\u001b[0m\u001b[0;34m,\u001b[0m\u001b[0;34m\u001b[0m\u001b[0;34m\u001b[0m\u001b[0m\n\u001b[1;32m      8\u001b[0m         \u001b[0mconvert_date\u001b[0m\u001b[0;34m=\u001b[0m\u001b[0;32mTrue\u001b[0m\u001b[0;34m\u001b[0m\u001b[0;34m\u001b[0m\u001b[0m\n",
      "\u001b[0;31mNameError\u001b[0m: name 'country_codes' is not defined"
     ]
    }
   ],
   "source": [
    "# Scrape annual data from the World Bank API\n",
    "df_wb = (\n",
    "    wb\n",
    "    .get_dataframe(\n",
    "        indicators=\"IC.BUS.EASE.XQ\", \n",
    "        country=country_codes.iso_code[country], \n",
    "        data_date=data_date, \n",
    "        convert_date=True\n",
    "    )\n",
    ")"
   ]
  },
  {
   "cell_type": "code",
   "execution_count": null,
   "metadata": {},
   "outputs": [],
   "source": []
  }
 ]
}