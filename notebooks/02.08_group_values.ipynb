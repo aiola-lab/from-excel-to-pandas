{
  "cells": [
    {
      "cell_type": "markdown",
      "metadata": {},
      "source": [
        "# Group numeric values into categories (bins)\n",
        "\n",
        "We often have a column with many numeric values and we want into group them to bins or buckets, such as age groups or value tiers. In Excel we can do it using and of the following options: \n",
        "\n",
        "- Data Menu -> Data Analysis -> Histogram or Rank and Percentile\n",
        "- _VLOOKUP_ (`=LOOKUP(A1,{0,7,14,31,90,180,360},{\"0-6\",\"7-13\",\"14-30\",\"31-89\",\"90-179\",\"180-359\",\">360\"})`, for example), or \n",
        "- _IF_ (`=if(b2>30,\"large\",if(A1>20,\"medium\",if(A1>=10,\"small\",if(A1<10,\"tiny\",\"\"))))`, for example)\n",
        "- _INDEX_ (`=INDEX({\"Small\",\"Medium\",\"Large\"},LARGE(IF(A1>{0,11,21},{1,2,3}),1))`, for example)\n",
        "\n",
        "\n",
        "[![Open In Studio Lab](https://studiolab.sagemaker.aws/studiolab.svg)](https://studiolab.sagemaker.aws/import/github/aiola-lab/from-excel-to-pandas/blob/master/notebooks/02.08_group_values.ipynb)"
      ]
    },
    {
      "cell_type": "markdown",
      "metadata": {},
      "source": [
        "## Cut Function\n",
        "\n",
        "Since this is a common need, Pandas has built-in functions _cut_ and _qcut_ that make it more flexible and accurate."
      ]
    },
    {
      "cell_type": "code",
      "execution_count": 1,
      "metadata": {},
      "outputs": [],
      "source": [
        "import pandas as pd"
      ]
    },
    {
      "cell_type": "markdown",
      "metadata": {},
      "source": [
        "## Real life example\n",
        "\n",
        "### Loading Data\n",
        "\n",
        "As usual, let's load a dataset to work on. We will use the dataset that is used before, \"Bike Share\". This is a data set about the demand of bike share service in Seoul. Please note that we need to modify the default encoding of _read_csv_ from 'UTF-8' to 'latin1'."
      ]
    },
    {
      "cell_type": "code",
      "execution_count": 2,
      "metadata": {},
      "outputs": [
        {
          "data": {
            "text/html": [
              "<div>\n",
              "<style scoped>\n",
              "    .dataframe tbody tr th:only-of-type {\n",
              "        vertical-align: middle;\n",
              "    }\n",
              "\n",
              "    .dataframe tbody tr th {\n",
              "        vertical-align: top;\n",
              "    }\n",
              "\n",
              "    .dataframe thead th {\n",
              "        text-align: right;\n",
              "    }\n",
              "</style>\n",
              "<table border=\"1\" class=\"dataframe\">\n",
              "  <thead>\n",
              "    <tr style=\"text-align: right;\">\n",
              "      <th></th>\n",
              "      <th>Date</th>\n",
              "      <th>Rented Bike Count</th>\n",
              "      <th>Hour</th>\n",
              "      <th>Temperature(°C)</th>\n",
              "      <th>Humidity(%)</th>\n",
              "      <th>Wind speed (m/s)</th>\n",
              "      <th>Visibility (10m)</th>\n",
              "      <th>Dew point temperature(°C)</th>\n",
              "      <th>Solar Radiation (MJ/m2)</th>\n",
              "      <th>Rainfall(mm)</th>\n",
              "      <th>Snowfall (cm)</th>\n",
              "      <th>Seasons</th>\n",
              "      <th>Holiday</th>\n",
              "      <th>Functioning Day</th>\n",
              "    </tr>\n",
              "  </thead>\n",
              "  <tbody>\n",
              "    <tr>\n",
              "      <th>0</th>\n",
              "      <td>01/12/2017</td>\n",
              "      <td>254</td>\n",
              "      <td>0</td>\n",
              "      <td>-5.2</td>\n",
              "      <td>37</td>\n",
              "      <td>2.2</td>\n",
              "      <td>2000</td>\n",
              "      <td>-17.6</td>\n",
              "      <td>0.0</td>\n",
              "      <td>0.0</td>\n",
              "      <td>0.0</td>\n",
              "      <td>Winter</td>\n",
              "      <td>No Holiday</td>\n",
              "      <td>Yes</td>\n",
              "    </tr>\n",
              "    <tr>\n",
              "      <th>1</th>\n",
              "      <td>01/12/2017</td>\n",
              "      <td>204</td>\n",
              "      <td>1</td>\n",
              "      <td>-5.5</td>\n",
              "      <td>38</td>\n",
              "      <td>0.8</td>\n",
              "      <td>2000</td>\n",
              "      <td>-17.6</td>\n",
              "      <td>0.0</td>\n",
              "      <td>0.0</td>\n",
              "      <td>0.0</td>\n",
              "      <td>Winter</td>\n",
              "      <td>No Holiday</td>\n",
              "      <td>Yes</td>\n",
              "    </tr>\n",
              "    <tr>\n",
              "      <th>2</th>\n",
              "      <td>01/12/2017</td>\n",
              "      <td>173</td>\n",
              "      <td>2</td>\n",
              "      <td>-6.0</td>\n",
              "      <td>39</td>\n",
              "      <td>1.0</td>\n",
              "      <td>2000</td>\n",
              "      <td>-17.7</td>\n",
              "      <td>0.0</td>\n",
              "      <td>0.0</td>\n",
              "      <td>0.0</td>\n",
              "      <td>Winter</td>\n",
              "      <td>No Holiday</td>\n",
              "      <td>Yes</td>\n",
              "    </tr>\n",
              "    <tr>\n",
              "      <th>3</th>\n",
              "      <td>01/12/2017</td>\n",
              "      <td>107</td>\n",
              "      <td>3</td>\n",
              "      <td>-6.2</td>\n",
              "      <td>40</td>\n",
              "      <td>0.9</td>\n",
              "      <td>2000</td>\n",
              "      <td>-17.6</td>\n",
              "      <td>0.0</td>\n",
              "      <td>0.0</td>\n",
              "      <td>0.0</td>\n",
              "      <td>Winter</td>\n",
              "      <td>No Holiday</td>\n",
              "      <td>Yes</td>\n",
              "    </tr>\n",
              "    <tr>\n",
              "      <th>4</th>\n",
              "      <td>01/12/2017</td>\n",
              "      <td>78</td>\n",
              "      <td>4</td>\n",
              "      <td>-6.0</td>\n",
              "      <td>36</td>\n",
              "      <td>2.3</td>\n",
              "      <td>2000</td>\n",
              "      <td>-18.6</td>\n",
              "      <td>0.0</td>\n",
              "      <td>0.0</td>\n",
              "      <td>0.0</td>\n",
              "      <td>Winter</td>\n",
              "      <td>No Holiday</td>\n",
              "      <td>Yes</td>\n",
              "    </tr>\n",
              "    <tr>\n",
              "      <th>...</th>\n",
              "      <td>...</td>\n",
              "      <td>...</td>\n",
              "      <td>...</td>\n",
              "      <td>...</td>\n",
              "      <td>...</td>\n",
              "      <td>...</td>\n",
              "      <td>...</td>\n",
              "      <td>...</td>\n",
              "      <td>...</td>\n",
              "      <td>...</td>\n",
              "      <td>...</td>\n",
              "      <td>...</td>\n",
              "      <td>...</td>\n",
              "      <td>...</td>\n",
              "    </tr>\n",
              "    <tr>\n",
              "      <th>8755</th>\n",
              "      <td>30/11/2018</td>\n",
              "      <td>1003</td>\n",
              "      <td>19</td>\n",
              "      <td>4.2</td>\n",
              "      <td>34</td>\n",
              "      <td>2.6</td>\n",
              "      <td>1894</td>\n",
              "      <td>-10.3</td>\n",
              "      <td>0.0</td>\n",
              "      <td>0.0</td>\n",
              "      <td>0.0</td>\n",
              "      <td>Autumn</td>\n",
              "      <td>No Holiday</td>\n",
              "      <td>Yes</td>\n",
              "    </tr>\n",
              "    <tr>\n",
              "      <th>8756</th>\n",
              "      <td>30/11/2018</td>\n",
              "      <td>764</td>\n",
              "      <td>20</td>\n",
              "      <td>3.4</td>\n",
              "      <td>37</td>\n",
              "      <td>2.3</td>\n",
              "      <td>2000</td>\n",
              "      <td>-9.9</td>\n",
              "      <td>0.0</td>\n",
              "      <td>0.0</td>\n",
              "      <td>0.0</td>\n",
              "      <td>Autumn</td>\n",
              "      <td>No Holiday</td>\n",
              "      <td>Yes</td>\n",
              "    </tr>\n",
              "    <tr>\n",
              "      <th>8757</th>\n",
              "      <td>30/11/2018</td>\n",
              "      <td>694</td>\n",
              "      <td>21</td>\n",
              "      <td>2.6</td>\n",
              "      <td>39</td>\n",
              "      <td>0.3</td>\n",
              "      <td>1968</td>\n",
              "      <td>-9.9</td>\n",
              "      <td>0.0</td>\n",
              "      <td>0.0</td>\n",
              "      <td>0.0</td>\n",
              "      <td>Autumn</td>\n",
              "      <td>No Holiday</td>\n",
              "      <td>Yes</td>\n",
              "    </tr>\n",
              "    <tr>\n",
              "      <th>8758</th>\n",
              "      <td>30/11/2018</td>\n",
              "      <td>712</td>\n",
              "      <td>22</td>\n",
              "      <td>2.1</td>\n",
              "      <td>41</td>\n",
              "      <td>1.0</td>\n",
              "      <td>1859</td>\n",
              "      <td>-9.8</td>\n",
              "      <td>0.0</td>\n",
              "      <td>0.0</td>\n",
              "      <td>0.0</td>\n",
              "      <td>Autumn</td>\n",
              "      <td>No Holiday</td>\n",
              "      <td>Yes</td>\n",
              "    </tr>\n",
              "    <tr>\n",
              "      <th>8759</th>\n",
              "      <td>30/11/2018</td>\n",
              "      <td>584</td>\n",
              "      <td>23</td>\n",
              "      <td>1.9</td>\n",
              "      <td>43</td>\n",
              "      <td>1.3</td>\n",
              "      <td>1909</td>\n",
              "      <td>-9.3</td>\n",
              "      <td>0.0</td>\n",
              "      <td>0.0</td>\n",
              "      <td>0.0</td>\n",
              "      <td>Autumn</td>\n",
              "      <td>No Holiday</td>\n",
              "      <td>Yes</td>\n",
              "    </tr>\n",
              "  </tbody>\n",
              "</table>\n",
              "<p>8760 rows × 14 columns</p>\n",
              "</div>"
            ],
            "text/plain": [
              "            Date  Rented Bike Count  Hour  Temperature(°C)  Humidity(%)  \\\n",
              "0     01/12/2017                254     0             -5.2           37   \n",
              "1     01/12/2017                204     1             -5.5           38   \n",
              "2     01/12/2017                173     2             -6.0           39   \n",
              "3     01/12/2017                107     3             -6.2           40   \n",
              "4     01/12/2017                 78     4             -6.0           36   \n",
              "...          ...                ...   ...              ...          ...   \n",
              "8755  30/11/2018               1003    19              4.2           34   \n",
              "8756  30/11/2018                764    20              3.4           37   \n",
              "8757  30/11/2018                694    21              2.6           39   \n",
              "8758  30/11/2018                712    22              2.1           41   \n",
              "8759  30/11/2018                584    23              1.9           43   \n",
              "\n",
              "      Wind speed (m/s)  Visibility (10m)  Dew point temperature(°C)  \\\n",
              "0                  2.2              2000                      -17.6   \n",
              "1                  0.8              2000                      -17.6   \n",
              "2                  1.0              2000                      -17.7   \n",
              "3                  0.9              2000                      -17.6   \n",
              "4                  2.3              2000                      -18.6   \n",
              "...                ...               ...                        ...   \n",
              "8755               2.6              1894                      -10.3   \n",
              "8756               2.3              2000                       -9.9   \n",
              "8757               0.3              1968                       -9.9   \n",
              "8758               1.0              1859                       -9.8   \n",
              "8759               1.3              1909                       -9.3   \n",
              "\n",
              "      Solar Radiation (MJ/m2)  Rainfall(mm)  Snowfall (cm) Seasons  \\\n",
              "0                         0.0           0.0            0.0  Winter   \n",
              "1                         0.0           0.0            0.0  Winter   \n",
              "2                         0.0           0.0            0.0  Winter   \n",
              "3                         0.0           0.0            0.0  Winter   \n",
              "4                         0.0           0.0            0.0  Winter   \n",
              "...                       ...           ...            ...     ...   \n",
              "8755                      0.0           0.0            0.0  Autumn   \n",
              "8756                      0.0           0.0            0.0  Autumn   \n",
              "8757                      0.0           0.0            0.0  Autumn   \n",
              "8758                      0.0           0.0            0.0  Autumn   \n",
              "8759                      0.0           0.0            0.0  Autumn   \n",
              "\n",
              "         Holiday Functioning Day  \n",
              "0     No Holiday             Yes  \n",
              "1     No Holiday             Yes  \n",
              "2     No Holiday             Yes  \n",
              "3     No Holiday             Yes  \n",
              "4     No Holiday             Yes  \n",
              "...          ...             ...  \n",
              "8755  No Holiday             Yes  \n",
              "8756  No Holiday             Yes  \n",
              "8757  No Holiday             Yes  \n",
              "8758  No Holiday             Yes  \n",
              "8759  No Holiday             Yes  \n",
              "\n",
              "[8760 rows x 14 columns]"
            ]
          },
          "execution_count": 2,
          "metadata": {},
          "output_type": "execute_result"
        }
      ],
      "source": [
        "bike_share_data = (\n",
        "    pd\n",
        "    .read_csv(\n",
        "        'https://archive.ics.uci.edu/ml/machine-learning-databases/00560/SeoulBikeData.csv', \n",
        "        encoding='latin1'\n",
        "    )\n",
        ")\n",
        "bike_share_data"
      ]
    },
    {
      "cell_type": "markdown",
      "metadata": {},
      "source": [
        "### Simple Data Visulizations\n",
        "\n",
        "* Start with the table above\n",
        "* Create Histograms for numeric columns\n",
        "* Plot the histograms"
      ]
    },
    {
      "cell_type": "code",
      "execution_count": 3,
      "metadata": {},
      "outputs": [
        {
          "data": {
            "image/png": "[encoded data removed]",
            "text/plain": [
              "<Figure size 432x288 with 1 Axes>"
            ]
          },
          "metadata": {
            "needs_background": "light"
          },
          "output_type": "display_data"
        }
      ],
      "source": [
        "(\n",
        "    bike_share_data\n",
        "    [['Rented Bike Count']]\n",
        "    .plot(\n",
        "        kind='hist', \n",
        "        alpha=0.5, \n",
        "        title='Rented Bike Count'\n",
        "    )\n",
        ");"
      ]
    },
    {
      "cell_type": "code",
      "execution_count": 4,
      "metadata": {},
      "outputs": [
        {
          "data": {
            "image/png": "[encoded data removed]",
            "text/plain": [
              "<Figure size 432x288 with 1 Axes>"
            ]
          },
          "metadata": {
            "needs_background": "light"
          },
          "output_type": "display_data"
        }
      ],
      "source": [
        "(\n",
        "    bike_share_data\n",
        "    [['Temperature(°C)']]\n",
        "    .plot(\n",
        "        kind='hist', \n",
        "        alpha=0.5, \n",
        "        title='Temperature(°C)'\n",
        "    )\n",
        ");"
      ]
    },
    {
      "cell_type": "markdown",
      "metadata": {},
      "source": [
        "### Creating bins with _Cut_\n",
        "\n",
        "* Start with the table above\n",
        "* Focus on the temperature column\n",
        "* Create 5 bins"
      ]
    },
    {
      "cell_type": "code",
      "execution_count": 5,
      "metadata": {},
      "outputs": [
        {
          "data": {
            "text/plain": [
              "0       (-6.36, 5.08]\n",
              "1       (-6.36, 5.08]\n",
              "2       (-6.36, 5.08]\n",
              "3       (-6.36, 5.08]\n",
              "4       (-6.36, 5.08]\n",
              "            ...      \n",
              "8755    (-6.36, 5.08]\n",
              "8756    (-6.36, 5.08]\n",
              "8757    (-6.36, 5.08]\n",
              "8758    (-6.36, 5.08]\n",
              "8759    (-6.36, 5.08]\n",
              "Name: Temperature(°C), Length: 8760, dtype: category\n",
              "Categories (5, interval[float64, right]): [(-17.857, -6.36] < (-6.36, 5.08] < (5.08, 16.52] < (16.52, 27.96] < (27.96, 39.4]]"
            ]
          },
          "execution_count": 5,
          "metadata": {},
          "output_type": "execute_result"
        }
      ],
      "source": [
        "(\n",
        "    pd\n",
        "    .cut(\n",
        "        bike_share_data\n",
        "        ['Temperature(°C)'], \n",
        "        5\n",
        "    )  \n",
        ")"
      ]
    },
    {
      "cell_type": "markdown",
      "metadata": {},
      "source": [
        "We see the interval fo each of the bins:\n",
        "`[(-17.857, -6.36] < (-6.36, 5.08] < (5.08, 16.52] < (16.52, 27.96] < (27.96, 39.4]]` that are in order and split to more or less equal sizes from temperature values perspective. Let's see how well they split the data:\n",
        "\n",
        "* Split the temperature value into 5 bins\n",
        "* Count the number of records in each bin\n",
        "* Sort the values by the temperature range (the index of the series)\n"
      ]
    },
    {
      "cell_type": "code",
      "execution_count": 6,
      "metadata": {},
      "outputs": [
        {
          "data": {
            "text/plain": [
              "(-17.857, -6.36]     529\n",
              "(-6.36, 5.08]       1989\n",
              "(5.08, 16.52]       2428\n",
              "(16.52, 27.96]      2923\n",
              "(27.96, 39.4]        891\n",
              "Name: Temperature(°C), dtype: int64"
            ]
          },
          "execution_count": 6,
          "metadata": {},
          "output_type": "execute_result"
        }
      ],
      "source": [
        "(\n",
        "    pd\n",
        "    .cut(\n",
        "        bike_share_data\n",
        "        ['Temperature(°C)'], \n",
        "        5\n",
        "    )\n",
        "    .value_counts()\n",
        "    .sort_index()\n",
        ")"
      ]
    },
    {
      "cell_type": "markdown",
      "metadata": {},
      "source": [
        "First, we see that the bins are in order when we sort them, and not by alphabetic order. More importanty, we see that they are not equal in size of records, and not based on any other meaningful split.\n",
        "\n",
        "### Setting the bins' limits\n",
        "\n",
        "We can set the bins to be more meaningful by setting the limits explicitly. As experts in bicycles, we might know the temperature ranges that are suitable for different accessories and clothings. Let's fix the ranges based on this domain knowledge:\n",
        "\n",
        "* Split the temperature value into 5 bins based on bicycle professional ranges\n",
        "* Count the number of records in each bin\n",
        "* Sort the values by the temperature range (the index of the series)\n",
        "\n"
      ]
    },
    {
      "cell_type": "code",
      "execution_count": 7,
      "metadata": {},
      "outputs": [
        {
          "data": {
            "text/plain": [
              "(-18, 0]    1454\n",
              "(0, 8]      1731\n",
              "(8, 16]     1651\n",
              "(16, 24]    2148\n",
              "(24, 40]    1776\n",
              "Name: Temperature(°C), dtype: int64"
            ]
          },
          "execution_count": 7,
          "metadata": {},
          "output_type": "execute_result"
        }
      ],
      "source": [
        "(\n",
        "    pd\n",
        "    .cut(\n",
        "        bike_share_data\n",
        "        ['Temperature(°C)'], \n",
        "        bins=[-18, 0, 8, 16, 24, 40]\n",
        "    )\n",
        "    .value_counts()\n",
        "    .sort_index()\n",
        ")\n"
      ]
    },
    {
      "cell_type": "markdown",
      "metadata": {},
      "source": [
        "### Adding meaningful labels\n",
        "\n",
        "* Create a new column in the table for the temperature ranges\n",
        "* Split the temperature value into 5 bins based on bicycle professional ranges\n",
        "* Count the number of records in each bin\n",
        "* Add human readable labels to the bins\n",
        "* Sort the values by the temperature range (the index of the series)"
      ]
    },
    {
      "cell_type": "code",
      "execution_count": 8,
      "metadata": {},
      "outputs": [
        {
          "data": {
            "text/plain": [
              "Below Freezing    1454\n",
              "Freezing          1731\n",
              "Cold              1651\n",
              "Warm              2148\n",
              "Sizzling          1776\n",
              "Name: Temperature Range, dtype: int64"
            ]
          },
          "execution_count": 8,
          "metadata": {},
          "output_type": "execute_result"
        }
      ],
      "source": [
        "bike_share_data['Temperature Range'] = (\n",
        "    pd\n",
        "    .cut(\n",
        "        bike_share_data\n",
        "        ['Temperature(°C)'], \n",
        "        bins=[-18, 0, 8, 16, 24, 40],\n",
        "        labels=['Below Freezing', 'Freezing', 'Cold', 'Warm','Sizzling']\n",
        "    )\n",
        "    \n",
        ")\n",
        "(\n",
        "    bike_share_data\n",
        "    ['Temperature Range']\n",
        "    .value_counts()\n",
        "    .sort_index()\n",
        ")\n"
      ]
    },
    {
      "cell_type": "markdown",
      "metadata": {},
      "source": [
        "We see that the order is still the right order and not alphabetical, and the split is more balanced in the number of records.\n",
        "\n",
        "### Boxplot for each bin\n",
        "\n",
        "Now we can take every group of records and calculate and plot their box-plot showing the mean and the different quantiles of the different groups."
      ]
    },
    {
      "cell_type": "code",
      "execution_count": 9,
      "metadata": {},
      "outputs": [
        {
          "name": "stderr",
          "output_type": "stream",
          "text": [
            "/opt/conda/lib/python3.7/site-packages/numpy/core/_asarray.py:102: VisibleDeprecationWarning: Creating an ndarray from ragged nested sequences (which is a list-or-tuple of lists-or-tuples-or ndarrays with different lengths or shapes) is deprecated. If you meant to do this, you must specify 'dtype=object' when creating the ndarray.\n",
            "  return array(a, dtype, copy=False, order=order)\n"
          ]
        },
        {
          "data": {
            "image/png": "[encoded data removed]",
            "text/plain": [
              "<Figure size 432x288 with 1 Axes>"
            ]
          },
          "metadata": {
            "needs_background": "light"
          },
          "output_type": "display_data"
        }
      ],
      "source": [
        "(\n",
        "    bike_share_data\n",
        "    [['Rented Bike Count','Temperature Range']]\n",
        "    .boxplot(by='Temperature Range')\n",
        ");"
      ]
    },
    {
      "cell_type": "markdown",
      "metadata": {},
      "source": [
        "## What is wrong with Historgram\n",
        "\n",
        "As much as historgrams are popular and simple to plot, they have many limitation:\n",
        "- It depends (too much) on the number of bins.\n",
        "- It depends (too much) on variable’s maximum and minimum.\n",
        "- It doesn’t allow to detect relevant values.\n",
        "- It doesn’t allow to discern continuous from discrete variables.\n",
        "- It makes it hard to compare distributions.\n",
        "\n",
        "We will use a couple of other plot option to see the data distributions more accurately.\n",
        "\n"
      ]
    },
    {
      "cell_type": "markdown",
      "metadata": {},
      "source": [
        "### Kernel Density Estimator (KDE)\n",
        "\n",
        "This method is calculating and plotting the estimation of the data distribution, and it is part of the Pandas built-in functions:"
      ]
    },
    {
      "cell_type": "code",
      "execution_count": 10,
      "metadata": {},
      "outputs": [
        {
          "data": {
            "image/png": "[encoded data removed]",
            "text/plain": [
              "<Figure size 432x288 with 1 Axes>"
            ]
          },
          "metadata": {
            "needs_background": "light"
          },
          "output_type": "display_data"
        }
      ],
      "source": [
        "(\n",
        "    bike_share_data\n",
        "    ['Rented Bike Count']\n",
        "    .plot\n",
        "    .kde(\n",
        "        title='Rented Bike Count',\n",
        "        grid=True\n",
        "    )\n",
        ");"
      ]
    },
    {
      "cell_type": "code",
      "execution_count": 11,
      "metadata": {},
      "outputs": [
        {
          "data": {
            "image/png": "[encoded data removed]",
            "text/plain": [
              "<Figure size 432x288 with 1 Axes>"
            ]
          },
          "metadata": {
            "needs_background": "light"
          },
          "output_type": "display_data"
        }
      ],
      "source": [
        "(\n",
        "    bike_share_data\n",
        "    ['Temperature(°C)']\n",
        "    .plot\n",
        "    .kde(\n",
        "        title='Temperature(°C)', \n",
        "        grid=True\n",
        "    )\n",
        ");"
      ]
    },
    {
      "cell_type": "markdown",
      "metadata": {},
      "source": [
        "### Cumulative Distribution Function (CDF)\n",
        "\n",
        "The second option is using counts of the different percentiles of the data and using a cumulative plot makes it easy to find the value of each percentile and calculate the percentage of data points between every given percentiles."
      ]
    },
    {
      "cell_type": "code",
      "execution_count": 12,
      "metadata": {},
      "outputs": [
        {
          "name": "stdout",
          "output_type": "stream",
          "text": [
            "/opt/conda/lib/python3.7/site-packages/secretstorage/dhcrypto.py:16: CryptographyDeprecationWarning: int_from_bytes is deprecated, use int.from_bytes instead\n",
            "  from cryptography.utils import int_from_bytes\n",
            "/opt/conda/lib/python3.7/site-packages/secretstorage/util.py:25: CryptographyDeprecationWarning: int_from_bytes is deprecated, use int.from_bytes instead\n",
            "  from cryptography.utils import int_from_bytes\n",
            "Requirement already satisfied: statsmodels in /opt/conda/lib/python3.7/site-packages (0.11.0)\n",
            "Requirement already satisfied: scipy>=1.0 in /opt/conda/lib/python3.7/site-packages (from statsmodels) (1.4.1)\n",
            "Requirement already satisfied: numpy>=1.14 in /opt/conda/lib/python3.7/site-packages (from statsmodels) (1.20.3)\n",
            "Requirement already satisfied: pandas>=0.21 in /opt/conda/lib/python3.7/site-packages (from statsmodels) (1.3.5)\n",
            "Requirement already satisfied: patsy>=0.5 in /opt/conda/lib/python3.7/site-packages (from statsmodels) (0.5.1)\n",
            "Requirement already satisfied: python-dateutil>=2.7.3 in /opt/conda/lib/python3.7/site-packages (from pandas>=0.21->statsmodels) (2.8.1)\n",
            "Requirement already satisfied: pytz>=2017.3 in /opt/conda/lib/python3.7/site-packages (from pandas>=0.21->statsmodels) (2019.3)\n",
            "Requirement already satisfied: six in /opt/conda/lib/python3.7/site-packages (from patsy>=0.5->statsmodels) (1.14.0)\n",
            "\u001b[33mWARNING: Running pip as the 'root' user can result in broken permissions and conflicting behaviour with the system package manager. It is recommended to use a virtual environment instead: https://pip.pypa.io/warnings/venv\u001b[0m\n",
            "Note: you may need to restart the kernel to use updated packages.\n"
          ]
        }
      ],
      "source": [
        "%pip install statsmodels"
      ]
    },
    {
      "cell_type": "code",
      "execution_count": 13,
      "metadata": {},
      "outputs": [],
      "source": [
        "from statsmodels.distributions.empirical_distribution import ECDF\n",
        "import matplotlib.pyplot as plt\n"
      ]
    },
    {
      "cell_type": "code",
      "execution_count": 14,
      "metadata": {},
      "outputs": [
        {
          "data": {
            "image/png": "[encoded data removed]",
            "text/plain": [
              "<Figure size 432x288 with 1 Axes>"
            ]
          },
          "metadata": {
            "needs_background": "light"
          },
          "output_type": "display_data"
        }
      ],
      "source": [
        "ecdf = ECDF(bike_share_data['Temperature(°C)'])\n",
        "plt.plot(ecdf.x, ecdf.y)\n",
        "plt.grid(True)\n",
        "plt.title('Temperature(°C)'); "
      ]
    },
    {
      "cell_type": "code",
      "execution_count": 15,
      "metadata": {},
      "outputs": [
        {
          "data": {
            "image/png": "[encoded data removed]",
            "text/plain": [
              "<Figure size 432x288 with 1 Axes>"
            ]
          },
          "metadata": {
            "needs_background": "light"
          },
          "output_type": "display_data"
        }
      ],
      "source": [
        "ecdf = ECDF(bike_share_data['Rented Bike Count'])\n",
        "plt.plot(ecdf.x, ecdf.y)\n",
        "plt.grid(True)\n",
        "plt.title('Rented Bike Count'); "
      ]
    },
    {
      "cell_type": "markdown",
      "metadata": {},
      "source": [
        "## Group by Quantiles using _qcut_\n",
        "\n",
        "When using a target score such as grades or number of rentals, it makes sense to use the split using the Quantiles of the scores. "
      ]
    },
    {
      "cell_type": "code",
      "execution_count": 16,
      "metadata": {},
      "outputs": [
        {
          "data": {
            "text/plain": [
              "Low          2194\n",
              "Medium       2186\n",
              "High         2190\n",
              "Very High    2190\n",
              "Name: Usage Level, dtype: int64"
            ]
          },
          "execution_count": 16,
          "metadata": {},
          "output_type": "execute_result"
        }
      ],
      "source": [
        "bike_share_data['Usage Level'] = (\n",
        "    pd\n",
        "    .qcut(\n",
        "        bike_share_data['Rented Bike Count'], \n",
        "        q=4,\n",
        "        labels=['Low', 'Medium', 'High', 'Very High']\n",
        "    )\n",
        ")\n",
        "(\n",
        "    bike_share_data\n",
        "    ['Usage Level']\n",
        "    .value_counts()\n",
        "    .sort_index()\n",
        ")"
      ]
    },
    {
      "cell_type": "code",
      "execution_count": 17,
      "metadata": {},
      "outputs": [
        {
          "name": "stderr",
          "output_type": "stream",
          "text": [
            "/opt/conda/lib/python3.7/site-packages/numpy/core/_asarray.py:102: VisibleDeprecationWarning: Creating an ndarray from ragged nested sequences (which is a list-or-tuple of lists-or-tuples-or ndarrays with different lengths or shapes) is deprecated. If you meant to do this, you must specify 'dtype=object' when creating the ndarray.\n",
            "  return array(a, dtype, copy=False, order=order)\n"
          ]
        },
        {
          "data": {
            "image/png": "[encoded data removed]",
            "text/plain": [
              "<Figure size 432x288 with 1 Axes>"
            ]
          },
          "metadata": {
            "needs_background": "light"
          },
          "output_type": "display_data"
        }
      ],
      "source": [
        "(\n",
        "    bike_share_data\n",
        "    [['Temperature(°C)','Usage Level']]\n",
        "    .boxplot(by='Usage Level')\n",
        ");"
      ]
    },
    {
      "cell_type": "markdown",
      "metadata": {},
      "source": [
        "### Heat map with the new value group\n",
        "\n",
        "Now that we have the new value categories and we can create heat map to see the hours of the day that are the peak hours that can be used with higher price tiers."
      ]
    },
    {
      "cell_type": "code",
      "execution_count": 18,
      "metadata": {},
      "outputs": [],
      "source": [
        "import seaborn as sns"
      ]
    },
    {
      "cell_type": "code",
      "execution_count": 19,
      "metadata": {},
      "outputs": [
        {
          "data": {
            "image/png": "[encoded data removed]",
            "text/plain": [
              "<Figure size 432x288 with 2 Axes>"
            ]
          },
          "metadata": {
            "needs_background": "light"
          },
          "output_type": "display_data"
        }
      ],
      "source": [
        "sns.heatmap(\n",
        "    bike_share_data\n",
        "    [['Usage Level','Hour','Date']]\n",
        "    .pivot_table(\n",
        "        index='Hour', \n",
        "        columns='Usage Level',\n",
        "        aggfunc='count'\n",
        "    )\n",
        "    .droplevel(0, axis='columns'),\n",
        "    cmap=\"YlOrRd\"\n",
        ");"
      ]
    },
    {
      "cell_type": "code",
      "execution_count": null,
      "metadata": {},
      "outputs": [],
      "source": []
    }
  ],
  "metadata": [],
  "nbformat": 4,
  "nbformat_minor": 4
}
