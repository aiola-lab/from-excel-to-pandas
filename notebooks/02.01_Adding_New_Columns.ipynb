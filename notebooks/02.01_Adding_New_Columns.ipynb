{
 "metadata": {
  "language_info": {
   "codemirror_mode": {
    "name": "ipython",
    "version": 3
   },
   "file_extension": ".py",
   "mimetype": "text/x-python",
   "name": "python",
   "nbconvert_exporter": "python",
   "pygments_lexer": "ipython3",
   "version": "3.8.2-final"
  },
  "orig_nbformat": 2,
  "kernelspec": {
   "name": "python_defaultSpec_1601129377118",
   "display_name": "Python 3.8.2 64-bit"
  }
 },
 "nbformat": 4,
 "nbformat_minor": 2,
 "cells": [
  {
   "source": [
    "# Adding New Columns\n",
    "\n",
    "In the second chapter we will learn how to add new columns to the tables based on a set of functions. This is similar to the Functions that are available in Excel with _=FUNC(A1)_"
   ],
   "cell_type": "markdown",
   "metadata": {}
  },
  {
   "source": [
    "We will start with loading a csv file that is hosted in data.world on the \"Median Value Per Sq ft per zip code in the US\""
   ],
   "cell_type": "markdown",
   "metadata": {}
  },
  {
   "cell_type": "code",
   "execution_count": 68,
   "metadata": {},
   "outputs": [],
   "source": [
    "import pandas as pd"
   ]
  },
  {
   "cell_type": "code",
   "execution_count": 69,
   "metadata": {},
   "outputs": [],
   "source": [
    "df = pd.read_csv('https://query.data.world/s/xrfy7fb7oq55gpzh6bvs6jtonv32lk')"
   ]
  },
  {
   "cell_type": "code",
   "execution_count": 70,
   "metadata": {},
   "outputs": [
    {
     "output_type": "execute_result",
     "data": {
      "text/plain": "   RegionID  RegionName      City State     Metro CountyName  SizeRank  \\\n0     61639       10025  New York    NY  New York   New York         1   \n1     84654       60657   Chicago    IL   Chicago       Cook         2   \n2     61637       10023  New York    NY  New York   New York         3   \n3     84616       60614   Chicago    IL   Chicago       Cook         4   \n4     93144       79936   El Paso    TX   El Paso    El Paso         5   \n\n   1996-04  1996-05  1996-06  ...  2016-12  2017-01  2017-02  2017-03  \\\n0      NaN      NaN      NaN  ...   1306.0     1290     1277     1272   \n1    134.0    134.0    133.0  ...    291.0      294      296      295   \n2      NaN      NaN      NaN  ...   1602.0     1597     1580     1567   \n3    149.0    150.0    150.0  ...    330.0      333      333      331   \n4     50.0     51.0     50.0  ...     81.0       81       81       81   \n\n   2017-04  2017-05  2017-06  2017-07  2017-08  2017-09  \n0     1271     1277     1281     1279     1274     1270  \n1      293      294      294      294      294      295  \n2     1569     1570     1560     1543     1529     1521  \n3      330      330      329      328      329      329  \n4       81       81       82       82       82       82  \n\n[5 rows x 265 columns]",
      "text/html": "<div>\n<style scoped>\n    .dataframe tbody tr th:only-of-type {\n        vertical-align: middle;\n    }\n\n    .dataframe tbody tr th {\n        vertical-align: top;\n    }\n\n    .dataframe thead th {\n        text-align: right;\n    }\n</style>\n<table border=\"1\" class=\"dataframe\">\n  <thead>\n    <tr style=\"text-align: right;\">\n      <th></th>\n      <th>RegionID</th>\n      <th>RegionName</th>\n      <th>City</th>\n      <th>State</th>\n      <th>Metro</th>\n      <th>CountyName</th>\n      <th>SizeRank</th>\n      <th>1996-04</th>\n      <th>1996-05</th>\n      <th>1996-06</th>\n      <th>...</th>\n      <th>2016-12</th>\n      <th>2017-01</th>\n      <th>2017-02</th>\n      <th>2017-03</th>\n      <th>2017-04</th>\n      <th>2017-05</th>\n      <th>2017-06</th>\n      <th>2017-07</th>\n      <th>2017-08</th>\n      <th>2017-09</th>\n    </tr>\n  </thead>\n  <tbody>\n    <tr>\n      <th>0</th>\n      <td>61639</td>\n      <td>10025</td>\n      <td>New York</td>\n      <td>NY</td>\n      <td>New York</td>\n      <td>New York</td>\n      <td>1</td>\n      <td>NaN</td>\n      <td>NaN</td>\n      <td>NaN</td>\n      <td>...</td>\n      <td>1306.0</td>\n      <td>1290</td>\n      <td>1277</td>\n      <td>1272</td>\n      <td>1271</td>\n      <td>1277</td>\n      <td>1281</td>\n      <td>1279</td>\n      <td>1274</td>\n      <td>1270</td>\n    </tr>\n    <tr>\n      <th>1</th>\n      <td>84654</td>\n      <td>60657</td>\n      <td>Chicago</td>\n      <td>IL</td>\n      <td>Chicago</td>\n      <td>Cook</td>\n      <td>2</td>\n      <td>134.0</td>\n      <td>134.0</td>\n      <td>133.0</td>\n      <td>...</td>\n      <td>291.0</td>\n      <td>294</td>\n      <td>296</td>\n      <td>295</td>\n      <td>293</td>\n      <td>294</td>\n      <td>294</td>\n      <td>294</td>\n      <td>294</td>\n      <td>295</td>\n    </tr>\n    <tr>\n      <th>2</th>\n      <td>61637</td>\n      <td>10023</td>\n      <td>New York</td>\n      <td>NY</td>\n      <td>New York</td>\n      <td>New York</td>\n      <td>3</td>\n      <td>NaN</td>\n      <td>NaN</td>\n      <td>NaN</td>\n      <td>...</td>\n      <td>1602.0</td>\n      <td>1597</td>\n      <td>1580</td>\n      <td>1567</td>\n      <td>1569</td>\n      <td>1570</td>\n      <td>1560</td>\n      <td>1543</td>\n      <td>1529</td>\n      <td>1521</td>\n    </tr>\n    <tr>\n      <th>3</th>\n      <td>84616</td>\n      <td>60614</td>\n      <td>Chicago</td>\n      <td>IL</td>\n      <td>Chicago</td>\n      <td>Cook</td>\n      <td>4</td>\n      <td>149.0</td>\n      <td>150.0</td>\n      <td>150.0</td>\n      <td>...</td>\n      <td>330.0</td>\n      <td>333</td>\n      <td>333</td>\n      <td>331</td>\n      <td>330</td>\n      <td>330</td>\n      <td>329</td>\n      <td>328</td>\n      <td>329</td>\n      <td>329</td>\n    </tr>\n    <tr>\n      <th>4</th>\n      <td>93144</td>\n      <td>79936</td>\n      <td>El Paso</td>\n      <td>TX</td>\n      <td>El Paso</td>\n      <td>El Paso</td>\n      <td>5</td>\n      <td>50.0</td>\n      <td>51.0</td>\n      <td>50.0</td>\n      <td>...</td>\n      <td>81.0</td>\n      <td>81</td>\n      <td>81</td>\n      <td>81</td>\n      <td>81</td>\n      <td>81</td>\n      <td>82</td>\n      <td>82</td>\n      <td>82</td>\n      <td>82</td>\n    </tr>\n  </tbody>\n</table>\n<p>5 rows × 265 columns</p>\n</div>"
     },
     "metadata": {},
     "execution_count": 70
    }
   ],
   "source": [
    "df.head()"
   ]
  },
  {
   "source": [
    "## Constant Value\n",
    "\n",
    "The simplest way to add a column is to put a constant value. Since we know that this data is only for USA we can add a column with the value _USA_ to a new column called _country_. We will be able to later merge this table with data from other countries and then this new column will be useful. \n",
    "\n",
    "For setting a value in a column we will use the [assign](https://pandas.pydata.org/pandas-docs/stable/reference/api/pandas.DataFrame.assign.html) function of Pandas."
   ],
   "cell_type": "markdown",
   "metadata": {}
  },
  {
   "cell_type": "code",
   "execution_count": 71,
   "metadata": {},
   "outputs": [
    {
     "output_type": "execute_result",
     "data": {
      "text/plain": "       RegionID  RegionName             City State      Metro    CountyName  \\\n0         61639       10025         New York    NY   New York      New York   \n1         84654       60657          Chicago    IL    Chicago          Cook   \n2         61637       10023         New York    NY   New York      New York   \n3         84616       60614          Chicago    IL    Chicago          Cook   \n4         93144       79936          El Paso    TX    El Paso       El Paso   \n...         ...         ...              ...   ...        ...           ...   \n14750     73940       36564         Fairhope    AL     Daphne       Baldwin   \n14751     59107        3293        Woodstock    NH  Claremont       Grafton   \n14752     82396       55713             Buhl    MN     Duluth   Saint Louis   \n14753     66881       21405        Annapolis    MD  Baltimore  Anne Arundel   \n14754     94815       85220  Apache Junction    AZ    Phoenix         Pinal   \n\n       SizeRank  1996-04  1996-05  1996-06  ...  2017-01  2017-02  2017-03  \\\n0             1      NaN      NaN      NaN  ...     1290     1277     1272   \n1             2    134.0    134.0    133.0  ...      294      296      295   \n2             3      NaN      NaN      NaN  ...     1597     1580     1567   \n3             4    149.0    150.0    150.0  ...      333      333      331   \n4             5     50.0     51.0     50.0  ...       81       81       81   \n...         ...      ...      ...      ...  ...      ...      ...      ...   \n14750     14751      NaN      NaN      NaN  ...      230      238      243   \n14751     14752     58.0     59.0     61.0  ...      129      129      128   \n14752     14753      NaN      NaN      NaN  ...       72       73       74   \n14753     14754    146.0    149.0    151.0  ...      470      462      457   \n14754     14755      NaN      NaN      NaN  ...      117      119      119   \n\n       2017-04  2017-05  2017-06  2017-07  2017-08  2017-09  country  \n0         1271     1277     1281     1279     1274     1270      USA  \n1          293      294      294      294      294      295      USA  \n2         1569     1570     1560     1543     1529     1521      USA  \n3          330      330      329      328      329      329      USA  \n4           81       81       82       82       82       82      USA  \n...        ...      ...      ...      ...      ...      ...      ...  \n14750      245      244      245      246      244      240      USA  \n14751      129      130      130      130      130      131      USA  \n14752       74       73       73       74       77       79      USA  \n14753      457      455      454      455      458      460      USA  \n14754      119      120      121      122      124      124      USA  \n\n[14755 rows x 266 columns]",
      "text/html": "<div>\n<style scoped>\n    .dataframe tbody tr th:only-of-type {\n        vertical-align: middle;\n    }\n\n    .dataframe tbody tr th {\n        vertical-align: top;\n    }\n\n    .dataframe thead th {\n        text-align: right;\n    }\n</style>\n<table border=\"1\" class=\"dataframe\">\n  <thead>\n    <tr style=\"text-align: right;\">\n      <th></th>\n      <th>RegionID</th>\n      <th>RegionName</th>\n      <th>City</th>\n      <th>State</th>\n      <th>Metro</th>\n      <th>CountyName</th>\n      <th>SizeRank</th>\n      <th>1996-04</th>\n      <th>1996-05</th>\n      <th>1996-06</th>\n      <th>...</th>\n      <th>2017-01</th>\n      <th>2017-02</th>\n      <th>2017-03</th>\n      <th>2017-04</th>\n      <th>2017-05</th>\n      <th>2017-06</th>\n      <th>2017-07</th>\n      <th>2017-08</th>\n      <th>2017-09</th>\n      <th>country</th>\n    </tr>\n  </thead>\n  <tbody>\n    <tr>\n      <th>0</th>\n      <td>61639</td>\n      <td>10025</td>\n      <td>New York</td>\n      <td>NY</td>\n      <td>New York</td>\n      <td>New York</td>\n      <td>1</td>\n      <td>NaN</td>\n      <td>NaN</td>\n      <td>NaN</td>\n      <td>...</td>\n      <td>1290</td>\n      <td>1277</td>\n      <td>1272</td>\n      <td>1271</td>\n      <td>1277</td>\n      <td>1281</td>\n      <td>1279</td>\n      <td>1274</td>\n      <td>1270</td>\n      <td>USA</td>\n    </tr>\n    <tr>\n      <th>1</th>\n      <td>84654</td>\n      <td>60657</td>\n      <td>Chicago</td>\n      <td>IL</td>\n      <td>Chicago</td>\n      <td>Cook</td>\n      <td>2</td>\n      <td>134.0</td>\n      <td>134.0</td>\n      <td>133.0</td>\n      <td>...</td>\n      <td>294</td>\n      <td>296</td>\n      <td>295</td>\n      <td>293</td>\n      <td>294</td>\n      <td>294</td>\n      <td>294</td>\n      <td>294</td>\n      <td>295</td>\n      <td>USA</td>\n    </tr>\n    <tr>\n      <th>2</th>\n      <td>61637</td>\n      <td>10023</td>\n      <td>New York</td>\n      <td>NY</td>\n      <td>New York</td>\n      <td>New York</td>\n      <td>3</td>\n      <td>NaN</td>\n      <td>NaN</td>\n      <td>NaN</td>\n      <td>...</td>\n      <td>1597</td>\n      <td>1580</td>\n      <td>1567</td>\n      <td>1569</td>\n      <td>1570</td>\n      <td>1560</td>\n      <td>1543</td>\n      <td>1529</td>\n      <td>1521</td>\n      <td>USA</td>\n    </tr>\n    <tr>\n      <th>3</th>\n      <td>84616</td>\n      <td>60614</td>\n      <td>Chicago</td>\n      <td>IL</td>\n      <td>Chicago</td>\n      <td>Cook</td>\n      <td>4</td>\n      <td>149.0</td>\n      <td>150.0</td>\n      <td>150.0</td>\n      <td>...</td>\n      <td>333</td>\n      <td>333</td>\n      <td>331</td>\n      <td>330</td>\n      <td>330</td>\n      <td>329</td>\n      <td>328</td>\n      <td>329</td>\n      <td>329</td>\n      <td>USA</td>\n    </tr>\n    <tr>\n      <th>4</th>\n      <td>93144</td>\n      <td>79936</td>\n      <td>El Paso</td>\n      <td>TX</td>\n      <td>El Paso</td>\n      <td>El Paso</td>\n      <td>5</td>\n      <td>50.0</td>\n      <td>51.0</td>\n      <td>50.0</td>\n      <td>...</td>\n      <td>81</td>\n      <td>81</td>\n      <td>81</td>\n      <td>81</td>\n      <td>81</td>\n      <td>82</td>\n      <td>82</td>\n      <td>82</td>\n      <td>82</td>\n      <td>USA</td>\n    </tr>\n    <tr>\n      <th>...</th>\n      <td>...</td>\n      <td>...</td>\n      <td>...</td>\n      <td>...</td>\n      <td>...</td>\n      <td>...</td>\n      <td>...</td>\n      <td>...</td>\n      <td>...</td>\n      <td>...</td>\n      <td>...</td>\n      <td>...</td>\n      <td>...</td>\n      <td>...</td>\n      <td>...</td>\n      <td>...</td>\n      <td>...</td>\n      <td>...</td>\n      <td>...</td>\n      <td>...</td>\n      <td>...</td>\n    </tr>\n    <tr>\n      <th>14750</th>\n      <td>73940</td>\n      <td>36564</td>\n      <td>Fairhope</td>\n      <td>AL</td>\n      <td>Daphne</td>\n      <td>Baldwin</td>\n      <td>14751</td>\n      <td>NaN</td>\n      <td>NaN</td>\n      <td>NaN</td>\n      <td>...</td>\n      <td>230</td>\n      <td>238</td>\n      <td>243</td>\n      <td>245</td>\n      <td>244</td>\n      <td>245</td>\n      <td>246</td>\n      <td>244</td>\n      <td>240</td>\n      <td>USA</td>\n    </tr>\n    <tr>\n      <th>14751</th>\n      <td>59107</td>\n      <td>3293</td>\n      <td>Woodstock</td>\n      <td>NH</td>\n      <td>Claremont</td>\n      <td>Grafton</td>\n      <td>14752</td>\n      <td>58.0</td>\n      <td>59.0</td>\n      <td>61.0</td>\n      <td>...</td>\n      <td>129</td>\n      <td>129</td>\n      <td>128</td>\n      <td>129</td>\n      <td>130</td>\n      <td>130</td>\n      <td>130</td>\n      <td>130</td>\n      <td>131</td>\n      <td>USA</td>\n    </tr>\n    <tr>\n      <th>14752</th>\n      <td>82396</td>\n      <td>55713</td>\n      <td>Buhl</td>\n      <td>MN</td>\n      <td>Duluth</td>\n      <td>Saint Louis</td>\n      <td>14753</td>\n      <td>NaN</td>\n      <td>NaN</td>\n      <td>NaN</td>\n      <td>...</td>\n      <td>72</td>\n      <td>73</td>\n      <td>74</td>\n      <td>74</td>\n      <td>73</td>\n      <td>73</td>\n      <td>74</td>\n      <td>77</td>\n      <td>79</td>\n      <td>USA</td>\n    </tr>\n    <tr>\n      <th>14753</th>\n      <td>66881</td>\n      <td>21405</td>\n      <td>Annapolis</td>\n      <td>MD</td>\n      <td>Baltimore</td>\n      <td>Anne Arundel</td>\n      <td>14754</td>\n      <td>146.0</td>\n      <td>149.0</td>\n      <td>151.0</td>\n      <td>...</td>\n      <td>470</td>\n      <td>462</td>\n      <td>457</td>\n      <td>457</td>\n      <td>455</td>\n      <td>454</td>\n      <td>455</td>\n      <td>458</td>\n      <td>460</td>\n      <td>USA</td>\n    </tr>\n    <tr>\n      <th>14754</th>\n      <td>94815</td>\n      <td>85220</td>\n      <td>Apache Junction</td>\n      <td>AZ</td>\n      <td>Phoenix</td>\n      <td>Pinal</td>\n      <td>14755</td>\n      <td>NaN</td>\n      <td>NaN</td>\n      <td>NaN</td>\n      <td>...</td>\n      <td>117</td>\n      <td>119</td>\n      <td>119</td>\n      <td>119</td>\n      <td>120</td>\n      <td>121</td>\n      <td>122</td>\n      <td>124</td>\n      <td>124</td>\n      <td>USA</td>\n    </tr>\n  </tbody>\n</table>\n<p>14755 rows × 266 columns</p>\n</div>"
     },
     "metadata": {},
     "execution_count": 71
    }
   ],
   "source": [
    "(\n",
    "    df\n",
    "    .assign(country=\"USA\")\n",
    ")"
   ]
  },
  {
   "source": [
    "## Using Lambda\n",
    "\n",
    "Lambda is a bit confusing at first glance, however, it is used to define a the function that we want to apply on a each row or columns of the table. For example, let's define a new column that is checking if the state is one of ['NY','NJ']"
   ],
   "cell_type": "markdown",
   "metadata": {}
  },
  {
   "cell_type": "code",
   "execution_count": 72,
   "metadata": {},
   "outputs": [
    {
     "output_type": "execute_result",
     "data": {
      "text/plain": "       RegionID  RegionName             City State      Metro    CountyName  \\\n0         61639       10025         New York    NY   New York      New York   \n1         84654       60657          Chicago    IL    Chicago          Cook   \n2         61637       10023         New York    NY   New York      New York   \n3         84616       60614          Chicago    IL    Chicago          Cook   \n4         93144       79936          El Paso    TX    El Paso       El Paso   \n...         ...         ...              ...   ...        ...           ...   \n14750     73940       36564         Fairhope    AL     Daphne       Baldwin   \n14751     59107        3293        Woodstock    NH  Claremont       Grafton   \n14752     82396       55713             Buhl    MN     Duluth   Saint Louis   \n14753     66881       21405        Annapolis    MD  Baltimore  Anne Arundel   \n14754     94815       85220  Apache Junction    AZ    Phoenix         Pinal   \n\n       SizeRank  1996-04  1996-05  1996-06  ...  2017-01  2017-02  2017-03  \\\n0             1      NaN      NaN      NaN  ...     1290     1277     1272   \n1             2    134.0    134.0    133.0  ...      294      296      295   \n2             3      NaN      NaN      NaN  ...     1597     1580     1567   \n3             4    149.0    150.0    150.0  ...      333      333      331   \n4             5     50.0     51.0     50.0  ...       81       81       81   \n...         ...      ...      ...      ...  ...      ...      ...      ...   \n14750     14751      NaN      NaN      NaN  ...      230      238      243   \n14751     14752     58.0     59.0     61.0  ...      129      129      128   \n14752     14753      NaN      NaN      NaN  ...       72       73       74   \n14753     14754    146.0    149.0    151.0  ...      470      462      457   \n14754     14755      NaN      NaN      NaN  ...      117      119      119   \n\n       2017-04  2017-05  2017-06  2017-07  2017-08  2017-09  is_NY_or_NJ  \n0         1271     1277     1281     1279     1274     1270         True  \n1          293      294      294      294      294      295        False  \n2         1569     1570     1560     1543     1529     1521         True  \n3          330      330      329      328      329      329        False  \n4           81       81       82       82       82       82        False  \n...        ...      ...      ...      ...      ...      ...          ...  \n14750      245      244      245      246      244      240        False  \n14751      129      130      130      130      130      131        False  \n14752       74       73       73       74       77       79        False  \n14753      457      455      454      455      458      460        False  \n14754      119      120      121      122      124      124        False  \n\n[14755 rows x 266 columns]",
      "text/html": "<div>\n<style scoped>\n    .dataframe tbody tr th:only-of-type {\n        vertical-align: middle;\n    }\n\n    .dataframe tbody tr th {\n        vertical-align: top;\n    }\n\n    .dataframe thead th {\n        text-align: right;\n    }\n</style>\n<table border=\"1\" class=\"dataframe\">\n  <thead>\n    <tr style=\"text-align: right;\">\n      <th></th>\n      <th>RegionID</th>\n      <th>RegionName</th>\n      <th>City</th>\n      <th>State</th>\n      <th>Metro</th>\n      <th>CountyName</th>\n      <th>SizeRank</th>\n      <th>1996-04</th>\n      <th>1996-05</th>\n      <th>1996-06</th>\n      <th>...</th>\n      <th>2017-01</th>\n      <th>2017-02</th>\n      <th>2017-03</th>\n      <th>2017-04</th>\n      <th>2017-05</th>\n      <th>2017-06</th>\n      <th>2017-07</th>\n      <th>2017-08</th>\n      <th>2017-09</th>\n      <th>is_NY_or_NJ</th>\n    </tr>\n  </thead>\n  <tbody>\n    <tr>\n      <th>0</th>\n      <td>61639</td>\n      <td>10025</td>\n      <td>New York</td>\n      <td>NY</td>\n      <td>New York</td>\n      <td>New York</td>\n      <td>1</td>\n      <td>NaN</td>\n      <td>NaN</td>\n      <td>NaN</td>\n      <td>...</td>\n      <td>1290</td>\n      <td>1277</td>\n      <td>1272</td>\n      <td>1271</td>\n      <td>1277</td>\n      <td>1281</td>\n      <td>1279</td>\n      <td>1274</td>\n      <td>1270</td>\n      <td>True</td>\n    </tr>\n    <tr>\n      <th>1</th>\n      <td>84654</td>\n      <td>60657</td>\n      <td>Chicago</td>\n      <td>IL</td>\n      <td>Chicago</td>\n      <td>Cook</td>\n      <td>2</td>\n      <td>134.0</td>\n      <td>134.0</td>\n      <td>133.0</td>\n      <td>...</td>\n      <td>294</td>\n      <td>296</td>\n      <td>295</td>\n      <td>293</td>\n      <td>294</td>\n      <td>294</td>\n      <td>294</td>\n      <td>294</td>\n      <td>295</td>\n      <td>False</td>\n    </tr>\n    <tr>\n      <th>2</th>\n      <td>61637</td>\n      <td>10023</td>\n      <td>New York</td>\n      <td>NY</td>\n      <td>New York</td>\n      <td>New York</td>\n      <td>3</td>\n      <td>NaN</td>\n      <td>NaN</td>\n      <td>NaN</td>\n      <td>...</td>\n      <td>1597</td>\n      <td>1580</td>\n      <td>1567</td>\n      <td>1569</td>\n      <td>1570</td>\n      <td>1560</td>\n      <td>1543</td>\n      <td>1529</td>\n      <td>1521</td>\n      <td>True</td>\n    </tr>\n    <tr>\n      <th>3</th>\n      <td>84616</td>\n      <td>60614</td>\n      <td>Chicago</td>\n      <td>IL</td>\n      <td>Chicago</td>\n      <td>Cook</td>\n      <td>4</td>\n      <td>149.0</td>\n      <td>150.0</td>\n      <td>150.0</td>\n      <td>...</td>\n      <td>333</td>\n      <td>333</td>\n      <td>331</td>\n      <td>330</td>\n      <td>330</td>\n      <td>329</td>\n      <td>328</td>\n      <td>329</td>\n      <td>329</td>\n      <td>False</td>\n    </tr>\n    <tr>\n      <th>4</th>\n      <td>93144</td>\n      <td>79936</td>\n      <td>El Paso</td>\n      <td>TX</td>\n      <td>El Paso</td>\n      <td>El Paso</td>\n      <td>5</td>\n      <td>50.0</td>\n      <td>51.0</td>\n      <td>50.0</td>\n      <td>...</td>\n      <td>81</td>\n      <td>81</td>\n      <td>81</td>\n      <td>81</td>\n      <td>81</td>\n      <td>82</td>\n      <td>82</td>\n      <td>82</td>\n      <td>82</td>\n      <td>False</td>\n    </tr>\n    <tr>\n      <th>...</th>\n      <td>...</td>\n      <td>...</td>\n      <td>...</td>\n      <td>...</td>\n      <td>...</td>\n      <td>...</td>\n      <td>...</td>\n      <td>...</td>\n      <td>...</td>\n      <td>...</td>\n      <td>...</td>\n      <td>...</td>\n      <td>...</td>\n      <td>...</td>\n      <td>...</td>\n      <td>...</td>\n      <td>...</td>\n      <td>...</td>\n      <td>...</td>\n      <td>...</td>\n      <td>...</td>\n    </tr>\n    <tr>\n      <th>14750</th>\n      <td>73940</td>\n      <td>36564</td>\n      <td>Fairhope</td>\n      <td>AL</td>\n      <td>Daphne</td>\n      <td>Baldwin</td>\n      <td>14751</td>\n      <td>NaN</td>\n      <td>NaN</td>\n      <td>NaN</td>\n      <td>...</td>\n      <td>230</td>\n      <td>238</td>\n      <td>243</td>\n      <td>245</td>\n      <td>244</td>\n      <td>245</td>\n      <td>246</td>\n      <td>244</td>\n      <td>240</td>\n      <td>False</td>\n    </tr>\n    <tr>\n      <th>14751</th>\n      <td>59107</td>\n      <td>3293</td>\n      <td>Woodstock</td>\n      <td>NH</td>\n      <td>Claremont</td>\n      <td>Grafton</td>\n      <td>14752</td>\n      <td>58.0</td>\n      <td>59.0</td>\n      <td>61.0</td>\n      <td>...</td>\n      <td>129</td>\n      <td>129</td>\n      <td>128</td>\n      <td>129</td>\n      <td>130</td>\n      <td>130</td>\n      <td>130</td>\n      <td>130</td>\n      <td>131</td>\n      <td>False</td>\n    </tr>\n    <tr>\n      <th>14752</th>\n      <td>82396</td>\n      <td>55713</td>\n      <td>Buhl</td>\n      <td>MN</td>\n      <td>Duluth</td>\n      <td>Saint Louis</td>\n      <td>14753</td>\n      <td>NaN</td>\n      <td>NaN</td>\n      <td>NaN</td>\n      <td>...</td>\n      <td>72</td>\n      <td>73</td>\n      <td>74</td>\n      <td>74</td>\n      <td>73</td>\n      <td>73</td>\n      <td>74</td>\n      <td>77</td>\n      <td>79</td>\n      <td>False</td>\n    </tr>\n    <tr>\n      <th>14753</th>\n      <td>66881</td>\n      <td>21405</td>\n      <td>Annapolis</td>\n      <td>MD</td>\n      <td>Baltimore</td>\n      <td>Anne Arundel</td>\n      <td>14754</td>\n      <td>146.0</td>\n      <td>149.0</td>\n      <td>151.0</td>\n      <td>...</td>\n      <td>470</td>\n      <td>462</td>\n      <td>457</td>\n      <td>457</td>\n      <td>455</td>\n      <td>454</td>\n      <td>455</td>\n      <td>458</td>\n      <td>460</td>\n      <td>False</td>\n    </tr>\n    <tr>\n      <th>14754</th>\n      <td>94815</td>\n      <td>85220</td>\n      <td>Apache Junction</td>\n      <td>AZ</td>\n      <td>Phoenix</td>\n      <td>Pinal</td>\n      <td>14755</td>\n      <td>NaN</td>\n      <td>NaN</td>\n      <td>NaN</td>\n      <td>...</td>\n      <td>117</td>\n      <td>119</td>\n      <td>119</td>\n      <td>119</td>\n      <td>120</td>\n      <td>121</td>\n      <td>122</td>\n      <td>124</td>\n      <td>124</td>\n      <td>False</td>\n    </tr>\n  </tbody>\n</table>\n<p>14755 rows × 266 columns</p>\n</div>"
     },
     "metadata": {},
     "execution_count": 72
    }
   ],
   "source": [
    "(\n",
    "    df\n",
    "    .assign(is_NY_or_NJ=lambda x : x.State.isin(['NY','NJ']))\n",
    ")"
   ]
  },
  {
   "cell_type": "code",
   "execution_count": 73,
   "metadata": {},
   "outputs": [],
   "source": [
    "red_blue_states_wikipedia_entry = 'https://en.wikipedia.org/wiki/Red_states_and_blue_states'\n",
    "wikipedia_page_tables = pd.read_html(red_blue_states_wikipedia_entry)"
   ]
  },
  {
   "source": [
    "As we saw in the loading data from web site, the list includes multiple tables. After some scrolling we can see the table that we want is the one with index 11"
   ],
   "cell_type": "markdown",
   "metadata": {}
  },
  {
   "cell_type": "code",
   "execution_count": 74,
   "metadata": {},
   "outputs": [
    {
     "output_type": "execute_result",
     "data": {
      "text/plain": "                    Year             1972          1976           1980  \\\n0   Democratic candidate  George McGovern  Jimmy Carter   Jimmy Carter   \n1   Republican candidate    Richard Nixon   Gerald Ford  Ronald Reagan   \n2  National popular vote            Nixon        Carter         Reagan   \n3                Alabama            Nixon        Carter         Reagan   \n4                 Alaska            Nixon          Ford         Reagan   \n\n             1984               1988               1992          1996  \\\n0  Walter Mondale    Michael Dukakis       Bill Clinton  Bill Clinton   \n1   Ronald Reagan  George H. W. Bush  George H. W. Bush      Bob Dole   \n2          Reagan               Bush         B. Clinton       Clinton   \n3          Reagan               Bush               Bush          Dole   \n4          Reagan               Bush               Bush          Dole   \n\n             2000            2004          2008          2012             2016  \n0         Al Gore      John Kerry  Barack Obama  Barack Obama  Hillary Clinton  \n1  George W. Bush  George W. Bush   John McCain   Mitt Romney     Donald Trump  \n2            Gore            Bush         Obama         Obama       H. Clinton  \n3            Bush            Bush        McCain        Romney            Trump  \n4            Bush            Bush        McCain        Romney            Trump  ",
      "text/html": "<div>\n<style scoped>\n    .dataframe tbody tr th:only-of-type {\n        vertical-align: middle;\n    }\n\n    .dataframe tbody tr th {\n        vertical-align: top;\n    }\n\n    .dataframe thead th {\n        text-align: right;\n    }\n</style>\n<table border=\"1\" class=\"dataframe\">\n  <thead>\n    <tr style=\"text-align: right;\">\n      <th></th>\n      <th>Year</th>\n      <th>1972</th>\n      <th>1976</th>\n      <th>1980</th>\n      <th>1984</th>\n      <th>1988</th>\n      <th>1992</th>\n      <th>1996</th>\n      <th>2000</th>\n      <th>2004</th>\n      <th>2008</th>\n      <th>2012</th>\n      <th>2016</th>\n    </tr>\n  </thead>\n  <tbody>\n    <tr>\n      <th>0</th>\n      <td>Democratic candidate</td>\n      <td>George McGovern</td>\n      <td>Jimmy Carter</td>\n      <td>Jimmy Carter</td>\n      <td>Walter Mondale</td>\n      <td>Michael Dukakis</td>\n      <td>Bill Clinton</td>\n      <td>Bill Clinton</td>\n      <td>Al Gore</td>\n      <td>John Kerry</td>\n      <td>Barack Obama</td>\n      <td>Barack Obama</td>\n      <td>Hillary Clinton</td>\n    </tr>\n    <tr>\n      <th>1</th>\n      <td>Republican candidate</td>\n      <td>Richard Nixon</td>\n      <td>Gerald Ford</td>\n      <td>Ronald Reagan</td>\n      <td>Ronald Reagan</td>\n      <td>George H. W. Bush</td>\n      <td>George H. W. Bush</td>\n      <td>Bob Dole</td>\n      <td>George W. Bush</td>\n      <td>George W. Bush</td>\n      <td>John McCain</td>\n      <td>Mitt Romney</td>\n      <td>Donald Trump</td>\n    </tr>\n    <tr>\n      <th>2</th>\n      <td>National popular vote</td>\n      <td>Nixon</td>\n      <td>Carter</td>\n      <td>Reagan</td>\n      <td>Reagan</td>\n      <td>Bush</td>\n      <td>B. Clinton</td>\n      <td>Clinton</td>\n      <td>Gore</td>\n      <td>Bush</td>\n      <td>Obama</td>\n      <td>Obama</td>\n      <td>H. Clinton</td>\n    </tr>\n    <tr>\n      <th>3</th>\n      <td>Alabama</td>\n      <td>Nixon</td>\n      <td>Carter</td>\n      <td>Reagan</td>\n      <td>Reagan</td>\n      <td>Bush</td>\n      <td>Bush</td>\n      <td>Dole</td>\n      <td>Bush</td>\n      <td>Bush</td>\n      <td>McCain</td>\n      <td>Romney</td>\n      <td>Trump</td>\n    </tr>\n    <tr>\n      <th>4</th>\n      <td>Alaska</td>\n      <td>Nixon</td>\n      <td>Ford</td>\n      <td>Reagan</td>\n      <td>Reagan</td>\n      <td>Bush</td>\n      <td>Bush</td>\n      <td>Dole</td>\n      <td>Bush</td>\n      <td>Bush</td>\n      <td>McCain</td>\n      <td>Romney</td>\n      <td>Trump</td>\n    </tr>\n  </tbody>\n</table>\n</div>"
     },
     "metadata": {},
     "execution_count": 74
    }
   ],
   "source": [
    "red_blue_states = wikipedia_page_tables[11]\n",
    "red_blue_states.head()"
   ]
  },
  {
   "cell_type": "code",
   "execution_count": 75,
   "metadata": {},
   "outputs": [],
   "source": [
    "red_candidate = 'Trump'"
   ]
  },
  {
   "cell_type": "code",
   "execution_count": 76,
   "metadata": {},
   "outputs": [
    {
     "output_type": "execute_result",
     "data": {
      "text/plain": "3            Alabama\n4             Alaska\n5            Arizona\n6           Arkansas\n12           Florida\n13           Georgia\n15             Idaho\n17           Indiana\n18              Iowa\n19            Kansas\n20          Kentucky\n21         Louisiana\n27          Michigan\n29       Mississippi\n30          Missouri\n31           Montana\n39    North Carolina\n40      North Dakota\n41              Ohio\n42          Oklahoma\n44      Pennsylvania\n46    South Carolina\n47      South Dakota\n48         Tennessee\n49             Texas\n50              Utah\n54     West Virginia\n55         Wisconsin\n56           Wyoming\nName: Year, dtype: object"
     },
     "metadata": {},
     "execution_count": 76
    }
   ],
   "source": [
    "red_states = (\n",
    "    red_blue_states\n",
    "    .rename(columns={'2016':'Last'})\n",
    "    .reset_index()\n",
    "    .query(\"Last == @red_candidate\")\n",
    "    .iloc[:,1]\n",
    ")\n",
    "red_states"
   ]
  },
  {
   "cell_type": "code",
   "execution_count": 77,
   "metadata": {},
   "outputs": [],
   "source": [
    "us_state_abbrev = {\n",
    "    'Alabama': 'AL',\n",
    "    'Alaska': 'AK',\n",
    "    'American Samoa': 'AS',\n",
    "    'Arizona': 'AZ',\n",
    "    'Arkansas': 'AR',\n",
    "    'California': 'CA',\n",
    "    'Colorado': 'CO',\n",
    "    'Connecticut': 'CT',\n",
    "    'Delaware': 'DE',\n",
    "    'District of Columbia': 'DC',\n",
    "    'Florida': 'FL',\n",
    "    'Georgia': 'GA',\n",
    "    'Guam': 'GU',\n",
    "    'Hawaii': 'HI',\n",
    "    'Idaho': 'ID',\n",
    "    'Illinois': 'IL',\n",
    "    'Indiana': 'IN',\n",
    "    'Iowa': 'IA',\n",
    "    'Kansas': 'KS',\n",
    "    'Kentucky': 'KY',\n",
    "    'Louisiana': 'LA',\n",
    "    'Maine': 'ME',\n",
    "    'Maryland': 'MD',\n",
    "    'Massachusetts': 'MA',\n",
    "    'Michigan': 'MI',\n",
    "    'Minnesota': 'MN',\n",
    "    'Mississippi': 'MS',\n",
    "    'Missouri': 'MO',\n",
    "    'Montana': 'MT',\n",
    "    'Nebraska': 'NE',\n",
    "    'Nevada': 'NV',\n",
    "    'New Hampshire': 'NH',\n",
    "    'New Jersey': 'NJ',\n",
    "    'New Mexico': 'NM',\n",
    "    'New York': 'NY',\n",
    "    'North Carolina': 'NC',\n",
    "    'North Dakota': 'ND',\n",
    "    'Northern Mariana Islands':'MP',\n",
    "    'Ohio': 'OH',\n",
    "    'Oklahoma': 'OK',\n",
    "    'Oregon': 'OR',\n",
    "    'Pennsylvania': 'PA',\n",
    "    'Puerto Rico': 'PR',\n",
    "    'Rhode Island': 'RI',\n",
    "    'South Carolina': 'SC',\n",
    "    'South Dakota': 'SD',\n",
    "    'Tennessee': 'TN',\n",
    "    'Texas': 'TX',\n",
    "    'Utah': 'UT',\n",
    "    'Vermont': 'VT',\n",
    "    'Virgin Islands': 'VI',\n",
    "    'Virginia': 'VA',\n",
    "    'Washington': 'WA',\n",
    "    'West Virginia': 'WV',\n",
    "    'Wisconsin': 'WI',\n",
    "    'Wyoming': 'WY'\n",
    "}\n",
    "us_state_abbrev_df = (\n",
    "    pd\n",
    "    .DataFrame\n",
    "    .from_dict(us_state_abbrev, \n",
    "                orient='index',\n",
    "                columns=['Abbreviation'])\n",
    ")"
   ]
  },
  {
   "cell_type": "code",
   "execution_count": 86,
   "metadata": {},
   "outputs": [
    {
     "output_type": "execute_result",
     "data": {
      "text/plain": "Alabama           AL\nAlaska            AK\nArizona           AZ\nArkansas          AR\nFlorida           FL\nGeorgia           GA\nIdaho             ID\nIndiana           IN\nIowa              IA\nKansas            KS\nKentucky          KY\nLouisiana         LA\nMichigan          MI\nMississippi       MS\nMissouri          MO\nMontana           MT\nNorth Carolina    NC\nNorth Dakota      ND\nOhio              OH\nOklahoma          OK\nPennsylvania      PA\nSouth Carolina    SC\nSouth Dakota      SD\nTennessee         TN\nTexas             TX\nUtah              UT\nWest Virginia     WV\nWisconsin         WI\nWyoming           WY\nName: Abbreviation, dtype: object"
     },
     "metadata": {},
     "execution_count": 86
    }
   ],
   "source": [
    "red_state_abbrev = (\n",
    "    us_state_abbrev_df\n",
    "    .loc[red_states]\n",
    "    .loc[:,'Abbreviation']\n",
    ")\n",
    "red_state_abbrev"
   ]
  },
  {
   "cell_type": "code",
   "execution_count": 89,
   "metadata": {
    "tags": []
   },
   "outputs": [
    {
     "output_type": "execute_result",
     "data": {
      "text/plain": "is_red\nFalse    226.389382\nTrue     105.153760\nName: 2017-09, dtype: float64"
     },
     "metadata": {},
     "execution_count": 89
    }
   ],
   "source": [
    "(\n",
    "    df\n",
    "    .assign(is_red=lambda x : x.State.isin(red_state_abbrev))\n",
    "    .groupby('is_red')['2017-09']\n",
    "    .mean()\n",
    ")"
   ]
  },
  {
   "cell_type": "code",
   "execution_count": null,
   "metadata": {},
   "outputs": [],
   "source": []
  }
 ]
}