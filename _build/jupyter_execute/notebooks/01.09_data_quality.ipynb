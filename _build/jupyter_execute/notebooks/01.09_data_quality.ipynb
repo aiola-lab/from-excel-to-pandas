{
 "cells": [
  {
   "cell_type": "markdown",
   "metadata": {},
   "source": [
    "# Check for Data Quality"
   ]
  },
  {
   "cell_type": "code",
   "execution_count": 1,
   "metadata": {
    "execution": {
     "iopub.execute_input": "2020-10-30T12:30:07.381Z",
     "iopub.status.busy": "2020-10-30T12:30:07.364Z",
     "iopub.status.idle": "2020-10-30T12:30:09.026Z",
     "shell.execute_reply": "2020-10-30T12:30:09.035Z"
    },
    "tags": []
   },
   "outputs": [
    {
     "name": "stdout",
     "output_type": "stream",
     "text": [
      "Requirement already satisfied: great_expectations in /Users/guy/miniconda3/lib/python3.8/site-packages (0.12.6)\r\n"
     ]
    },
    {
     "name": "stdout",
     "output_type": "stream",
     "text": [
      "Requirement already satisfied: pandas>=0.23.0 in /Users/guy/miniconda3/lib/python3.8/site-packages (from great_expectations) (1.1.2)\r\n",
      "Requirement already satisfied: black>=19.10b0 in /Users/guy/miniconda3/lib/python3.8/site-packages (from great_expectations) (20.8b1)\r\n",
      "Requirement already satisfied: jinja2>=2.10 in /Users/guy/miniconda3/lib/python3.8/site-packages (from great_expectations) (2.11.2)\r\n",
      "Requirement already satisfied: python-dateutil>=2.8.1 in /Users/guy/miniconda3/lib/python3.8/site-packages (from great_expectations) (2.8.1)\r\n",
      "Requirement already satisfied: pytz>=2015.6 in /Users/guy/miniconda3/lib/python3.8/site-packages (from great_expectations) (2020.1)\r\n",
      "Requirement already satisfied: ipywidgets>=7.5.1 in /Users/guy/miniconda3/lib/python3.8/site-packages (from great_expectations) (7.5.1)\r\n",
      "Requirement already satisfied: requests<2.24,>=2.20 in /Users/guy/miniconda3/lib/python3.8/site-packages (from great_expectations) (2.23.0)\r\n"
     ]
    },
    {
     "name": "stdout",
     "output_type": "stream",
     "text": [
      "Requirement already satisfied: termcolor>=1.1.0 in /Users/guy/miniconda3/lib/python3.8/site-packages (from great_expectations) (1.1.0)\r\n",
      "Requirement already satisfied: tzlocal>=1.2 in /Users/guy/miniconda3/lib/python3.8/site-packages (from great_expectations) (2.1)\r\n",
      "Requirement already satisfied: jsonpatch>=1.22 in /Users/guy/miniconda3/lib/python3.8/site-packages (from great_expectations) (1.26)\r\n",
      "Requirement already satisfied: numpy>=1.14.1 in /Users/guy/miniconda3/lib/python3.8/site-packages (from great_expectations) (1.19.2)\r\n",
      "Requirement already satisfied: jsonschema>=2.5.1 in /Users/guy/miniconda3/lib/python3.8/site-packages (from great_expectations) (3.2.0)\r\n",
      "Requirement already satisfied: altair<5,>=4.0.0 in /Users/guy/miniconda3/lib/python3.8/site-packages (from great_expectations) (4.1.0)\r\n",
      "Requirement already satisfied: ruamel.yaml>=0.15.24 in /Users/guy/miniconda3/lib/python3.8/site-packages (from great_expectations) (0.16.12)\r\n",
      "Requirement already satisfied: Click>=7.1.2 in /Users/guy/miniconda3/lib/python3.8/site-packages (from great_expectations) (7.1.2)\r\n",
      "Requirement already satisfied: scipy>=0.19.0 in /Users/guy/miniconda3/lib/python3.8/site-packages (from great_expectations) (1.5.3)\r\n",
      "Requirement already satisfied: importlib-metadata>=1.7.0 in /Users/guy/miniconda3/lib/python3.8/site-packages (from great_expectations) (2.0.0)\r\n"
     ]
    },
    {
     "name": "stdout",
     "output_type": "stream",
     "text": [
      "Requirement already satisfied: mistune>=0.8.4 in /Users/guy/miniconda3/lib/python3.8/site-packages (from great_expectations) (0.8.4)\r\n",
      "Requirement already satisfied: pyparsing<3,>=2.4 in /Users/guy/miniconda3/lib/python3.8/site-packages (from great_expectations) (2.4.7)\r\n",
      "Requirement already satisfied: toml>=0.10.1 in /Users/guy/miniconda3/lib/python3.8/site-packages (from black>=19.10b0->great_expectations) (0.10.1)\r\n",
      "Requirement already satisfied: regex>=2020.1.8 in /Users/guy/miniconda3/lib/python3.8/site-packages (from black>=19.10b0->great_expectations) (2020.10.23)\r\n",
      "Requirement already satisfied: typing-extensions>=3.7.4 in /Users/guy/miniconda3/lib/python3.8/site-packages (from black>=19.10b0->great_expectations) (3.7.4.3)\r\n",
      "Requirement already satisfied: appdirs in /Users/guy/miniconda3/lib/python3.8/site-packages (from black>=19.10b0->great_expectations) (1.4.4)\r\n",
      "Requirement already satisfied: pathspec<1,>=0.6 in /Users/guy/miniconda3/lib/python3.8/site-packages (from black>=19.10b0->great_expectations) (0.8.0)\r\n",
      "Requirement already satisfied: mypy-extensions>=0.4.3 in /Users/guy/miniconda3/lib/python3.8/site-packages (from black>=19.10b0->great_expectations) (0.4.3)\r\n",
      "Requirement already satisfied: typed-ast>=1.4.0 in /Users/guy/miniconda3/lib/python3.8/site-packages (from black>=19.10b0->great_expectations) (1.4.1)\r\n",
      "Requirement already satisfied: MarkupSafe>=0.23 in /Users/guy/miniconda3/lib/python3.8/site-packages (from jinja2>=2.10->great_expectations) (1.1.1)\r\n",
      "Requirement already satisfied: six>=1.5 in /Users/guy/miniconda3/lib/python3.8/site-packages (from python-dateutil>=2.8.1->great_expectations) (1.14.0)\r\n",
      "Requirement already satisfied: ipykernel>=4.5.1 in /Users/guy/miniconda3/lib/python3.8/site-packages (from ipywidgets>=7.5.1->great_expectations) (5.3.4)\r\n",
      "Requirement already satisfied: widgetsnbextension~=3.5.0 in /Users/guy/miniconda3/lib/python3.8/site-packages (from ipywidgets>=7.5.1->great_expectations) (3.5.1)\r\n",
      "Requirement already satisfied: nbformat>=4.2.0 in /Users/guy/miniconda3/lib/python3.8/site-packages (from ipywidgets>=7.5.1->great_expectations) (5.0.8)\r\n",
      "Requirement already satisfied: traitlets>=4.3.1 in /Users/guy/miniconda3/lib/python3.8/site-packages (from ipywidgets>=7.5.1->great_expectations) (5.0.5)\r\n",
      "Requirement already satisfied: ipython>=4.0.0; python_version >= \"3.3\" in /Users/guy/miniconda3/lib/python3.8/site-packages (from ipywidgets>=7.5.1->great_expectations) (7.18.1)\r\n"
     ]
    },
    {
     "name": "stdout",
     "output_type": "stream",
     "text": [
      "Requirement already satisfied: urllib3!=1.25.0,!=1.25.1,<1.26,>=1.21.1 in /Users/guy/miniconda3/lib/python3.8/site-packages (from requests<2.24,>=2.20->great_expectations) (1.25.8)\r\n",
      "Requirement already satisfied: chardet<4,>=3.0.2 in /Users/guy/miniconda3/lib/python3.8/site-packages (from requests<2.24,>=2.20->great_expectations) (3.0.4)\r\n",
      "Requirement already satisfied: idna<3,>=2.5 in /Users/guy/miniconda3/lib/python3.8/site-packages (from requests<2.24,>=2.20->great_expectations) (2.9)\r\n",
      "Requirement already satisfied: certifi>=2017.4.17 in /Users/guy/miniconda3/lib/python3.8/site-packages (from requests<2.24,>=2.20->great_expectations) (2020.6.20)\r\n",
      "Requirement already satisfied: jsonpointer>=1.9 in /Users/guy/miniconda3/lib/python3.8/site-packages (from jsonpatch>=1.22->great_expectations) (2.0)\r\n",
      "Requirement already satisfied: attrs>=17.4.0 in /Users/guy/miniconda3/lib/python3.8/site-packages (from jsonschema>=2.5.1->great_expectations) (20.2.0)\r\n"
     ]
    },
    {
     "name": "stdout",
     "output_type": "stream",
     "text": [
      "Requirement already satisfied: pyrsistent>=0.14.0 in /Users/guy/miniconda3/lib/python3.8/site-packages (from jsonschema>=2.5.1->great_expectations) (0.17.3)\r\n",
      "Requirement already satisfied: setuptools in /Users/guy/miniconda3/lib/python3.8/site-packages (from jsonschema>=2.5.1->great_expectations) (46.4.0.post20200518)\r\n",
      "Requirement already satisfied: entrypoints in /Users/guy/miniconda3/lib/python3.8/site-packages (from altair<5,>=4.0.0->great_expectations) (0.3)\r\n",
      "Requirement already satisfied: toolz in /Users/guy/miniconda3/lib/python3.8/site-packages (from altair<5,>=4.0.0->great_expectations) (0.11.1)\r\n",
      "Requirement already satisfied: ruamel.yaml.clib>=0.1.2; platform_python_implementation == \"CPython\" and python_version < \"3.9\" in /Users/guy/miniconda3/lib/python3.8/site-packages (from ruamel.yaml>=0.15.24->great_expectations) (0.2.2)\r\n",
      "Requirement already satisfied: zipp>=0.5 in /Users/guy/miniconda3/lib/python3.8/site-packages (from importlib-metadata>=1.7.0->great_expectations) (3.3.1)\r\n",
      "Requirement already satisfied: appnope; platform_system == \"Darwin\" in /Users/guy/miniconda3/lib/python3.8/site-packages (from ipykernel>=4.5.1->ipywidgets>=7.5.1->great_expectations) (0.1.0)\r\n",
      "Requirement already satisfied: tornado>=4.2 in /Users/guy/miniconda3/lib/python3.8/site-packages (from ipykernel>=4.5.1->ipywidgets>=7.5.1->great_expectations) (6.0.4)\r\n",
      "Requirement already satisfied: jupyter-client in /Users/guy/miniconda3/lib/python3.8/site-packages (from ipykernel>=4.5.1->ipywidgets>=7.5.1->great_expectations) (6.1.7)\r\n",
      "Requirement already satisfied: notebook>=4.4.1 in /Users/guy/miniconda3/lib/python3.8/site-packages (from widgetsnbextension~=3.5.0->ipywidgets>=7.5.1->great_expectations) (6.1.4)\r\n"
     ]
    },
    {
     "name": "stdout",
     "output_type": "stream",
     "text": [
      "Requirement already satisfied: jupyter-core in /Users/guy/miniconda3/lib/python3.8/site-packages (from nbformat>=4.2.0->ipywidgets>=7.5.1->great_expectations) (4.6.3)\r\n",
      "Requirement already satisfied: ipython-genutils in /Users/guy/miniconda3/lib/python3.8/site-packages (from nbformat>=4.2.0->ipywidgets>=7.5.1->great_expectations) (0.2.0)\r\n",
      "Requirement already satisfied: pexpect>4.3; sys_platform != \"win32\" in /Users/guy/miniconda3/lib/python3.8/site-packages (from ipython>=4.0.0; python_version >= \"3.3\"->ipywidgets>=7.5.1->great_expectations) (4.8.0)\r\n",
      "Requirement already satisfied: prompt-toolkit!=3.0.0,!=3.0.1,<3.1.0,>=2.0.0 in /Users/guy/miniconda3/lib/python3.8/site-packages (from ipython>=4.0.0; python_version >= \"3.3\"->ipywidgets>=7.5.1->great_expectations) (3.0.8)\r\n",
      "Requirement already satisfied: backcall in /Users/guy/miniconda3/lib/python3.8/site-packages (from ipython>=4.0.0; python_version >= \"3.3\"->ipywidgets>=7.5.1->great_expectations) (0.2.0)\r\n",
      "Requirement already satisfied: pygments in /Users/guy/miniconda3/lib/python3.8/site-packages (from ipython>=4.0.0; python_version >= \"3.3\"->ipywidgets>=7.5.1->great_expectations) (2.7.1)\r\n",
      "Requirement already satisfied: pickleshare in /Users/guy/miniconda3/lib/python3.8/site-packages (from ipython>=4.0.0; python_version >= \"3.3\"->ipywidgets>=7.5.1->great_expectations) (0.7.5)\r\n",
      "Requirement already satisfied: jedi>=0.10 in /Users/guy/miniconda3/lib/python3.8/site-packages (from ipython>=4.0.0; python_version >= \"3.3\"->ipywidgets>=7.5.1->great_expectations) (0.17.2)\r\n",
      "Requirement already satisfied: decorator in /Users/guy/miniconda3/lib/python3.8/site-packages (from ipython>=4.0.0; python_version >= \"3.3\"->ipywidgets>=7.5.1->great_expectations) (4.4.2)\r\n",
      "Requirement already satisfied: pyzmq>=13 in /Users/guy/miniconda3/lib/python3.8/site-packages (from jupyter-client->ipykernel>=4.5.1->ipywidgets>=7.5.1->great_expectations) (19.0.2)\r\n",
      "Requirement already satisfied: nbconvert in /Users/guy/miniconda3/lib/python3.8/site-packages (from notebook>=4.4.1->widgetsnbextension~=3.5.0->ipywidgets>=7.5.1->great_expectations) (6.0.7)\r\n",
      "Requirement already satisfied: argon2-cffi in /Users/guy/miniconda3/lib/python3.8/site-packages (from notebook>=4.4.1->widgetsnbextension~=3.5.0->ipywidgets>=7.5.1->great_expectations) (20.1.0)\r\n"
     ]
    },
    {
     "name": "stdout",
     "output_type": "stream",
     "text": [
      "Requirement already satisfied: prometheus-client in /Users/guy/miniconda3/lib/python3.8/site-packages (from notebook>=4.4.1->widgetsnbextension~=3.5.0->ipywidgets>=7.5.1->great_expectations) (0.8.0)\r\n",
      "Requirement already satisfied: Send2Trash in /Users/guy/miniconda3/lib/python3.8/site-packages (from notebook>=4.4.1->widgetsnbextension~=3.5.0->ipywidgets>=7.5.1->great_expectations) (1.5.0)\r\n",
      "Requirement already satisfied: terminado>=0.8.3 in /Users/guy/miniconda3/lib/python3.8/site-packages (from notebook>=4.4.1->widgetsnbextension~=3.5.0->ipywidgets>=7.5.1->great_expectations) (0.9.1)\r\n",
      "Requirement already satisfied: ptyprocess>=0.5 in /Users/guy/miniconda3/lib/python3.8/site-packages (from pexpect>4.3; sys_platform != \"win32\"->ipython>=4.0.0; python_version >= \"3.3\"->ipywidgets>=7.5.1->great_expectations) (0.6.0)\r\n",
      "Requirement already satisfied: wcwidth in /Users/guy/miniconda3/lib/python3.8/site-packages (from prompt-toolkit!=3.0.0,!=3.0.1,<3.1.0,>=2.0.0->ipython>=4.0.0; python_version >= \"3.3\"->ipywidgets>=7.5.1->great_expectations) (0.2.5)\r\n",
      "Requirement already satisfied: parso<0.8.0,>=0.7.0 in /Users/guy/miniconda3/lib/python3.8/site-packages (from jedi>=0.10->ipython>=4.0.0; python_version >= \"3.3\"->ipywidgets>=7.5.1->great_expectations) (0.7.1)\r\n",
      "Requirement already satisfied: bleach in /Users/guy/miniconda3/lib/python3.8/site-packages (from nbconvert->notebook>=4.4.1->widgetsnbextension~=3.5.0->ipywidgets>=7.5.1->great_expectations) (3.2.1)\r\n",
      "Requirement already satisfied: nbclient<0.6.0,>=0.5.0 in /Users/guy/miniconda3/lib/python3.8/site-packages (from nbconvert->notebook>=4.4.1->widgetsnbextension~=3.5.0->ipywidgets>=7.5.1->great_expectations) (0.5.1)\r\n"
     ]
    },
    {
     "name": "stdout",
     "output_type": "stream",
     "text": [
      "Requirement already satisfied: jupyterlab-pygments in /Users/guy/miniconda3/lib/python3.8/site-packages (from nbconvert->notebook>=4.4.1->widgetsnbextension~=3.5.0->ipywidgets>=7.5.1->great_expectations) (0.1.2)\r\n",
      "Requirement already satisfied: pandocfilters>=1.4.1 in /Users/guy/miniconda3/lib/python3.8/site-packages (from nbconvert->notebook>=4.4.1->widgetsnbextension~=3.5.0->ipywidgets>=7.5.1->great_expectations) (1.4.2)\r\n",
      "Requirement already satisfied: defusedxml in /Users/guy/miniconda3/lib/python3.8/site-packages (from nbconvert->notebook>=4.4.1->widgetsnbextension~=3.5.0->ipywidgets>=7.5.1->great_expectations) (0.6.0)\r\n",
      "Requirement already satisfied: testpath in /Users/guy/miniconda3/lib/python3.8/site-packages (from nbconvert->notebook>=4.4.1->widgetsnbextension~=3.5.0->ipywidgets>=7.5.1->great_expectations) (0.4.4)\r\n",
      "Requirement already satisfied: cffi>=1.0.0 in /Users/guy/miniconda3/lib/python3.8/site-packages (from argon2-cffi->notebook>=4.4.1->widgetsnbextension~=3.5.0->ipywidgets>=7.5.1->great_expectations) (1.14.0)\r\n",
      "Requirement already satisfied: webencodings in /Users/guy/miniconda3/lib/python3.8/site-packages (from bleach->nbconvert->notebook>=4.4.1->widgetsnbextension~=3.5.0->ipywidgets>=7.5.1->great_expectations) (0.5.1)\r\n",
      "Requirement already satisfied: packaging in /Users/guy/miniconda3/lib/python3.8/site-packages (from bleach->nbconvert->notebook>=4.4.1->widgetsnbextension~=3.5.0->ipywidgets>=7.5.1->great_expectations) (20.4)\r\n",
      "Requirement already satisfied: async-generator in /Users/guy/miniconda3/lib/python3.8/site-packages (from nbclient<0.6.0,>=0.5.0->nbconvert->notebook>=4.4.1->widgetsnbextension~=3.5.0->ipywidgets>=7.5.1->great_expectations) (1.10)\r\n",
      "Requirement already satisfied: nest-asyncio in /Users/guy/miniconda3/lib/python3.8/site-packages (from nbclient<0.6.0,>=0.5.0->nbconvert->notebook>=4.4.1->widgetsnbextension~=3.5.0->ipywidgets>=7.5.1->great_expectations) (1.4.1)\r\n",
      "Requirement already satisfied: pycparser in /Users/guy/miniconda3/lib/python3.8/site-packages (from cffi>=1.0.0->argon2-cffi->notebook>=4.4.1->widgetsnbextension~=3.5.0->ipywidgets>=7.5.1->great_expectations) (2.20)\r\n"
     ]
    }
   ],
   "source": [
    "!pip install great_expectations\n"
   ]
  },
  {
   "cell_type": "code",
   "execution_count": 2,
   "metadata": {},
   "outputs": [],
   "source": [
    "import great_expectations as ge"
   ]
  },
  {
   "cell_type": "code",
   "execution_count": 3,
   "metadata": {},
   "outputs": [],
   "source": [
    "facts_df = ge.read_csv(\"~/Downloads/d5d02a76721a486a98a744707a5ba53c.csv\")"
   ]
  },
  {
   "cell_type": "code",
   "execution_count": 4,
   "metadata": {},
   "outputs": [
    {
     "data": {
      "text/html": [
       "<div>\n",
       "<style scoped>\n",
       "    .dataframe tbody tr th:only-of-type {\n",
       "        vertical-align: middle;\n",
       "    }\n",
       "\n",
       "    .dataframe tbody tr th {\n",
       "        vertical-align: top;\n",
       "    }\n",
       "\n",
       "    .dataframe thead th {\n",
       "        text-align: right;\n",
       "    }\n",
       "</style>\n",
       "<table border=\"1\" class=\"dataframe\">\n",
       "  <thead>\n",
       "    <tr style=\"text-align: right;\">\n",
       "      <th></th>\n",
       "      <th>שבוע</th>\n",
       "      <th>חנות - פורמט</th>\n",
       "      <th>שם פריט</th>\n",
       "      <th>מכירות במליוני שקלים</th>\n",
       "      <th>פריט - ברקוד</th>\n",
       "      <th>מכירות באלפי ליטרים</th>\n",
       "      <th>מכירות בטונות</th>\n",
       "      <th>מכירות באלפי יחידות באריזה</th>\n",
       "      <th>מכירות באלפי יחידות צריכה</th>\n",
       "      <th>מחיר ממוצע ליחידה</th>\n",
       "      <th>מחיר ממוצע לליטר</th>\n",
       "      <th>מחיר ממוצע לקילו</th>\n",
       "      <th>מחיר ממוצע ליחידה באריזה</th>\n",
       "      <th>מחיר ממוצע ליחידת צריכה</th>\n",
       "    </tr>\n",
       "  </thead>\n",
       "  <tbody>\n",
       "    <tr>\n",
       "      <th>0</th>\n",
       "      <td>31 - 26\\07\\2020</td>\n",
       "      <td>חנויות נוחות</td>\n",
       "      <td>ביסלי ט. בצל 70 גרם</td>\n",
       "      <td>0.0028</td>\n",
       "      <td>7290000066158</td>\n",
       "      <td>0.000</td>\n",
       "      <td>0.0323</td>\n",
       "      <td>0.4610</td>\n",
       "      <td>0.0</td>\n",
       "      <td>6.0979</td>\n",
       "      <td>-</td>\n",
       "      <td>87.1125</td>\n",
       "      <td>6.0979</td>\n",
       "      <td>-</td>\n",
       "    </tr>\n",
       "    <tr>\n",
       "      <th>1</th>\n",
       "      <td>31 - 26\\07\\2020</td>\n",
       "      <td>חנויות נוחות</td>\n",
       "      <td>קוואקר מהיר אטוס לל\"ס 500 גר</td>\n",
       "      <td>0.0001</td>\n",
       "      <td>7290000480107</td>\n",
       "      <td>0.000</td>\n",
       "      <td>0.0040</td>\n",
       "      <td>0.0080</td>\n",
       "      <td>0.0</td>\n",
       "      <td>17.5000</td>\n",
       "      <td>-</td>\n",
       "      <td>35.0000</td>\n",
       "      <td>17.5000</td>\n",
       "      <td>-</td>\n",
       "    </tr>\n",
       "    <tr>\n",
       "      <th>2</th>\n",
       "      <td>31 - 26\\07\\2020</td>\n",
       "      <td>חנויות נוחות</td>\n",
       "      <td>היט מיניס קרם קקאו  130גר</td>\n",
       "      <td>0.0004</td>\n",
       "      <td>5901414200411</td>\n",
       "      <td>0.000</td>\n",
       "      <td>0.0057</td>\n",
       "      <td>0.0440</td>\n",
       "      <td>0.0</td>\n",
       "      <td>9.1591</td>\n",
       "      <td>-</td>\n",
       "      <td>70.4545</td>\n",
       "      <td>9.1591</td>\n",
       "      <td>-</td>\n",
       "    </tr>\n",
       "    <tr>\n",
       "      <th>3</th>\n",
       "      <td>31 - 26\\07\\2020</td>\n",
       "      <td>חנויות נוחות</td>\n",
       "      <td>סויה תנובה לייט בטעם טבעי טרי 1ל</td>\n",
       "      <td>0.0004</td>\n",
       "      <td>7290004132552</td>\n",
       "      <td>0.037</td>\n",
       "      <td>0.0000</td>\n",
       "      <td>0.0370</td>\n",
       "      <td>0.0</td>\n",
       "      <td>11.7322</td>\n",
       "      <td>11.7322</td>\n",
       "      <td>-</td>\n",
       "      <td>11.7322</td>\n",
       "      <td>-</td>\n",
       "    </tr>\n",
       "    <tr>\n",
       "      <th>4</th>\n",
       "      <td>31 - 26\\07\\2020</td>\n",
       "      <td>חנויות נוחות</td>\n",
       "      <td>טורטית מגדים 40ג</td>\n",
       "      <td>0.0099</td>\n",
       "      <td>7290106658479</td>\n",
       "      <td>0.000</td>\n",
       "      <td>0.0861</td>\n",
       "      <td>2.1520</td>\n",
       "      <td>0.0</td>\n",
       "      <td>4.5811</td>\n",
       "      <td>-</td>\n",
       "      <td>114.5265</td>\n",
       "      <td>4.5811</td>\n",
       "      <td>-</td>\n",
       "    </tr>\n",
       "  </tbody>\n",
       "</table>\n",
       "</div>"
      ],
      "text/plain": [
       "              שבוע  חנות - פורמט                           שם פריט  \\\n",
       "0  31 - 26\\07\\2020  חנויות נוחות               ביסלי ט. בצל 70 גרם   \n",
       "1  31 - 26\\07\\2020  חנויות נוחות      קוואקר מהיר אטוס לל\"ס 500 גר   \n",
       "2  31 - 26\\07\\2020  חנויות נוחות         היט מיניס קרם קקאו  130גר   \n",
       "3  31 - 26\\07\\2020  חנויות נוחות  סויה תנובה לייט בטעם טבעי טרי 1ל   \n",
       "4  31 - 26\\07\\2020  חנויות נוחות                  טורטית מגדים 40ג   \n",
       "\n",
       "   מכירות במליוני שקלים   פריט - ברקוד  מכירות באלפי ליטרים  מכירות בטונות  \\\n",
       "0                0.0028  7290000066158                0.000         0.0323   \n",
       "1                0.0001  7290000480107                0.000         0.0040   \n",
       "2                0.0004  5901414200411                0.000         0.0057   \n",
       "3                0.0004  7290004132552                0.037         0.0000   \n",
       "4                0.0099  7290106658479                0.000         0.0861   \n",
       "\n",
       "  מכירות באלפי יחידות באריזה  מכירות באלפי יחידות צריכה מחיר ממוצע ליחידה  \\\n",
       "0                     0.4610                        0.0            6.0979   \n",
       "1                     0.0080                        0.0           17.5000   \n",
       "2                     0.0440                        0.0            9.1591   \n",
       "3                     0.0370                        0.0           11.7322   \n",
       "4                     2.1520                        0.0            4.5811   \n",
       "\n",
       "  מחיר ממוצע לליטר מחיר ממוצע לקילו מחיר ממוצע ליחידה באריזה  \\\n",
       "0                -          87.1125                   6.0979   \n",
       "1                -          35.0000                  17.5000   \n",
       "2                -          70.4545                   9.1591   \n",
       "3          11.7322                -                  11.7322   \n",
       "4                -         114.5265                   4.5811   \n",
       "\n",
       "  מחיר ממוצע ליחידת צריכה  \n",
       "0                       -  \n",
       "1                       -  \n",
       "2                       -  \n",
       "3                       -  \n",
       "4                       -  "
      ]
     },
     "execution_count": 4,
     "metadata": {},
     "output_type": "execute_result"
    }
   ],
   "source": [
    "facts_df.head()"
   ]
  },
  {
   "cell_type": "code",
   "execution_count": 5,
   "metadata": {},
   "outputs": [
    {
     "data": {
      "text/plain": [
       "array(['חנויות נוחות', 'רשתות ארציות דיסקאונט', 'רשתות ארציות סופרמרקטים',\n",
       "       'שוק פרטי דיסקאונט', 'שוק פרטי מינימרקטים', 'שוק פרטי קטן'],\n",
       "      dtype=object)"
      ]
     },
     "execution_count": 5,
     "metadata": {},
     "output_type": "execute_result"
    }
   ],
   "source": [
    "facts_df['חנות - פורמט'].unique()"
   ]
  },
  {
   "cell_type": "code",
   "execution_count": 6,
   "metadata": {},
   "outputs": [
    {
     "data": {
      "text/plain": [
       "{\n",
       "  \"success\": true,\n",
       "  \"result\": {\n",
       "    \"observed_value\": [\n",
       "      \"\\u05d7\\u05e0\\u05d5\\u05d9\\u05d5\\u05ea \\u05e0\\u05d5\\u05d7\\u05d5\\u05ea\",\n",
       "      \"\\u05e8\\u05e9\\u05ea\\u05d5\\u05ea \\u05d0\\u05e8\\u05e6\\u05d9\\u05d5\\u05ea \\u05d3\\u05d9\\u05e1\\u05e7\\u05d0\\u05d5\\u05e0\\u05d8\",\n",
       "      \"\\u05e8\\u05e9\\u05ea\\u05d5\\u05ea \\u05d0\\u05e8\\u05e6\\u05d9\\u05d5\\u05ea \\u05e1\\u05d5\\u05e4\\u05e8\\u05de\\u05e8\\u05e7\\u05d8\\u05d9\\u05dd\",\n",
       "      \"\\u05e9\\u05d5\\u05e7 \\u05e4\\u05e8\\u05d8\\u05d9 \\u05d3\\u05d9\\u05e1\\u05e7\\u05d0\\u05d5\\u05e0\\u05d8\",\n",
       "      \"\\u05e9\\u05d5\\u05e7 \\u05e4\\u05e8\\u05d8\\u05d9 \\u05de\\u05d9\\u05e0\\u05d9\\u05de\\u05e8\\u05e7\\u05d8\\u05d9\\u05dd\",\n",
       "      \"\\u05e9\\u05d5\\u05e7 \\u05e4\\u05e8\\u05d8\\u05d9 \\u05e7\\u05d8\\u05df\"\n",
       "    ],\n",
       "    \"element_count\": 615101,\n",
       "    \"missing_count\": null,\n",
       "    \"missing_percent\": null\n",
       "  },\n",
       "  \"meta\": {},\n",
       "  \"exception_info\": null\n",
       "}"
      ]
     },
     "execution_count": 6,
     "metadata": {},
     "output_type": "execute_result"
    }
   ],
   "source": [
    "facts_df.expect_column_distinct_values_to_be_in_set('חנות - פורמט', ['חנויות נוחות', 'רשתות ארציות דיסקאונט', 'רשתות ארציות סופרמרקטים', 'שוק פרטי דיסקאונט', 'שוק פרטי מינימרקטים', 'שוק פרטי קטן'])"
   ]
  },
  {
   "cell_type": "code",
   "execution_count": 7,
   "metadata": {},
   "outputs": [
    {
     "data": {
      "text/html": [
       "<div>\n",
       "<style scoped>\n",
       "    .dataframe tbody tr th:only-of-type {\n",
       "        vertical-align: middle;\n",
       "    }\n",
       "\n",
       "    .dataframe tbody tr th {\n",
       "        vertical-align: top;\n",
       "    }\n",
       "\n",
       "    .dataframe thead th {\n",
       "        text-align: right;\n",
       "    }\n",
       "</style>\n",
       "<table border=\"1\" class=\"dataframe\">\n",
       "  <thead>\n",
       "    <tr style=\"text-align: right;\">\n",
       "      <th></th>\n",
       "      <th>מכירות במליוני שקלים</th>\n",
       "      <th>פריט - ברקוד</th>\n",
       "      <th>מכירות באלפי ליטרים</th>\n",
       "      <th>מכירות בטונות</th>\n",
       "      <th>מכירות באלפי יחידות צריכה</th>\n",
       "    </tr>\n",
       "  </thead>\n",
       "  <tbody>\n",
       "    <tr>\n",
       "      <th>count</th>\n",
       "      <td>615101.000000</td>\n",
       "      <td>6.151010e+05</td>\n",
       "      <td>615101.000000</td>\n",
       "      <td>615101.000000</td>\n",
       "      <td>615101.0</td>\n",
       "    </tr>\n",
       "    <tr>\n",
       "      <th>mean</th>\n",
       "      <td>0.007627</td>\n",
       "      <td>6.532671e+12</td>\n",
       "      <td>0.200029</td>\n",
       "      <td>0.151755</td>\n",
       "      <td>0.0</td>\n",
       "    </tr>\n",
       "    <tr>\n",
       "      <th>std</th>\n",
       "      <td>0.035422</td>\n",
       "      <td>2.113366e+12</td>\n",
       "      <td>3.478145</td>\n",
       "      <td>1.192769</td>\n",
       "      <td>0.0</td>\n",
       "    </tr>\n",
       "    <tr>\n",
       "      <th>min</th>\n",
       "      <td>-0.013700</td>\n",
       "      <td>6.301600e+04</td>\n",
       "      <td>-0.021400</td>\n",
       "      <td>-0.113800</td>\n",
       "      <td>0.0</td>\n",
       "    </tr>\n",
       "    <tr>\n",
       "      <th>25%</th>\n",
       "      <td>0.000200</td>\n",
       "      <td>7.290001e+12</td>\n",
       "      <td>0.000000</td>\n",
       "      <td>0.000400</td>\n",
       "      <td>0.0</td>\n",
       "    </tr>\n",
       "    <tr>\n",
       "      <th>50%</th>\n",
       "      <td>0.000900</td>\n",
       "      <td>7.290012e+12</td>\n",
       "      <td>0.000000</td>\n",
       "      <td>0.006900</td>\n",
       "      <td>0.0</td>\n",
       "    </tr>\n",
       "    <tr>\n",
       "      <th>75%</th>\n",
       "      <td>0.004400</td>\n",
       "      <td>7.290109e+12</td>\n",
       "      <td>0.000000</td>\n",
       "      <td>0.050100</td>\n",
       "      <td>0.0</td>\n",
       "    </tr>\n",
       "    <tr>\n",
       "      <th>max</th>\n",
       "      <td>2.396400</td>\n",
       "      <td>9.720188e+12</td>\n",
       "      <td>407.959400</td>\n",
       "      <td>145.328800</td>\n",
       "      <td>0.0</td>\n",
       "    </tr>\n",
       "  </tbody>\n",
       "</table>\n",
       "</div>"
      ],
      "text/plain": [
       "       מכירות במליוני שקלים  פריט - ברקוד  מכירות באלפי ליטרים  מכירות בטונות  \\\n",
       "count         615101.000000  6.151010e+05        615101.000000  615101.000000   \n",
       "mean               0.007627  6.532671e+12             0.200029       0.151755   \n",
       "std                0.035422  2.113366e+12             3.478145       1.192769   \n",
       "min               -0.013700  6.301600e+04            -0.021400      -0.113800   \n",
       "25%                0.000200  7.290001e+12             0.000000       0.000400   \n",
       "50%                0.000900  7.290012e+12             0.000000       0.006900   \n",
       "75%                0.004400  7.290109e+12             0.000000       0.050100   \n",
       "max                2.396400  9.720188e+12           407.959400     145.328800   \n",
       "\n",
       "       מכירות באלפי יחידות צריכה  \n",
       "count                   615101.0  \n",
       "mean                         0.0  \n",
       "std                          0.0  \n",
       "min                          0.0  \n",
       "25%                          0.0  \n",
       "50%                          0.0  \n",
       "75%                          0.0  \n",
       "max                          0.0  "
      ]
     },
     "execution_count": 7,
     "metadata": {},
     "output_type": "execute_result"
    }
   ],
   "source": [
    "facts_df.describe()"
   ]
  },
  {
   "cell_type": "code",
   "execution_count": 8,
   "metadata": {},
   "outputs": [
    {
     "data": {
      "text/plain": [
       "{\n",
       "  \"success\": true,\n",
       "  \"result\": {\n",
       "    \"observed_value\": 2.3964,\n",
       "    \"element_count\": 615101,\n",
       "    \"missing_count\": null,\n",
       "    \"missing_percent\": null\n",
       "  },\n",
       "  \"meta\": {},\n",
       "  \"exception_info\": null\n",
       "}"
      ]
     },
     "execution_count": 8,
     "metadata": {},
     "output_type": "execute_result"
    }
   ],
   "source": [
    "facts_df.expect_column_max_to_be_between('מכירות במליוני שקלים',2,3)"
   ]
  },
  {
   "cell_type": "code",
   "execution_count": 9,
   "metadata": {},
   "outputs": [
    {
     "data": {
      "text/plain": [
       "array(['31 - 26\\\\07\\\\2020', '32 - 02\\\\08\\\\2020', '33 - 09\\\\08\\\\2020',\n",
       "       '34 - 16\\\\08\\\\2020', '35 - 23\\\\08\\\\2020', '36 - 30\\\\08\\\\2020',\n",
       "       '37 - 06\\\\09\\\\2020', '38 - 13\\\\09\\\\2020', '39 - 20\\\\09\\\\2020',\n",
       "       '40 - 27\\\\09\\\\2020', '41 - 04\\\\10\\\\2020', '42 - 11\\\\10\\\\2020'],\n",
       "      dtype=object)"
      ]
     },
     "execution_count": 9,
     "metadata": {},
     "output_type": "execute_result"
    }
   ],
   "source": [
    "facts_df['שבוע'].unique()"
   ]
  },
  {
   "cell_type": "code",
   "execution_count": 10,
   "metadata": {},
   "outputs": [],
   "source": [
    "import pandas as pd\n",
    "metadata_file = '7013a876be72492e95abc1697ce48f4f.xls'\n",
    "metadata_df = pd.read_excel(f\"~/Downloads/{metadata_file}\")"
   ]
  },
  {
   "cell_type": "code",
   "execution_count": 11,
   "metadata": {},
   "outputs": [
    {
     "data": {
      "text/html": [
       "<div>\n",
       "<style scoped>\n",
       "    .dataframe tbody tr th:only-of-type {\n",
       "        vertical-align: middle;\n",
       "    }\n",
       "\n",
       "    .dataframe tbody tr th {\n",
       "        vertical-align: top;\n",
       "    }\n",
       "\n",
       "    .dataframe thead th {\n",
       "        text-align: right;\n",
       "    }\n",
       "</style>\n",
       "<table border=\"1\" class=\"dataframe\">\n",
       "  <thead>\n",
       "    <tr style=\"text-align: right;\">\n",
       "      <th></th>\n",
       "      <th>פריט - תת קטגוריה</th>\n",
       "      <th>שנה</th>\n",
       "      <th>פריט - מותג</th>\n",
       "      <th>מכירות במליוני שקלים</th>\n",
       "      <th>פריט - תת מותג</th>\n",
       "      <th>פריט - קטגוריה</th>\n",
       "      <th>פריט - מחלקה</th>\n",
       "      <th>פריט - ספק</th>\n",
       "      <th>קטלוג פרטי - תת קטגוריה</th>\n",
       "      <th>קטלוג פרטי - מחלקה</th>\n",
       "      <th>קטלוג פרטי - קטגוריה</th>\n",
       "      <th>שם פריט</th>\n",
       "      <th>פריט - ברקוד</th>\n",
       "      <th>מדבקת סימון שומן רווי</th>\n",
       "      <th>מדבקת סימון סוכר</th>\n",
       "      <th>מדבקת סימון נתרן</th>\n",
       "    </tr>\n",
       "  </thead>\n",
       "  <tbody>\n",
       "    <tr>\n",
       "      <th>0</th>\n",
       "      <td>חטיפי חיטה</td>\n",
       "      <td>2020.0</td>\n",
       "      <td>אסלי</td>\n",
       "      <td>0.003541</td>\n",
       "      <td>אסלי</td>\n",
       "      <td>חטיפים</td>\n",
       "      <td>חטיפים מלוחים</td>\n",
       "      <td>א.ס כהן שיווק ישיר בעמ</td>\n",
       "      <td>חטיפי פסטה מטוגנת</td>\n",
       "      <td>עולם המלוחים</td>\n",
       "      <td>חטיפים מלוחים</td>\n",
       "      <td>אסלי מאגדת מיני  70ג</td>\n",
       "      <td>7.290004e+12</td>\n",
       "      <td>לא ידוע</td>\n",
       "      <td>לא ידוע</td>\n",
       "      <td>לא ידוע</td>\n",
       "    </tr>\n",
       "    <tr>\n",
       "      <th>1</th>\n",
       "      <td>חטיפי חיטה</td>\n",
       "      <td>2020.0</td>\n",
       "      <td>באגסי</td>\n",
       "      <td>0.172586</td>\n",
       "      <td>באגסי</td>\n",
       "      <td>חטיפים</td>\n",
       "      <td>חטיפים מלוחים</td>\n",
       "      <td>א.מ חטיפי העמק בעמ</td>\n",
       "      <td>חטיפי פסטה מטוגנת</td>\n",
       "      <td>עולם המלוחים</td>\n",
       "      <td>חטיפים מלוחים</td>\n",
       "      <td>באגסי גריל 200 ג</td>\n",
       "      <td>7.290003e+12</td>\n",
       "      <td>לא ידוע</td>\n",
       "      <td>לא ידוע</td>\n",
       "      <td>לא ידוע</td>\n",
       "    </tr>\n",
       "    <tr>\n",
       "      <th>2</th>\n",
       "      <td>חטיפי חיטה</td>\n",
       "      <td>2020.0</td>\n",
       "      <td>באגסי</td>\n",
       "      <td>0.155918</td>\n",
       "      <td>באגסי</td>\n",
       "      <td>חטיפים</td>\n",
       "      <td>חטיפים מלוחים</td>\n",
       "      <td>א.מ חטיפי העמק בעמ</td>\n",
       "      <td>חטיפי פסטה מטוגנת</td>\n",
       "      <td>עולם המלוחים</td>\n",
       "      <td>חטיפים מלוחים</td>\n",
       "      <td>באגסי ברביקיו 200 ג</td>\n",
       "      <td>7.290003e+12</td>\n",
       "      <td>לא ידוע</td>\n",
       "      <td>לא ידוע</td>\n",
       "      <td>לא ידוע</td>\n",
       "    </tr>\n",
       "    <tr>\n",
       "      <th>3</th>\n",
       "      <td>חטיפי חיטה</td>\n",
       "      <td>2020.0</td>\n",
       "      <td>באגסי</td>\n",
       "      <td>0.200949</td>\n",
       "      <td>באגסי</td>\n",
       "      <td>חטיפים</td>\n",
       "      <td>חטיפים מלוחים</td>\n",
       "      <td>א.מ חטיפי העמק בעמ</td>\n",
       "      <td>חטיפי פסטה מטוגנת</td>\n",
       "      <td>עולם המלוחים</td>\n",
       "      <td>חטיפים מלוחים</td>\n",
       "      <td>באגסי בצל 190 גר</td>\n",
       "      <td>7.290003e+12</td>\n",
       "      <td>לא ידוע</td>\n",
       "      <td>לא ידוע</td>\n",
       "      <td>לא ידוע</td>\n",
       "    </tr>\n",
       "    <tr>\n",
       "      <th>4</th>\n",
       "      <td>חטיפי חיטה</td>\n",
       "      <td>2020.0</td>\n",
       "      <td>באגסי</td>\n",
       "      <td>0.158370</td>\n",
       "      <td>באגסי</td>\n",
       "      <td>חטיפים</td>\n",
       "      <td>חטיפים מלוחים</td>\n",
       "      <td>א.מ חטיפי העמק בעמ</td>\n",
       "      <td>חטיפי פסטה מטוגנת</td>\n",
       "      <td>עולם המלוחים</td>\n",
       "      <td>חטיפים מלוחים</td>\n",
       "      <td>באגסי  בטעם פיצה 200 גרם</td>\n",
       "      <td>7.290003e+12</td>\n",
       "      <td>לא ידוע</td>\n",
       "      <td>לא ידוע</td>\n",
       "      <td>לא ידוע</td>\n",
       "    </tr>\n",
       "  </tbody>\n",
       "</table>\n",
       "</div>"
      ],
      "text/plain": [
       "  פריט - תת קטגוריה     שנה פריט - מותג  מכירות במליוני שקלים פריט - תת מותג  \\\n",
       "0        חטיפי חיטה  2020.0        אסלי              0.003541           אסלי   \n",
       "1        חטיפי חיטה  2020.0       באגסי              0.172586          באגסי   \n",
       "2        חטיפי חיטה  2020.0       באגסי              0.155918          באגסי   \n",
       "3        חטיפי חיטה  2020.0       באגסי              0.200949          באגסי   \n",
       "4        חטיפי חיטה  2020.0       באגסי              0.158370          באגסי   \n",
       "\n",
       "  פריט - קטגוריה   פריט - מחלקה              פריט - ספק  \\\n",
       "0         חטיפים  חטיפים מלוחים  א.ס כהן שיווק ישיר בעמ   \n",
       "1         חטיפים  חטיפים מלוחים      א.מ חטיפי העמק בעמ   \n",
       "2         חטיפים  חטיפים מלוחים      א.מ חטיפי העמק בעמ   \n",
       "3         חטיפים  חטיפים מלוחים      א.מ חטיפי העמק בעמ   \n",
       "4         חטיפים  חטיפים מלוחים      א.מ חטיפי העמק בעמ   \n",
       "\n",
       "  קטלוג פרטי - תת קטגוריה קטלוג פרטי - מחלקה קטלוג פרטי - קטגוריה  \\\n",
       "0       חטיפי פסטה מטוגנת       עולם המלוחים        חטיפים מלוחים   \n",
       "1       חטיפי פסטה מטוגנת       עולם המלוחים        חטיפים מלוחים   \n",
       "2       חטיפי פסטה מטוגנת       עולם המלוחים        חטיפים מלוחים   \n",
       "3       חטיפי פסטה מטוגנת       עולם המלוחים        חטיפים מלוחים   \n",
       "4       חטיפי פסטה מטוגנת       עולם המלוחים        חטיפים מלוחים   \n",
       "\n",
       "                    שם פריט  פריט - ברקוד מדבקת סימון שומן רווי  \\\n",
       "0      אסלי מאגדת מיני  70ג  7.290004e+12               לא ידוע   \n",
       "1          באגסי גריל 200 ג  7.290003e+12               לא ידוע   \n",
       "2       באגסי ברביקיו 200 ג  7.290003e+12               לא ידוע   \n",
       "3          באגסי בצל 190 גר  7.290003e+12               לא ידוע   \n",
       "4  באגסי  בטעם פיצה 200 גרם  7.290003e+12               לא ידוע   \n",
       "\n",
       "  מדבקת סימון סוכר מדבקת סימון נתרן  \n",
       "0          לא ידוע          לא ידוע  \n",
       "1          לא ידוע          לא ידוע  \n",
       "2          לא ידוע          לא ידוע  \n",
       "3          לא ידוע          לא ידוע  \n",
       "4          לא ידוע          לא ידוע  "
      ]
     },
     "execution_count": 11,
     "metadata": {},
     "output_type": "execute_result"
    }
   ],
   "source": [
    "metadata_df.head()"
   ]
  },
  {
   "cell_type": "code",
   "execution_count": 12,
   "metadata": {},
   "outputs": [],
   "source": [
    "facts_df_with_date = (\n",
    "    facts_df\n",
    "    .assign(week_number = lambda x : x['שבוע'].str[:2])\n",
    "    .assign(week_date = lambda x : pd.to_datetime(x['שבוע'].str[-10:], format='%d\\%m\\%Y', errors='coerce'))\n",
    ")"
   ]
  },
  {
   "cell_type": "code",
   "execution_count": 13,
   "metadata": {},
   "outputs": [],
   "source": [
    "merged_df = (\n",
    "    facts_df_with_date\n",
    "    .query('week_number > \"34\"')\n",
    "    .merge(metadata_df, on='פריט - ברקוד')\n",
    ")"
   ]
  },
  {
   "cell_type": "code",
   "execution_count": 14,
   "metadata": {},
   "outputs": [
    {
     "data": {
      "text/plain": [
       "Index(['שבוע', 'חנות - פורמט', 'שם פריט_x', 'מכירות במליוני שקלים_x',\n",
       "       'פריט - ברקוד', 'מכירות באלפי ליטרים', 'מכירות בטונות',\n",
       "       'מכירות באלפי יחידות באריזה', 'מכירות באלפי יחידות צריכה',\n",
       "       'מחיר ממוצע ליחידה', 'מחיר ממוצע לליטר', 'מחיר ממוצע לקילו',\n",
       "       'מחיר ממוצע ליחידה באריזה', 'מחיר ממוצע ליחידת צריכה', 'week_number',\n",
       "       'week_date', 'פריט - תת קטגוריה', 'שנה', 'פריט - מותג',\n",
       "       'מכירות במליוני שקלים_y', 'פריט - תת מותג', 'פריט - קטגוריה',\n",
       "       'פריט - מחלקה', 'פריט - ספק', 'קטלוג פרטי - תת קטגוריה',\n",
       "       'קטלוג פרטי - מחלקה', 'קטלוג פרטי - קטגוריה', 'שם פריט_y',\n",
       "       'מדבקת סימון שומן רווי', 'מדבקת סימון סוכר', 'מדבקת סימון נתרן'],\n",
       "      dtype='object')"
      ]
     },
     "execution_count": 14,
     "metadata": {},
     "output_type": "execute_result"
    }
   ],
   "source": [
    "merged_df.columns"
   ]
  },
  {
   "cell_type": "code",
   "execution_count": 15,
   "metadata": {},
   "outputs": [],
   "source": [
    "scaled_df = (\n",
    "    merged_df\n",
    "    .rename(columns={\n",
    "        'שבוע':'week_desc',\n",
    "        'חנות - פורמט':'format_name',\n",
    "        'מכירות במליוני שקלים_x':'sales_in_m',\n",
    "        'פריט - ברקוד':'item_id',\n",
    "        'מכירות באלפי ליטרים':'volume_in_k',\n",
    "        'מכירות בטונות':'weight_in_tons',\n",
    "        'מכירות באלפי יחידות באריזה':'quantity_in_k',\n",
    "        'מחיר ממוצע ליחידה': 'avg_price_units_in_package',\n",
    "        'מחיר ממוצע לקילו': 'avg_price_weight',\n",
    "        'מחיר ממוצע לליטר': 'avg_price_volume',\n",
    "        'פריט - תת קטגוריה': 'public_sub_category',\n",
    "        'פריט - קטגוריה': 'public_category',\n",
    "        'פריט - מחלקה': 'public_class',\n",
    "        'קטלוג פרטי - תת קטגוריה': 'private_sub_category',\n",
    "        'קטלוג פרטי - קטגוריה': 'private_category',\n",
    "        'שם פריט': 'item_name',\n",
    "        'פריט - מותג': 'brand',\n",
    "        'פריט - תת מותג': 'sub_brand',\n",
    "        'פריט - ספק': 'supplier_name'\n",
    "    })\n",
    "    .assign(weight = lambda x : x.weight_in_tons*1000)\n",
    "    .assign(volume = lambda x : x.volume_in_k*1000)\n",
    "    .assign(sales = lambda x : x.sales_in_m*1000*1000)\n",
    "    .assign(quantity_in_k=lambda x : pd.to_numeric(x.quantity_in_k, errors='coerce'))\n",
    "    .assign(quantity = lambda x : x.quantity_in_k*1000)\n",
    "    .assign(avg_price_volume=lambda x : pd.to_numeric(x.avg_price_volume, errors='coerce'))\n",
    "    .assign(avg_price_weight=lambda x : pd.to_numeric(x.avg_price_weight, errors='coerce'))\n",
    "    .assign(avg_price_units_in_package=lambda x : pd.to_numeric(x.avg_price_units_in_package, errors='coerce'))\n",
    ")"
   ]
  },
  {
   "cell_type": "code",
   "execution_count": 16,
   "metadata": {},
   "outputs": [],
   "source": [
    "scaled_ge_df = ge.from_pandas(\n",
    "    scaled_df\n",
    ")"
   ]
  },
  {
   "cell_type": "code",
   "execution_count": 17,
   "metadata": {},
   "outputs": [
    {
     "data": {
      "text/plain": [
       "{\n",
       "  \"success\": true,\n",
       "  \"result\": {\n",
       "    \"observed_value\": 8105.961659946315,\n",
       "    \"element_count\": 425821,\n",
       "    \"missing_count\": null,\n",
       "    \"missing_percent\": null\n",
       "  },\n",
       "  \"meta\": {},\n",
       "  \"exception_info\": null\n",
       "}"
      ]
     },
     "execution_count": 17,
     "metadata": {},
     "output_type": "execute_result"
    }
   ],
   "source": [
    "scaled_ge_df.expect_column_mean_to_be_between('sales',1000,20000 )"
   ]
  },
  {
   "cell_type": "code",
   "execution_count": 18,
   "metadata": {},
   "outputs": [
    {
     "data": {
      "text/html": [
       "<div>\n",
       "<style scoped>\n",
       "    .dataframe tbody tr th:only-of-type {\n",
       "        vertical-align: middle;\n",
       "    }\n",
       "\n",
       "    .dataframe tbody tr th {\n",
       "        vertical-align: top;\n",
       "    }\n",
       "\n",
       "    .dataframe thead th {\n",
       "        text-align: right;\n",
       "    }\n",
       "</style>\n",
       "<table border=\"1\" class=\"dataframe\">\n",
       "  <thead>\n",
       "    <tr style=\"text-align: right;\">\n",
       "      <th></th>\n",
       "      <th>sales_in_m</th>\n",
       "      <th>item_id</th>\n",
       "      <th>volume_in_k</th>\n",
       "      <th>weight_in_tons</th>\n",
       "      <th>quantity_in_k</th>\n",
       "      <th>מכירות באלפי יחידות צריכה</th>\n",
       "      <th>avg_price_units_in_package</th>\n",
       "      <th>avg_price_volume</th>\n",
       "      <th>avg_price_weight</th>\n",
       "      <th>שנה</th>\n",
       "      <th>מכירות במליוני שקלים_y</th>\n",
       "      <th>weight</th>\n",
       "      <th>volume</th>\n",
       "      <th>sales</th>\n",
       "      <th>quantity</th>\n",
       "    </tr>\n",
       "  </thead>\n",
       "  <tbody>\n",
       "    <tr>\n",
       "      <th>count</th>\n",
       "      <td>425821.000000</td>\n",
       "      <td>4.258210e+05</td>\n",
       "      <td>425821.000000</td>\n",
       "      <td>425821.000000</td>\n",
       "      <td>425805.000000</td>\n",
       "      <td>425821.0</td>\n",
       "      <td>411768.000000</td>\n",
       "      <td>74471.000000</td>\n",
       "      <td>347022.000000</td>\n",
       "      <td>425821.0</td>\n",
       "      <td>425821.000000</td>\n",
       "      <td>425821.000000</td>\n",
       "      <td>425821.000000</td>\n",
       "      <td>4.258210e+05</td>\n",
       "      <td>425805.000000</td>\n",
       "    </tr>\n",
       "    <tr>\n",
       "      <th>mean</th>\n",
       "      <td>0.008106</td>\n",
       "      <td>6.533623e+12</td>\n",
       "      <td>0.211629</td>\n",
       "      <td>0.162567</td>\n",
       "      <td>1.705714</td>\n",
       "      <td>0.0</td>\n",
       "      <td>13.446194</td>\n",
       "      <td>30.776385</td>\n",
       "      <td>74.539417</td>\n",
       "      <td>2020.0</td>\n",
       "      <td>1.722092</td>\n",
       "      <td>162.566627</td>\n",
       "      <td>211.629251</td>\n",
       "      <td>8.105962e+03</td>\n",
       "      <td>1705.713649</td>\n",
       "    </tr>\n",
       "    <tr>\n",
       "      <th>std</th>\n",
       "      <td>0.036753</td>\n",
       "      <td>2.112647e+12</td>\n",
       "      <td>3.603871</td>\n",
       "      <td>1.259600</td>\n",
       "      <td>11.725253</td>\n",
       "      <td>0.0</td>\n",
       "      <td>9.891624</td>\n",
       "      <td>35.723541</td>\n",
       "      <td>66.360620</td>\n",
       "      <td>0.0</td>\n",
       "      <td>6.031041</td>\n",
       "      <td>1259.600327</td>\n",
       "      <td>3603.871437</td>\n",
       "      <td>3.675345e+04</td>\n",
       "      <td>11725.253461</td>\n",
       "    </tr>\n",
       "    <tr>\n",
       "      <th>min</th>\n",
       "      <td>-0.013700</td>\n",
       "      <td>6.301600e+04</td>\n",
       "      <td>-0.013000</td>\n",
       "      <td>-0.113800</td>\n",
       "      <td>-2.400000</td>\n",
       "      <td>0.0</td>\n",
       "      <td>-173.488300</td>\n",
       "      <td>-101.539800</td>\n",
       "      <td>-140.000000</td>\n",
       "      <td>2020.0</td>\n",
       "      <td>-0.004496</td>\n",
       "      <td>-113.800000</td>\n",
       "      <td>-13.000000</td>\n",
       "      <td>-1.370000e+04</td>\n",
       "      <td>-2400.000000</td>\n",
       "    </tr>\n",
       "    <tr>\n",
       "      <th>25%</th>\n",
       "      <td>0.000200</td>\n",
       "      <td>7.290001e+12</td>\n",
       "      <td>0.000000</td>\n",
       "      <td>0.000500</td>\n",
       "      <td>0.014000</td>\n",
       "      <td>0.0</td>\n",
       "      <td>7.277575</td>\n",
       "      <td>14.700200</td>\n",
       "      <td>33.188300</td>\n",
       "      <td>2020.0</td>\n",
       "      <td>0.103198</td>\n",
       "      <td>0.500000</td>\n",
       "      <td>0.000000</td>\n",
       "      <td>2.000000e+02</td>\n",
       "      <td>14.000000</td>\n",
       "    </tr>\n",
       "    <tr>\n",
       "      <th>50%</th>\n",
       "      <td>0.001100</td>\n",
       "      <td>7.290012e+12</td>\n",
       "      <td>0.000000</td>\n",
       "      <td>0.008100</td>\n",
       "      <td>0.094200</td>\n",
       "      <td>0.0</td>\n",
       "      <td>11.563900</td>\n",
       "      <td>24.230700</td>\n",
       "      <td>56.300000</td>\n",
       "      <td>2020.0</td>\n",
       "      <td>0.341207</td>\n",
       "      <td>8.100000</td>\n",
       "      <td>0.000000</td>\n",
       "      <td>1.100000e+03</td>\n",
       "      <td>94.200000</td>\n",
       "    </tr>\n",
       "    <tr>\n",
       "      <th>75%</th>\n",
       "      <td>0.004800</td>\n",
       "      <td>7.290109e+12</td>\n",
       "      <td>0.000000</td>\n",
       "      <td>0.055900</td>\n",
       "      <td>0.552800</td>\n",
       "      <td>0.0</td>\n",
       "      <td>16.900000</td>\n",
       "      <td>35.025100</td>\n",
       "      <td>95.420400</td>\n",
       "      <td>2020.0</td>\n",
       "      <td>1.232926</td>\n",
       "      <td>55.900000</td>\n",
       "      <td>0.000000</td>\n",
       "      <td>4.800000e+03</td>\n",
       "      <td>552.800000</td>\n",
       "    </tr>\n",
       "    <tr>\n",
       "      <th>max</th>\n",
       "      <td>2.396400</td>\n",
       "      <td>9.720188e+12</td>\n",
       "      <td>407.959400</td>\n",
       "      <td>145.328800</td>\n",
       "      <td>879.135600</td>\n",
       "      <td>0.0</td>\n",
       "      <td>404.900000</td>\n",
       "      <td>932.424200</td>\n",
       "      <td>996.000000</td>\n",
       "      <td>2020.0</td>\n",
       "      <td>251.452675</td>\n",
       "      <td>145328.800000</td>\n",
       "      <td>407959.400000</td>\n",
       "      <td>2.396400e+06</td>\n",
       "      <td>879135.600000</td>\n",
       "    </tr>\n",
       "  </tbody>\n",
       "</table>\n",
       "</div>"
      ],
      "text/plain": [
       "          sales_in_m       item_id    volume_in_k  weight_in_tons  \\\n",
       "count  425821.000000  4.258210e+05  425821.000000   425821.000000   \n",
       "mean        0.008106  6.533623e+12       0.211629        0.162567   \n",
       "std         0.036753  2.112647e+12       3.603871        1.259600   \n",
       "min        -0.013700  6.301600e+04      -0.013000       -0.113800   \n",
       "25%         0.000200  7.290001e+12       0.000000        0.000500   \n",
       "50%         0.001100  7.290012e+12       0.000000        0.008100   \n",
       "75%         0.004800  7.290109e+12       0.000000        0.055900   \n",
       "max         2.396400  9.720188e+12     407.959400      145.328800   \n",
       "\n",
       "       quantity_in_k  מכירות באלפי יחידות צריכה  avg_price_units_in_package  \\\n",
       "count  425805.000000                   425821.0               411768.000000   \n",
       "mean        1.705714                        0.0                   13.446194   \n",
       "std        11.725253                        0.0                    9.891624   \n",
       "min        -2.400000                        0.0                 -173.488300   \n",
       "25%         0.014000                        0.0                    7.277575   \n",
       "50%         0.094200                        0.0                   11.563900   \n",
       "75%         0.552800                        0.0                   16.900000   \n",
       "max       879.135600                        0.0                  404.900000   \n",
       "\n",
       "       avg_price_volume  avg_price_weight       שנה  מכירות במליוני שקלים_y  \\\n",
       "count      74471.000000     347022.000000  425821.0           425821.000000   \n",
       "mean          30.776385         74.539417    2020.0                1.722092   \n",
       "std           35.723541         66.360620       0.0                6.031041   \n",
       "min         -101.539800       -140.000000    2020.0               -0.004496   \n",
       "25%           14.700200         33.188300    2020.0                0.103198   \n",
       "50%           24.230700         56.300000    2020.0                0.341207   \n",
       "75%           35.025100         95.420400    2020.0                1.232926   \n",
       "max          932.424200        996.000000    2020.0              251.452675   \n",
       "\n",
       "              weight         volume         sales       quantity  \n",
       "count  425821.000000  425821.000000  4.258210e+05  425805.000000  \n",
       "mean      162.566627     211.629251  8.105962e+03    1705.713649  \n",
       "std      1259.600327    3603.871437  3.675345e+04   11725.253461  \n",
       "min      -113.800000     -13.000000 -1.370000e+04   -2400.000000  \n",
       "25%         0.500000       0.000000  2.000000e+02      14.000000  \n",
       "50%         8.100000       0.000000  1.100000e+03      94.200000  \n",
       "75%        55.900000       0.000000  4.800000e+03     552.800000  \n",
       "max    145328.800000  407959.400000  2.396400e+06  879135.600000  "
      ]
     },
     "execution_count": 18,
     "metadata": {},
     "output_type": "execute_result"
    }
   ],
   "source": [
    "scaled_ge_df.describe()"
   ]
  },
  {
   "cell_type": "code",
   "execution_count": 19,
   "metadata": {},
   "outputs": [
    {
     "data": {
      "text/plain": [
       "array([[<AxesSubplot:title={'center':'sales_in_m'}>,\n",
       "        <AxesSubplot:title={'center':'item_id'}>,\n",
       "        <AxesSubplot:title={'center':'volume_in_k'}>,\n",
       "        <AxesSubplot:title={'center':'weight_in_tons'}>],\n",
       "       [<AxesSubplot:title={'center':'quantity_in_k'}>,\n",
       "        <AxesSubplot:title={'center':'מכירות באלפי יחידות צריכה'}>,\n",
       "        <AxesSubplot:title={'center':'avg_price_units_in_package'}>,\n",
       "        <AxesSubplot:title={'center':'avg_price_volume'}>],\n",
       "       [<AxesSubplot:title={'center':'avg_price_weight'}>,\n",
       "        <AxesSubplot:title={'center':'שנה'}>,\n",
       "        <AxesSubplot:title={'center':'מכירות במליוני שקלים_y'}>,\n",
       "        <AxesSubplot:title={'center':'weight'}>],\n",
       "       [<AxesSubplot:title={'center':'volume'}>,\n",
       "        <AxesSubplot:title={'center':'sales'}>,\n",
       "        <AxesSubplot:title={'center':'quantity'}>, <AxesSubplot:>]],\n",
       "      dtype=object)"
      ]
     },
     "execution_count": 19,
     "metadata": {},
     "output_type": "execute_result"
    },
    {
     "data": {
      "image/png": "[encoded data removed]",
      "text/plain": [
       "<Figure size 959.976x540 with 16 Axes>"
      ]
     },
     "metadata": {
      "filenames": {
       "image/png": "/Users/guy/Development/GitHub/from-excel-to-pandas/_build/jupyter_execute/notebooks/01.09_data_quality_19_1.png"
      },
      "needs_background": "light"
     },
     "output_type": "display_data"
    }
   ],
   "source": [
    "scaled_ge_df.hist(bins=50,figsize=(13.333,7.5))"
   ]
  },
  {
   "cell_type": "code",
   "execution_count": 20,
   "metadata": {},
   "outputs": [
    {
     "name": "stdout",
     "output_type": "stream",
     "text": [
      "<class 'great_expectations.dataset.pandas_dataset.PandasDataset'>\n",
      "Int64Index: 425821 entries, 0 to 425820\n",
      "Data columns (total 35 columns):\n",
      " #   Column                      Non-Null Count   Dtype         \n",
      "---  ------                      --------------   -----         \n",
      " 0   week_desc                   425821 non-null  object        \n",
      " 1   format_name                 425821 non-null  object        \n",
      " 2   שם פריט_x                   425821 non-null  object        \n",
      " 3   sales_in_m                  425821 non-null  float64       \n",
      " 4   item_id                     425821 non-null  int64         \n",
      " 5   volume_in_k                 425821 non-null  float64       \n",
      " 6   weight_in_tons              425821 non-null  float64       \n",
      " 7   quantity_in_k               425805 non-null  float64       \n",
      " 8   מכירות באלפי יחידות צריכה   425821 non-null  float64       \n",
      " 9   avg_price_units_in_package  411768 non-null  float64       \n",
      " 10  avg_price_volume            74471 non-null   float64       \n",
      " 11  avg_price_weight            347022 non-null  float64       \n",
      " 12  מחיר ממוצע ליחידה באריזה    425821 non-null  object        \n",
      " 13  מחיר ממוצע ליחידת צריכה     425821 non-null  object        \n",
      " 14  week_number                 425821 non-null  object        \n",
      " 15  week_date                   425821 non-null  datetime64[ns]\n",
      " 16  public_sub_category         425821 non-null  object        \n",
      " 17  שנה                         425821 non-null  float64       \n",
      " 18  brand                       425821 non-null  object        \n",
      " 19  מכירות במליוני שקלים_y      425821 non-null  float64       \n",
      " 20  sub_brand                   425821 non-null  object        \n",
      " 21  public_category             425821 non-null  object        \n",
      " 22  public_class                425821 non-null  object        \n",
      " 23  supplier_name               425821 non-null  object        \n",
      " 24  private_sub_category        425821 non-null  object        \n",
      " 25  קטלוג פרטי - מחלקה          425821 non-null  object        \n",
      " 26  private_category            425821 non-null  object        \n",
      " 27  שם פריט_y                   425821 non-null  object        \n",
      " 28  מדבקת סימון שומן רווי       425821 non-null  object        \n",
      " 29  מדבקת סימון סוכר            425821 non-null  object        \n",
      " 30  מדבקת סימון נתרן            425821 non-null  object        \n",
      " 31  weight                      425821 non-null  float64       \n",
      " 32  volume                      425821 non-null  float64       \n",
      " 33  sales                       425821 non-null  float64       \n",
      " 34  quantity                    425805 non-null  float64       \n",
      "dtypes: datetime64[ns](1), float64(14), int64(1), object(19)\n",
      "memory usage: 117.0+ MB\n"
     ]
    }
   ],
   "source": [
    "scaled_ge_df.info()"
   ]
  },
  {
   "cell_type": "code",
   "execution_count": 21,
   "metadata": {},
   "outputs": [
    {
     "data": {
      "text/plain": [
       "{\n",
       "  \"success\": false,\n",
       "  \"result\": {\n",
       "    \"observed_value\": 94.2,\n",
       "    \"element_count\": 425821,\n",
       "    \"missing_count\": 16,\n",
       "    \"missing_percent\": 0.003757447378123672\n",
       "  },\n",
       "  \"meta\": {},\n",
       "  \"exception_info\": null\n",
       "}"
      ]
     },
     "execution_count": 21,
     "metadata": {},
     "output_type": "execute_result"
    }
   ],
   "source": [
    "scaled_ge_df.expect_column_median_to_be_between('quantity',800,1000)"
   ]
  },
  {
   "cell_type": "code",
   "execution_count": 22,
   "metadata": {},
   "outputs": [
    {
     "data": {
      "text/plain": [
       "{\n",
       "  \"success\": false,\n",
       "  \"result\": {\n",
       "    \"observed_value\": 211.62925149299824,\n",
       "    \"element_count\": 425821,\n",
       "    \"missing_count\": null,\n",
       "    \"missing_percent\": null\n",
       "  },\n",
       "  \"meta\": {\n",
       "    \"notes\": \"The scaling might fail\"\n",
       "  },\n",
       "  \"exception_info\": null\n",
       "}"
      ]
     },
     "execution_count": 22,
     "metadata": {},
     "output_type": "execute_result"
    }
   ],
   "source": [
    "scaled_ge_df.expect_column_mean_to_be_between('volume',150000,200000,meta={\"notes\": \"The scaling might fail\"})"
   ]
  },
  {
   "cell_type": "code",
   "execution_count": 23,
   "metadata": {},
   "outputs": [
    {
     "data": {
      "text/plain": [
       "{\n",
       "  \"success\": false,\n",
       "  \"result\": {\n",
       "    \"observed_value\": 162.566626587228,\n",
       "    \"element_count\": 425821,\n",
       "    \"missing_count\": null,\n",
       "    \"missing_percent\": null\n",
       "  },\n",
       "  \"meta\": {\n",
       "    \"notes\": \"The scaling might fail\"\n",
       "  },\n",
       "  \"exception_info\": null\n",
       "}"
      ]
     },
     "execution_count": 23,
     "metadata": {},
     "output_type": "execute_result"
    }
   ],
   "source": [
    "scaled_ge_df.expect_column_mean_to_be_between('weight',150000,200000,meta={\"notes\": \"The scaling might fail\"})"
   ]
  },
  {
   "cell_type": "code",
   "execution_count": 24,
   "metadata": {},
   "outputs": [
    {
     "data": {
      "text/plain": [
       "{\n",
       "  \"success\": true,\n",
       "  \"result\": {\n",
       "    \"observed_value\": 30.776385237206423,\n",
       "    \"element_count\": 425821,\n",
       "    \"missing_count\": 351350,\n",
       "    \"missing_percent\": 82.5111960189845\n",
       "  },\n",
       "  \"meta\": {},\n",
       "  \"exception_info\": null\n",
       "}"
      ]
     },
     "execution_count": 24,
     "metadata": {},
     "output_type": "execute_result"
    }
   ],
   "source": [
    "scaled_ge_df.expect_column_mean_to_be_between('avg_price_volume',4,35)"
   ]
  },
  {
   "cell_type": "code",
   "execution_count": 25,
   "metadata": {},
   "outputs": [
    {
     "data": {
      "text/plain": [
       "{\n",
       "  \"success\": true,\n",
       "  \"result\": {\n",
       "    \"observed_value\": 74.53941746661596,\n",
       "    \"element_count\": 425821,\n",
       "    \"missing_count\": 78799,\n",
       "    \"missing_percent\": 18.50519349679795\n",
       "  },\n",
       "  \"meta\": {},\n",
       "  \"exception_info\": null\n",
       "}"
      ]
     },
     "execution_count": 25,
     "metadata": {},
     "output_type": "execute_result"
    }
   ],
   "source": [
    "scaled_ge_df.expect_column_mean_to_be_between('avg_price_weight',50,100)"
   ]
  },
  {
   "cell_type": "code",
   "execution_count": 26,
   "metadata": {},
   "outputs": [
    {
     "data": {
      "text/plain": [
       "{\n",
       "  \"success\": true,\n",
       "  \"result\": {\n",
       "    \"observed_value\": 13.446193705436075,\n",
       "    \"element_count\": 425821,\n",
       "    \"missing_count\": 14053,\n",
       "    \"missing_percent\": 3.3002130002982475\n",
       "  },\n",
       "  \"meta\": {},\n",
       "  \"exception_info\": null\n",
       "}"
      ]
     },
     "execution_count": 26,
     "metadata": {},
     "output_type": "execute_result"
    }
   ],
   "source": [
    "scaled_ge_df.expect_column_mean_to_be_between('avg_price_units_in_package',10,100)"
   ]
  },
  {
   "cell_type": "code",
   "execution_count": 27,
   "metadata": {},
   "outputs": [
    {
     "ename": "ImportError",
     "evalue": "Unable to find a usable engine; tried using: 'pyarrow', 'fastparquet'.\nA suitable version of pyarrow or fastparquet is required for parquet support.\nTrying to import the above resulted in these errors:\n - Missing optional dependency 'pyarrow'. pyarrow is required for parquet support. Use pip or conda to install pyarrow.\n - Missing optional dependency 'fastparquet'. fastparquet is required for parquet support. Use pip or conda to install fastparquet.",
     "output_type": "error",
     "traceback": [
      "\u001b[0;31m---------------------------------------------------------------------------\u001b[0m",
      "\u001b[0;31mImportError\u001b[0m                               Traceback (most recent call last)",
      "\u001b[0;32m<ipython-input-27-fc2ae1f72c00>\u001b[0m in \u001b[0;36m<module>\u001b[0;34m\u001b[0m\n\u001b[1;32m      1\u001b[0m \u001b[0;32mimport\u001b[0m \u001b[0mio\u001b[0m\u001b[0;34m\u001b[0m\u001b[0;34m\u001b[0m\u001b[0m\n\u001b[1;32m      2\u001b[0m \u001b[0mf\u001b[0m \u001b[0;34m=\u001b[0m \u001b[0mio\u001b[0m\u001b[0;34m.\u001b[0m\u001b[0mBytesIO\u001b[0m\u001b[0;34m(\u001b[0m\u001b[0;34m)\u001b[0m\u001b[0;34m\u001b[0m\u001b[0;34m\u001b[0m\u001b[0m\n\u001b[0;32m----> 3\u001b[0;31m \u001b[0mscaled_df\u001b[0m\u001b[0;34m.\u001b[0m\u001b[0mto_parquet\u001b[0m\u001b[0;34m(\u001b[0m\u001b[0mf\u001b[0m\u001b[0;34m)\u001b[0m\u001b[0;34m\u001b[0m\u001b[0;34m\u001b[0m\u001b[0m\n\u001b[0m\u001b[1;32m      4\u001b[0m \u001b[0;34m\u001b[0m\u001b[0m\n",
      "\u001b[0;32m~/miniconda3/lib/python3.8/site-packages/pandas/util/_decorators.py\u001b[0m in \u001b[0;36mwrapper\u001b[0;34m(*args, **kwargs)\u001b[0m\n\u001b[1;32m    197\u001b[0m                 \u001b[0;32melse\u001b[0m\u001b[0;34m:\u001b[0m\u001b[0;34m\u001b[0m\u001b[0;34m\u001b[0m\u001b[0m\n\u001b[1;32m    198\u001b[0m                     \u001b[0mkwargs\u001b[0m\u001b[0;34m[\u001b[0m\u001b[0mnew_arg_name\u001b[0m\u001b[0;34m]\u001b[0m \u001b[0;34m=\u001b[0m \u001b[0mnew_arg_value\u001b[0m\u001b[0;34m\u001b[0m\u001b[0;34m\u001b[0m\u001b[0m\n\u001b[0;32m--> 199\u001b[0;31m             \u001b[0;32mreturn\u001b[0m \u001b[0mfunc\u001b[0m\u001b[0;34m(\u001b[0m\u001b[0;34m*\u001b[0m\u001b[0margs\u001b[0m\u001b[0;34m,\u001b[0m \u001b[0;34m**\u001b[0m\u001b[0mkwargs\u001b[0m\u001b[0;34m)\u001b[0m\u001b[0;34m\u001b[0m\u001b[0;34m\u001b[0m\u001b[0m\n\u001b[0m\u001b[1;32m    200\u001b[0m \u001b[0;34m\u001b[0m\u001b[0m\n\u001b[1;32m    201\u001b[0m         \u001b[0;32mreturn\u001b[0m \u001b[0mcast\u001b[0m\u001b[0;34m(\u001b[0m\u001b[0mF\u001b[0m\u001b[0;34m,\u001b[0m \u001b[0mwrapper\u001b[0m\u001b[0;34m)\u001b[0m\u001b[0;34m\u001b[0m\u001b[0;34m\u001b[0m\u001b[0m\n",
      "\u001b[0;32m~/miniconda3/lib/python3.8/site-packages/pandas/core/frame.py\u001b[0m in \u001b[0;36mto_parquet\u001b[0;34m(self, path, engine, compression, index, partition_cols, **kwargs)\u001b[0m\n\u001b[1;32m   2363\u001b[0m         \u001b[0;32mfrom\u001b[0m \u001b[0mpandas\u001b[0m\u001b[0;34m.\u001b[0m\u001b[0mio\u001b[0m\u001b[0;34m.\u001b[0m\u001b[0mparquet\u001b[0m \u001b[0;32mimport\u001b[0m \u001b[0mto_parquet\u001b[0m\u001b[0;34m\u001b[0m\u001b[0;34m\u001b[0m\u001b[0m\n\u001b[1;32m   2364\u001b[0m \u001b[0;34m\u001b[0m\u001b[0m\n\u001b[0;32m-> 2365\u001b[0;31m         to_parquet(\n\u001b[0m\u001b[1;32m   2366\u001b[0m             \u001b[0mself\u001b[0m\u001b[0;34m,\u001b[0m\u001b[0;34m\u001b[0m\u001b[0;34m\u001b[0m\u001b[0m\n\u001b[1;32m   2367\u001b[0m             \u001b[0mpath\u001b[0m\u001b[0;34m,\u001b[0m\u001b[0;34m\u001b[0m\u001b[0;34m\u001b[0m\u001b[0m\n",
      "\u001b[0;32m~/miniconda3/lib/python3.8/site-packages/pandas/io/parquet.py\u001b[0m in \u001b[0;36mto_parquet\u001b[0;34m(df, path, engine, compression, index, partition_cols, **kwargs)\u001b[0m\n\u001b[1;32m    267\u001b[0m     \u001b[0;32mif\u001b[0m \u001b[0misinstance\u001b[0m\u001b[0;34m(\u001b[0m\u001b[0mpartition_cols\u001b[0m\u001b[0;34m,\u001b[0m \u001b[0mstr\u001b[0m\u001b[0;34m)\u001b[0m\u001b[0;34m:\u001b[0m\u001b[0;34m\u001b[0m\u001b[0;34m\u001b[0m\u001b[0m\n\u001b[1;32m    268\u001b[0m         \u001b[0mpartition_cols\u001b[0m \u001b[0;34m=\u001b[0m \u001b[0;34m[\u001b[0m\u001b[0mpartition_cols\u001b[0m\u001b[0;34m]\u001b[0m\u001b[0;34m\u001b[0m\u001b[0;34m\u001b[0m\u001b[0m\n\u001b[0;32m--> 269\u001b[0;31m     \u001b[0mimpl\u001b[0m \u001b[0;34m=\u001b[0m \u001b[0mget_engine\u001b[0m\u001b[0;34m(\u001b[0m\u001b[0mengine\u001b[0m\u001b[0;34m)\u001b[0m\u001b[0;34m\u001b[0m\u001b[0;34m\u001b[0m\u001b[0m\n\u001b[0m\u001b[1;32m    270\u001b[0m     return impl.write(\n\u001b[1;32m    271\u001b[0m         \u001b[0mdf\u001b[0m\u001b[0;34m,\u001b[0m\u001b[0;34m\u001b[0m\u001b[0;34m\u001b[0m\u001b[0m\n",
      "\u001b[0;32m~/miniconda3/lib/python3.8/site-packages/pandas/io/parquet.py\u001b[0m in \u001b[0;36mget_engine\u001b[0;34m(engine)\u001b[0m\n\u001b[1;32m     29\u001b[0m                 \u001b[0merror_msgs\u001b[0m \u001b[0;34m+=\u001b[0m \u001b[0;34m\"\\n - \"\u001b[0m \u001b[0;34m+\u001b[0m \u001b[0mstr\u001b[0m\u001b[0;34m(\u001b[0m\u001b[0merr\u001b[0m\u001b[0;34m)\u001b[0m\u001b[0;34m\u001b[0m\u001b[0;34m\u001b[0m\u001b[0m\n\u001b[1;32m     30\u001b[0m \u001b[0;34m\u001b[0m\u001b[0m\n\u001b[0;32m---> 31\u001b[0;31m         raise ImportError(\n\u001b[0m\u001b[1;32m     32\u001b[0m             \u001b[0;34m\"Unable to find a usable engine; \"\u001b[0m\u001b[0;34m\u001b[0m\u001b[0;34m\u001b[0m\u001b[0m\n\u001b[1;32m     33\u001b[0m             \u001b[0;34m\"tried using: 'pyarrow', 'fastparquet'.\\n\"\u001b[0m\u001b[0;34m\u001b[0m\u001b[0;34m\u001b[0m\u001b[0m\n",
      "\u001b[0;31mImportError\u001b[0m: Unable to find a usable engine; tried using: 'pyarrow', 'fastparquet'.\nA suitable version of pyarrow or fastparquet is required for parquet support.\nTrying to import the above resulted in these errors:\n - Missing optional dependency 'pyarrow'. pyarrow is required for parquet support. Use pip or conda to install pyarrow.\n - Missing optional dependency 'fastparquet'. fastparquet is required for parquet support. Use pip or conda to install fastparquet."
     ]
    }
   ],
   "source": [
    "import io\n",
    "f = io.BytesIO()\n",
    "scaled_df.to_parquet(f)\n",
    "    \n"
   ]
  }
 ],
 "metadata": {
  "kernelspec": {
   "display_name": "Python 3",
   "metadata": {
    "interpreter": {
     "hash": "31f2aee4e71d21fbe5cf8b01ff0e069b9275f58929596ceb00d14d90e3e16cd6"
    }
   },
   "name": "Python3"
  },
  "language_info": {
   "codemirror_mode": {
    "name": "ipython",
    "version": 3
   },
   "file_extension": ".py",
   "mimetype": "text/x-python",
   "name": "python",
   "nbconvert_exporter": "python",
   "pygments_lexer": "ipython3",
   "version": "3.8.3"
  },
  "nteract": {
   "version": "0.26.0"
  }
 },
 "nbformat": 4,
 "nbformat_minor": 2
}