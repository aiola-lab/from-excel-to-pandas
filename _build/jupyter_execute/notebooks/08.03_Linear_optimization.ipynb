{
 "cells": [
  {
   "cell_type": "markdown",
   "metadata": {},
   "source": [
    "# Linear Programming (Optimization) \n",
    "\n",
    "In this example, we will use an common analysis that is used to optimize decision based on constrains, and it is based on the great blog post [How to Solve Optimization Problems with Python](https://towardsdatascience.com/how-to-solve-optimization-problems-with-python-9088bf8d48e5)"
   ]
  },
  {
   "cell_type": "code",
   "execution_count": 1,
   "metadata": {},
   "outputs": [],
   "source": [
    "import pandas as pd\n",
    "import numpy as np"
   ]
  },
  {
   "cell_type": "markdown",
   "metadata": {},
   "source": [
    "## Loading the data\n",
    "\n",
    "We will get the data from HTML table that are available from [Rotoguru](http://rotoguru.net), that is gather stats data from fantasy league. We will focus on the data of the NBA players."
   ]
  },
  {
   "cell_type": "code",
   "execution_count": 2,
   "metadata": {},
   "outputs": [],
   "source": [
    "data_url = 'http://rotoguru1.com/cgi-bin/hyday.pl?game=fd'\n",
    "dfs = (\n",
    "    pd\n",
    "    .read_html(data_url)\n",
    ")"
   ]
  },
  {
   "cell_type": "markdown",
   "metadata": {},
   "source": [
    "There are a few HTML table in the page, and after some scorlling we can see that the table with the players data is the 6th one (index=5):\n",
    "* Start with the dataframe at index 5 of the list of table from the HTML page above\n",
    "* Rename the column to be: Position, Name,FD Points, Salary, Team, Opp., Score, Min, Stats\n",
    "* Filter out rows with Position string longer than 2 characters (header lines)\n",
    "* Add a column called _Points_ with the float value of the points to be used as the target of the optimization \n",
    "* Remove the dollar sign and commas (\\[$,\\]) from the Salary column and convert it to its integer value\n"
   ]
  },
  {
   "cell_type": "code",
   "execution_count": 3,
   "metadata": {},
   "outputs": [
    {
     "data": {
      "text/html": [
       "<div>\n",
       "<style scoped>\n",
       "    .dataframe tbody tr th:only-of-type {\n",
       "        vertical-align: middle;\n",
       "    }\n",
       "\n",
       "    .dataframe tbody tr th {\n",
       "        vertical-align: top;\n",
       "    }\n",
       "\n",
       "    .dataframe thead th {\n",
       "        text-align: right;\n",
       "    }\n",
       "</style>\n",
       "<table border=\"1\" class=\"dataframe\">\n",
       "  <thead>\n",
       "    <tr style=\"text-align: right;\">\n",
       "      <th></th>\n",
       "      <th>Position</th>\n",
       "      <th>Name</th>\n",
       "      <th>FD Points</th>\n",
       "      <th>Salary</th>\n",
       "      <th>Team</th>\n",
       "      <th>Opp.</th>\n",
       "      <th>Score</th>\n",
       "      <th>Min</th>\n",
       "      <th>Stats</th>\n",
       "      <th>Points</th>\n",
       "    </tr>\n",
       "  </thead>\n",
       "  <tbody>\n",
       "    <tr>\n",
       "      <th>2</th>\n",
       "      <td>SG</td>\n",
       "      <td>Harden, James^</td>\n",
       "      <td>59.6</td>\n",
       "      <td>10300</td>\n",
       "      <td>bkn</td>\n",
       "      <td>@ gsw</td>\n",
       "      <td>134-117</td>\n",
       "      <td>35:27</td>\n",
       "      <td>19pt 8rb 16as 3st 1bl 5to 5trey 6-11fg 2-2ft</td>\n",
       "      <td>59.6</td>\n",
       "    </tr>\n",
       "    <tr>\n",
       "      <th>3</th>\n",
       "      <td>SG</td>\n",
       "      <td>Booker, Devin^</td>\n",
       "      <td>46</td>\n",
       "      <td>7800</td>\n",
       "      <td>pho</td>\n",
       "      <td>v phi</td>\n",
       "      <td>120-111</td>\n",
       "      <td>33:52</td>\n",
       "      <td>36pt 5rb 4as 2to 3trey 14-23fg 5-6ft</td>\n",
       "      <td>46.0</td>\n",
       "    </tr>\n",
       "    <tr>\n",
       "      <th>4</th>\n",
       "      <td>PG</td>\n",
       "      <td>McConnell, T.J.</td>\n",
       "      <td>44.6</td>\n",
       "      <td>5400</td>\n",
       "      <td>ind</td>\n",
       "      <td>@ atl</td>\n",
       "      <td>125-113</td>\n",
       "      <td>32:24</td>\n",
       "      <td>6pt 3rb 12as 4st 2bl 1to 3-8fg</td>\n",
       "      <td>44.6</td>\n",
       "    </tr>\n",
       "    <tr>\n",
       "      <th>5</th>\n",
       "      <td>PG</td>\n",
       "      <td>Paul, Chris^</td>\n",
       "      <td>44.6</td>\n",
       "      <td>7900</td>\n",
       "      <td>pho</td>\n",
       "      <td>v phi</td>\n",
       "      <td>120-111</td>\n",
       "      <td>33:21</td>\n",
       "      <td>18pt 8rb 10as 1st 1bl 4to 2trey 8-13fg</td>\n",
       "      <td>44.6</td>\n",
       "    </tr>\n",
       "    <tr>\n",
       "      <th>6</th>\n",
       "      <td>SG</td>\n",
       "      <td>Gordon, Eric^</td>\n",
       "      <td>41.4</td>\n",
       "      <td>5600</td>\n",
       "      <td>hou</td>\n",
       "      <td>@ nyk</td>\n",
       "      <td>99-121</td>\n",
       "      <td>34:16</td>\n",
       "      <td>24pt 2rb 6as 1st 1bl 1trey 8-14fg 7-7ft</td>\n",
       "      <td>41.4</td>\n",
       "    </tr>\n",
       "    <tr>\n",
       "      <th>...</th>\n",
       "      <td>...</td>\n",
       "      <td>...</td>\n",
       "      <td>...</td>\n",
       "      <td>...</td>\n",
       "      <td>...</td>\n",
       "      <td>...</td>\n",
       "      <td>...</td>\n",
       "      <td>...</td>\n",
       "      <td>...</td>\n",
       "      <td>...</td>\n",
       "    </tr>\n",
       "    <tr>\n",
       "      <th>168</th>\n",
       "      <td>C</td>\n",
       "      <td>Bitadze, Goga</td>\n",
       "      <td>0</td>\n",
       "      <td>3500</td>\n",
       "      <td>ind</td>\n",
       "      <td>@ atl</td>\n",
       "      <td>125-113</td>\n",
       "      <td>DNP</td>\n",
       "      <td>NaN</td>\n",
       "      <td>0.0</td>\n",
       "    </tr>\n",
       "    <tr>\n",
       "      <th>169</th>\n",
       "      <td>C</td>\n",
       "      <td>Azubuike, Udoka</td>\n",
       "      <td>0</td>\n",
       "      <td>3500</td>\n",
       "      <td>uta</td>\n",
       "      <td>v mia</td>\n",
       "      <td>112-94</td>\n",
       "      <td>NaN</td>\n",
       "      <td>NaN</td>\n",
       "      <td>0.0</td>\n",
       "    </tr>\n",
       "    <tr>\n",
       "      <th>170</th>\n",
       "      <td>C</td>\n",
       "      <td>Robinson, Mitchell</td>\n",
       "      <td>0</td>\n",
       "      <td>5100</td>\n",
       "      <td>nyk</td>\n",
       "      <td>v hou</td>\n",
       "      <td>121-99</td>\n",
       "      <td>NaN</td>\n",
       "      <td>NaN</td>\n",
       "      <td>0.0</td>\n",
       "    </tr>\n",
       "    <tr>\n",
       "      <th>171</th>\n",
       "      <td>C</td>\n",
       "      <td>Jordan, DeAndre</td>\n",
       "      <td>0</td>\n",
       "      <td>5400</td>\n",
       "      <td>bkn</td>\n",
       "      <td>@ gsw</td>\n",
       "      <td>134-117</td>\n",
       "      <td>NaN</td>\n",
       "      <td>NaN</td>\n",
       "      <td>0.0</td>\n",
       "    </tr>\n",
       "    <tr>\n",
       "      <th>172</th>\n",
       "      <td>C</td>\n",
       "      <td>Leonard, Meyers</td>\n",
       "      <td>0</td>\n",
       "      <td>3500</td>\n",
       "      <td>mia</td>\n",
       "      <td>@ uta</td>\n",
       "      <td>94-112</td>\n",
       "      <td>NaN</td>\n",
       "      <td>NaN</td>\n",
       "      <td>0.0</td>\n",
       "    </tr>\n",
       "  </tbody>\n",
       "</table>\n",
       "<p>167 rows × 10 columns</p>\n",
       "</div>"
      ],
      "text/plain": [
       "    Position                Name FD Points  Salary Team   Opp.    Score  \\\n",
       "2         SG      Harden, James^      59.6   10300  bkn  @ gsw  134-117   \n",
       "3         SG      Booker, Devin^        46    7800  pho  v phi  120-111   \n",
       "4         PG     McConnell, T.J.      44.6    5400  ind  @ atl  125-113   \n",
       "5         PG        Paul, Chris^      44.6    7900  pho  v phi  120-111   \n",
       "6         SG       Gordon, Eric^      41.4    5600  hou  @ nyk   99-121   \n",
       "..       ...                 ...       ...     ...  ...    ...      ...   \n",
       "168        C       Bitadze, Goga         0    3500  ind  @ atl  125-113   \n",
       "169        C     Azubuike, Udoka         0    3500  uta  v mia   112-94   \n",
       "170        C  Robinson, Mitchell         0    5100  nyk  v hou   121-99   \n",
       "171        C     Jordan, DeAndre         0    5400  bkn  @ gsw  134-117   \n",
       "172        C     Leonard, Meyers         0    3500  mia  @ uta   94-112   \n",
       "\n",
       "       Min                                         Stats  Points  \n",
       "2    35:27  19pt 8rb 16as 3st 1bl 5to 5trey 6-11fg 2-2ft    59.6  \n",
       "3    33:52          36pt 5rb 4as 2to 3trey 14-23fg 5-6ft    46.0  \n",
       "4    32:24                6pt 3rb 12as 4st 2bl 1to 3-8fg    44.6  \n",
       "5    33:21        18pt 8rb 10as 1st 1bl 4to 2trey 8-13fg    44.6  \n",
       "6    34:16       24pt 2rb 6as 1st 1bl 1trey 8-14fg 7-7ft    41.4  \n",
       "..     ...                                           ...     ...  \n",
       "168    DNP                                           NaN     0.0  \n",
       "169    NaN                                           NaN     0.0  \n",
       "170    NaN                                           NaN     0.0  \n",
       "171    NaN                                           NaN     0.0  \n",
       "172    NaN                                           NaN     0.0  \n",
       "\n",
       "[167 rows x 10 columns]"
      ]
     },
     "execution_count": 3,
     "metadata": {},
     "output_type": "execute_result"
    }
   ],
   "source": [
    "all_players = (\n",
    "    dfs[5]\n",
    "    .rename(\n",
    "        columns={\n",
    "            0:'Position',\n",
    "            1:'Name',\n",
    "            2:'FD Points',\n",
    "            3:'Salary',\n",
    "            4:'Team',\n",
    "            5:'Opp.',\n",
    "            6:'Score',\n",
    "            7:'Min',\n",
    "            8:'Stats'\n",
    "            }\n",
    "    )\n",
    "    .query('Position.str.len() <= 2')\n",
    "    .assign(Points = lambda x : x['FD Points'].astype(float))\n",
    "    .assign(Salary = lambda x : x.Salary.str.replace('[$,]','', regex=True).astype(int))\n",
    ")\n",
    "all_players"
   ]
  },
  {
   "cell_type": "markdown",
   "metadata": {},
   "source": [
    "## Installing the LP Library\n",
    "\n",
    "Many times you can find a python library that is implementing many of the fucntions that you need. This is another major benefit of Python over close tools such as Excel."
   ]
  },
  {
   "cell_type": "code",
   "execution_count": 4,
   "metadata": {},
   "outputs": [
    {
     "name": "stdout",
     "output_type": "stream",
     "text": [
      "Requirement already satisfied: pulp in /Users/guy/miniconda3/lib/python3.8/site-packages (2.4)\r\n",
      "Requirement already satisfied: amply>=0.1.2 in /Users/guy/miniconda3/lib/python3.8/site-packages (from pulp) (0.1.4)\r\n",
      "Requirement already satisfied: pyparsing in /Users/guy/miniconda3/lib/python3.8/site-packages (from amply>=0.1.2->pulp) (2.4.7)\r\n",
      "Requirement already satisfied: docutils>=0.3 in /Users/guy/miniconda3/lib/python3.8/site-packages (from amply>=0.1.2->pulp) (0.15.2)\r\n"
     ]
    },
    {
     "name": "stdout",
     "output_type": "stream",
     "text": [
      "Note: you may need to restart the kernel to use updated packages.\n"
     ]
    }
   ],
   "source": [
    "pip install pulp"
   ]
  },
  {
   "cell_type": "markdown",
   "metadata": {},
   "source": [
    "## Defining the problem variables\n",
    "\n",
    "The most complicated part of the analysis is to understand how to map it into the domain of the algorithm. \n",
    "\n",
    "The current problem that we want to solve using Linear Programming (LP) is what is the best roaster of NBA players we want to choose for our fantasy league. The output is this case is the list of the players names. \n",
    "\n",
    "We will create a list of all the players and assign them either 1 (selected to the team) or 0 (not selected)\n",
    "* Create a Linear Programming variables\n",
    "* from a dictionary\n",
    "* with no prefix to the names\n",
    "* and index of $x_i$ as the player names\n",
    "* and the value is an Integer\n",
    "* that is either 0 (not selected)\n",
    "* or 1 (selected)"
   ]
  },
  {
   "cell_type": "code",
   "execution_count": 5,
   "metadata": {},
   "outputs": [],
   "source": [
    "from pulp import *\n",
    "\n",
    "player_vars = (\n",
    "    LpVariable\n",
    "    .dicts(\n",
    "        '', \n",
    "        list(all_players['Name']), \n",
    "        cat='Integer',\n",
    "        lowBound=0, \n",
    "        upBound=1 \n",
    "    )\n",
    ")"
   ]
  },
  {
   "cell_type": "markdown",
   "metadata": {},
   "source": [
    "### Problem target\n",
    "\n",
    "In the fantasy league games, we want to maximize the number of points that the player that we choose will score in the next game. \n",
    "\n",
    "Let's start with defining the LP problem as a maximization problem:\n"
   ]
  },
  {
   "cell_type": "code",
   "execution_count": 6,
   "metadata": {},
   "outputs": [
    {
     "name": "stderr",
     "output_type": "stream",
     "text": [
      "/Users/guy/miniconda3/lib/python3.8/site-packages/pulp/pulp.py:1199: UserWarning: Spaces are not permitted in the name. Converted to '_'\n",
      "  warnings.warn(\"Spaces are not permitted in the name. Converted to '_'\")\n"
     ]
    }
   ],
   "source": [
    "total_score = LpProblem('Fantasy Points Problem', LpMaximize)"
   ]
  },
  {
   "cell_type": "markdown",
   "metadata": {},
   "source": [
    "### Variable Dictionaries\n",
    "\n",
    "The library is expecting to get a set of dictionaries each with the name of the player as the common index and the numeric value for each. We will do that for the Points (the target to maximize), the Positions (that we need to pick a couple of each position), and the Salaries (that we need to cap to a specific limit)."
   ]
  },
  {
   "cell_type": "code",
   "execution_count": 7,
   "metadata": {},
   "outputs": [],
   "source": [
    "points = (\n",
    "    all_players\n",
    "    .set_index('Name')\n",
    "    .to_dict()\n",
    "    ['Points']\n",
    ")"
   ]
  },
  {
   "cell_type": "code",
   "execution_count": 8,
   "metadata": {},
   "outputs": [],
   "source": [
    "salaries = (\n",
    "    all_players\n",
    "    .set_index('Name')\n",
    "    .to_dict()\n",
    "    ['Salary']\n",
    ")"
   ]
  },
  {
   "cell_type": "markdown",
   "metadata": {},
   "source": [
    "### Linear Programming (LP) Definition\n",
    "\n",
    "The LP problem is defined as a set of linear expressions of the form:\n",
    "\n",
    "$𝑎_1𝑥_1+𝑎_2𝑥_2+𝑎_3𝑥_3+...𝑎_𝑛𝑥_𝑛 {<=,=,>=} 𝑏$\n",
    "\n",
    "Where $x_1, x_2 ... x_n$ are the _decision_ variables we want to choose (the player names), and $a_1, a_2, ... a_n$ are the _objective_ and _constrains_ variables we have in our data.\n",
    "\n",
    "First, we add the LP sum of the points where $a_i$ is the points each player scored, and $x_i$ is the player:\n",
    "\n",
    "total score = $\\sum p_i*x_i$\n",
    "\n",
    "- $p_i$ - points scored by player$_i$\n",
    "- $ x_i = \\begin{cases} \n",
    "      1 & \\text{if player in team} \\\\\n",
    "      0 & \\text{if player not in team} \n",
    "   \\end{cases}\n",
    "$\n",
    "\n"
   ]
  },
  {
   "cell_type": "code",
   "execution_count": 9,
   "metadata": {},
   "outputs": [],
   "source": [
    "total_score += (\n",
    "    lpSum(\n",
    "        [\n",
    "            points[player] * player_vars[player] \n",
    "            for player in player_vars\n",
    "        ]\n",
    "    )\n",
    ")"
   ]
  },
  {
   "cell_type": "markdown",
   "metadata": {},
   "source": [
    "In a real application we will want to have the projected number of points and not the sum of past points, and we will calculated a forecasting model that can identify trends or recent injuries. But for this simple example, we will take that sum as a good estimator for their expected points in the next game. \n",
    "\n",
    "Second, we add the constrain the salaries where $a_i$ is the salary of each player, and $x_i$ is the player, and the constrain value for the sum of all the salaries of the players we choose not to exceed $60,000:\n",
    "\n",
    "$\\sum s_i*x_i <= 60,000$\n",
    "\n",
    "- $s_i$ - salary of player$_i$\n",
    "- $ x_i = \\begin{cases} \n",
    "      1 & \\text{if player in team} \\\\\n",
    "      0 & \\text{if player not in team} \n",
    "   \\end{cases}\n",
    "$\n"
   ]
  },
  {
   "cell_type": "code",
   "execution_count": 10,
   "metadata": {},
   "outputs": [],
   "source": [
    "total_score += (\n",
    "    lpSum(\n",
    "        [\n",
    "            salaries[player] * player_vars[player] \n",
    "            for player in player_vars\n",
    "        ]\n",
    "    ) <= 60_000\n",
    ")"
   ]
  },
  {
   "cell_type": "markdown",
   "metadata": {},
   "source": [
    "Last, we want to make sure that we have the right number of players in each position in the fantasy team. We will create a list of players for each of the positions: Point Guard (PG), Shooting Guard (SG), Small Forward (SF), Power Forward (PF), and Center (C)"
   ]
  },
  {
   "cell_type": "code",
   "execution_count": 11,
   "metadata": {},
   "outputs": [],
   "source": [
    "pg = (\n",
    "    all_players\n",
    "    .query(\"Position == 'PG'\")\n",
    "    ['Name']\n",
    "    .to_list()\n",
    ")\n",
    "sg = (\n",
    "    all_players\n",
    "    .query(\"Position == 'SG'\")\n",
    "    ['Name']\n",
    "    .to_list()\n",
    ")\n",
    "sf = (\n",
    "    all_players\n",
    "    .query(\"Position == 'SF'\")\n",
    "    ['Name']\n",
    "    .to_list()\n",
    ")\n",
    "pf = (\n",
    "    all_players\n",
    "    .query(\"Position == 'PF'\")\n",
    "    ['Name']\n",
    "    .to_list()\n",
    ")\n",
    "c = (\n",
    "    all_players\n",
    "    .query(\"Position == 'C'\")\n",
    "    ['Name']\n",
    "    .to_list()\n",
    ")"
   ]
  },
  {
   "cell_type": "markdown",
   "metadata": {},
   "source": [
    "And add the constrains to have exactly two PG, two SG, two SF, two PF and one C:\n",
    "\n",
    "$\\sum x_i = 2  , \\text{if player is in PG, SG, SF, PF} \\\\\n",
    " \\sum x_i = 1 , \\text{if player is in C} \n",
    " $\n",
    " - $ x_i = \\begin{cases} \n",
    "      1 & \\text{if player in team} \\\\\n",
    "      0 & \\text{if player not in team} \n",
    "   \\end{cases}\n",
    "$"
   ]
  },
  {
   "cell_type": "code",
   "execution_count": 12,
   "metadata": {},
   "outputs": [],
   "source": [
    "# Set Constraints\n",
    "total_score += lpSum([player_vars[player] for player in pg]) == 2\n",
    "total_score += lpSum([player_vars[player] for player in sg]) == 2\n",
    "total_score += lpSum([player_vars[player] for player in sf]) == 2\n",
    "total_score += lpSum([player_vars[player] for player in pf]) == 2\n",
    "total_score += lpSum([player_vars[player] for player in c]) == 1"
   ]
  },
  {
   "cell_type": "markdown",
   "metadata": {},
   "source": [
    "### LP Solution\n",
    "\n",
    "Finally, we can solve the set of linear expressions: "
   ]
  },
  {
   "cell_type": "code",
   "execution_count": 13,
   "metadata": {},
   "outputs": [
    {
     "data": {
      "text/plain": [
       "1"
      ]
     },
     "execution_count": 13,
     "metadata": {},
     "output_type": "execute_result"
    }
   ],
   "source": [
    "total_score.solve()"
   ]
  },
  {
   "cell_type": "markdown",
   "metadata": {},
   "source": [
    "And filter the list of the possible players to the ones that were selected (their variable value is 1):"
   ]
  },
  {
   "cell_type": "code",
   "execution_count": 14,
   "metadata": {},
   "outputs": [
    {
     "data": {
      "text/plain": [
       "[_Embiid,_Joel^,\n",
       " _Gordon,_Eric^,\n",
       " _Harden,_James^,\n",
       " _McConnell,_T.J.,\n",
       " _McDermott,_Doug^,\n",
       " _O'Neale,_Royce^,\n",
       " _Oubre,_Kelly^,\n",
       " _Paul,_Chris^,\n",
       " _Saric,_Dario]"
      ]
     },
     "execution_count": 14,
     "metadata": {},
     "output_type": "execute_result"
    }
   ],
   "source": [
    "( \n",
    "    list(\n",
    "        filter(\n",
    "            lambda x : x.varValue == 1, \n",
    "            total_score.variables()\n",
    "        )\n",
    "    )\n",
    ")\n"
   ]
  },
  {
   "cell_type": "markdown",
   "metadata": {},
   "source": [
    "The list of the players above is changing every week based on their recent performance, and we can execute this analysis every time before we define our fantasy team for the next round. "
   ]
  },
  {
   "cell_type": "code",
   "execution_count": null,
   "metadata": {},
   "outputs": [],
   "source": []
  }
 ],
 "metadata": {
  "kernelspec": {
   "display_name": "Python 3",
   "language": "python",
   "name": "python3"
  },
  "language_info": {
   "codemirror_mode": {
    "name": "ipython",
    "version": 3
   },
   "file_extension": ".py",
   "mimetype": "text/x-python",
   "name": "python",
   "nbconvert_exporter": "python",
   "pygments_lexer": "ipython3",
   "version": "3.8.3"
  }
 },
 "nbformat": 4,
 "nbformat_minor": 2
}