{
 "cells": [
  {
   "cell_type": "markdown",
   "metadata": {},
   "source": [
    "# Loading Files\n",
    "\n",
    "In the first chapter we will learn how to load data into Pandas DataFrames. We will load multile formats of data sources including CSV files, Excel files, tables from web sites, tables in Databases, etc. "
   ]
  },
  {
   "cell_type": "markdown",
   "metadata": {},
   "source": [
    "To make the notebooks cleaner and easier to read we will suppress warnings. Bad practice, however, OK for a tutorial."
   ]
  },
  {
   "cell_type": "code",
   "execution_count": 1,
   "metadata": {},
   "outputs": [],
   "source": [
    "import warnings\n",
    "warnings.filterwarnings('ignore')"
   ]
  },
  {
   "cell_type": "markdown",
   "metadata": {},
   "source": [
    "## Loading CSV file \n",
    "\n",
    "The comma-separated-values (CSV) format is one of the simplest and pupolar way to share (small) data. You can save an Excel files as CSV and it is the default format of many bulk download of data from databases and other sources. "
   ]
  },
  {
   "cell_type": "code",
   "execution_count": 2,
   "metadata": {},
   "outputs": [],
   "source": [
    "import pandas as pd\n",
    "import numpy as np\n",
    "import matplotlib"
   ]
  },
  {
   "cell_type": "markdown",
   "metadata": {},
   "source": [
    "The first example is using data file about permits for restaurants in NY city. It was downloaded from the open data web site [data.world](https://data.world/city-of-ny/pitm-atqc)"
   ]
  },
  {
   "cell_type": "code",
   "execution_count": 3,
   "metadata": {},
   "outputs": [],
   "source": [
    "table_df = pd.read_csv('../data/open_restaurant_applications_1.csv')"
   ]
  },
  {
   "cell_type": "code",
   "execution_count": 4,
   "metadata": {},
   "outputs": [
    {
     "data": {
      "text/html": [
       "<div>\n",
       "<style scoped>\n",
       "    .dataframe tbody tr th:only-of-type {\n",
       "        vertical-align: middle;\n",
       "    }\n",
       "\n",
       "    .dataframe tbody tr th {\n",
       "        vertical-align: top;\n",
       "    }\n",
       "\n",
       "    .dataframe thead th {\n",
       "        text-align: right;\n",
       "    }\n",
       "</style>\n",
       "<table border=\"1\" class=\"dataframe\">\n",
       "  <thead>\n",
       "    <tr style=\"text-align: right;\">\n",
       "      <th></th>\n",
       "      <th>objectid</th>\n",
       "      <th>globalid</th>\n",
       "      <th>seating_interest_sidewalk_roadway_both</th>\n",
       "      <th>restaurant_name</th>\n",
       "      <th>legal_business_name</th>\n",
       "      <th>doing_business_as_dba</th>\n",
       "      <th>bulding_number</th>\n",
       "      <th>street</th>\n",
       "      <th>borough</th>\n",
       "      <th>postcode</th>\n",
       "      <th>...</th>\n",
       "      <th>time_of_submission</th>\n",
       "      <th>latitude</th>\n",
       "      <th>longitude</th>\n",
       "      <th>community_board</th>\n",
       "      <th>council_district</th>\n",
       "      <th>census_tract</th>\n",
       "      <th>bin</th>\n",
       "      <th>bbl</th>\n",
       "      <th>nta</th>\n",
       "      <th>location</th>\n",
       "    </tr>\n",
       "  </thead>\n",
       "  <tbody>\n",
       "    <tr>\n",
       "      <th>0</th>\n",
       "      <td>32</td>\n",
       "      <td>ae5914d4-6080-4144-8634-98ca22b215de</td>\n",
       "      <td>sidewalk</td>\n",
       "      <td>Arbuz Cafe</td>\n",
       "      <td>Arbuz Cafe NY inc.</td>\n",
       "      <td>Arbuz Cafe NY inc.</td>\n",
       "      <td>1706</td>\n",
       "      <td>Sheepshead Bay Rd</td>\n",
       "      <td>Brooklyn</td>\n",
       "      <td>11235</td>\n",
       "      <td>...</td>\n",
       "      <td>2020-06-19</td>\n",
       "      <td>40.585724</td>\n",
       "      <td>-73.951767</td>\n",
       "      <td>315.0</td>\n",
       "      <td>48.0</td>\n",
       "      <td>606.0</td>\n",
       "      <td>3343289.0</td>\n",
       "      <td>3.087700e+09</td>\n",
       "      <td>Sheepshead Bay-Gerritsen Beach-Manhattan Beach</td>\n",
       "      <td>POINT(-73.951767 40.585724)</td>\n",
       "    </tr>\n",
       "    <tr>\n",
       "      <th>1</th>\n",
       "      <td>33</td>\n",
       "      <td>81a2bad2-5bdc-49ed-8bb6-9dc3f9798732</td>\n",
       "      <td>roadway</td>\n",
       "      <td>Nerai</td>\n",
       "      <td>Koureli Restaurant Group Inc</td>\n",
       "      <td>Nerai</td>\n",
       "      <td>55</td>\n",
       "      <td>East 54th Street</td>\n",
       "      <td>Manhattan</td>\n",
       "      <td>10022</td>\n",
       "      <td>...</td>\n",
       "      <td>2020-06-19</td>\n",
       "      <td>40.760117</td>\n",
       "      <td>-73.973162</td>\n",
       "      <td>105.0</td>\n",
       "      <td>4.0</td>\n",
       "      <td>102.0</td>\n",
       "      <td>1035748.0</td>\n",
       "      <td>1.012900e+09</td>\n",
       "      <td>Midtown-Midtown South</td>\n",
       "      <td>POINT(-73.973162 40.760117)</td>\n",
       "    </tr>\n",
       "    <tr>\n",
       "      <th>2</th>\n",
       "      <td>34</td>\n",
       "      <td>b4bcb3a5-e2f7-4069-8c3b-21f47f051a63</td>\n",
       "      <td>roadway</td>\n",
       "      <td>Hill Country</td>\n",
       "      <td>Hill Country New York, LLC</td>\n",
       "      <td>Hill Country</td>\n",
       "      <td>30</td>\n",
       "      <td>West 26th</td>\n",
       "      <td>Manhattan</td>\n",
       "      <td>10010</td>\n",
       "      <td>...</td>\n",
       "      <td>2020-06-19</td>\n",
       "      <td>NaN</td>\n",
       "      <td>NaN</td>\n",
       "      <td>NaN</td>\n",
       "      <td>NaN</td>\n",
       "      <td>NaN</td>\n",
       "      <td>NaN</td>\n",
       "      <td>NaN</td>\n",
       "      <td>NaN</td>\n",
       "      <td>NaN</td>\n",
       "    </tr>\n",
       "    <tr>\n",
       "      <th>3</th>\n",
       "      <td>35</td>\n",
       "      <td>a1054682-ff93-4b07-8f99-daa2a7b0daaf</td>\n",
       "      <td>both</td>\n",
       "      <td>Sundays Well</td>\n",
       "      <td>Two Bridge Tavern LLC</td>\n",
       "      <td>Sundays Well</td>\n",
       "      <td>360</td>\n",
       "      <td>3rd Ave</td>\n",
       "      <td>Manhattan</td>\n",
       "      <td>10016</td>\n",
       "      <td>...</td>\n",
       "      <td>2020-06-19</td>\n",
       "      <td>40.740892</td>\n",
       "      <td>-73.981657</td>\n",
       "      <td>106.0</td>\n",
       "      <td>2.0</td>\n",
       "      <td>68.0</td>\n",
       "      <td>1018142.0</td>\n",
       "      <td>1.008820e+09</td>\n",
       "      <td>Gramercy</td>\n",
       "      <td>POINT(-73.981657 40.740892)</td>\n",
       "    </tr>\n",
       "    <tr>\n",
       "      <th>4</th>\n",
       "      <td>36</td>\n",
       "      <td>1dd1f4e5-3e2c-4522-89e4-b3f4fc802436</td>\n",
       "      <td>roadway</td>\n",
       "      <td>Le Baba Cool, Inc</td>\n",
       "      <td>Le Baba Cool, Inc</td>\n",
       "      <td>Le Baba Cool, Inc</td>\n",
       "      <td>64</td>\n",
       "      <td>Lafayette AVe</td>\n",
       "      <td>Brooklyn</td>\n",
       "      <td>11217</td>\n",
       "      <td>...</td>\n",
       "      <td>2020-06-19</td>\n",
       "      <td>40.687102</td>\n",
       "      <td>-73.975365</td>\n",
       "      <td>302.0</td>\n",
       "      <td>35.0</td>\n",
       "      <td>35.0</td>\n",
       "      <td>3059298.0</td>\n",
       "      <td>3.021160e+09</td>\n",
       "      <td>Fort Greene</td>\n",
       "      <td>POINT(-73.975365 40.687102)</td>\n",
       "    </tr>\n",
       "  </tbody>\n",
       "</table>\n",
       "<p>5 rows × 36 columns</p>\n",
       "</div>"
      ],
      "text/plain": [
       "   objectid                              globalid  \\\n",
       "0        32  ae5914d4-6080-4144-8634-98ca22b215de   \n",
       "1        33  81a2bad2-5bdc-49ed-8bb6-9dc3f9798732   \n",
       "2        34  b4bcb3a5-e2f7-4069-8c3b-21f47f051a63   \n",
       "3        35  a1054682-ff93-4b07-8f99-daa2a7b0daaf   \n",
       "4        36  1dd1f4e5-3e2c-4522-89e4-b3f4fc802436   \n",
       "\n",
       "  seating_interest_sidewalk_roadway_both    restaurant_name  \\\n",
       "0                               sidewalk         Arbuz Cafe   \n",
       "1                                roadway              Nerai   \n",
       "2                                roadway       Hill Country   \n",
       "3                                   both       Sundays Well   \n",
       "4                                roadway  Le Baba Cool, Inc   \n",
       "\n",
       "            legal_business_name doing_business_as_dba bulding_number  \\\n",
       "0            Arbuz Cafe NY inc.    Arbuz Cafe NY inc.           1706   \n",
       "1  Koureli Restaurant Group Inc                 Nerai             55   \n",
       "2    Hill Country New York, LLC          Hill Country             30   \n",
       "3         Two Bridge Tavern LLC          Sundays Well            360   \n",
       "4             Le Baba Cool, Inc     Le Baba Cool, Inc             64   \n",
       "\n",
       "              street    borough  postcode  ... time_of_submission   latitude  \\\n",
       "0  Sheepshead Bay Rd   Brooklyn     11235  ...         2020-06-19  40.585724   \n",
       "1   East 54th Street  Manhattan     10022  ...         2020-06-19  40.760117   \n",
       "2          West 26th  Manhattan     10010  ...         2020-06-19        NaN   \n",
       "3            3rd Ave  Manhattan     10016  ...         2020-06-19  40.740892   \n",
       "4      Lafayette AVe   Brooklyn     11217  ...         2020-06-19  40.687102   \n",
       "\n",
       "   longitude  community_board  council_district  census_tract        bin  \\\n",
       "0 -73.951767            315.0              48.0         606.0  3343289.0   \n",
       "1 -73.973162            105.0               4.0         102.0  1035748.0   \n",
       "2        NaN              NaN               NaN           NaN        NaN   \n",
       "3 -73.981657            106.0               2.0          68.0  1018142.0   \n",
       "4 -73.975365            302.0              35.0          35.0  3059298.0   \n",
       "\n",
       "            bbl                                             nta  \\\n",
       "0  3.087700e+09  Sheepshead Bay-Gerritsen Beach-Manhattan Beach   \n",
       "1  1.012900e+09                           Midtown-Midtown South   \n",
       "2           NaN                                             NaN   \n",
       "3  1.008820e+09                                        Gramercy   \n",
       "4  3.021160e+09                                     Fort Greene   \n",
       "\n",
       "                      location  \n",
       "0  POINT(-73.951767 40.585724)  \n",
       "1  POINT(-73.973162 40.760117)  \n",
       "2                          NaN  \n",
       "3  POINT(-73.981657 40.740892)  \n",
       "4  POINT(-73.975365 40.687102)  \n",
       "\n",
       "[5 rows x 36 columns]"
      ]
     },
     "execution_count": 4,
     "metadata": {},
     "output_type": "execute_result"
    }
   ],
   "source": [
    "table_df.head()"
   ]
  },
  {
   "cell_type": "code",
   "execution_count": 5,
   "metadata": {
    "tags": []
   },
   "outputs": [
    {
     "name": "stdout",
     "output_type": "stream",
     "text": [
      "<class 'pandas.core.frame.DataFrame'>\n",
      "RangeIndex: 7939 entries, 0 to 7938\n",
      "Data columns (total 36 columns):\n",
      " #   Column                                  Non-Null Count  Dtype  \n",
      "---  ------                                  --------------  -----  \n",
      " 0   objectid                                7939 non-null   int64  \n",
      " 1   globalid                                7939 non-null   object \n",
      " 2   seating_interest_sidewalk_roadway_both  7939 non-null   object \n",
      " 3   restaurant_name                         7939 non-null   object \n",
      " 4   legal_business_name                     7938 non-null   object \n",
      " 5   doing_business_as_dba                   7929 non-null   object \n",
      " 6   bulding_number                          7939 non-null   object \n",
      " 7   street                                  7939 non-null   object \n",
      " 8   borough                                 7939 non-null   object \n",
      " 9   postcode                                7939 non-null   int64  \n",
      " 10  business_address                        7939 non-null   object \n",
      " 11  food_service_establishment_permit       7935 non-null   object \n",
      " 12  sidewalk_dimensions_length              7120 non-null   float64\n",
      " 13  sidewalk_dimensions_width               7120 non-null   float64\n",
      " 14  sidewalk_dimensions_area                7120 non-null   float64\n",
      " 15  roadway_dimensions_length               5080 non-null   float64\n",
      " 16  roadway_dimensions_width                5080 non-null   float64\n",
      " 17  roadway_dimensions_area                 5080 non-null   float64\n",
      " 18  approved_for_sidewalk_seating           7939 non-null   object \n",
      " 19  approved_for_roadway_seating            7939 non-null   object \n",
      " 20  qualify_alcohol                         7939 non-null   object \n",
      " 21  sla_serial_number                       5774 non-null   object \n",
      " 22  sla_license_type                        5774 non-null   object \n",
      " 23  landmark_district_or_building           7939 non-null   object \n",
      " 24  landmarkdistrict_terms                  1210 non-null   object \n",
      " 25  healthcompliance_terms                  7939 non-null   object \n",
      " 26  time_of_submission                      7939 non-null   object \n",
      " 27  latitude                                6943 non-null   float64\n",
      " 28  longitude                               6943 non-null   float64\n",
      " 29  community_board                         6943 non-null   float64\n",
      " 30  council_district                        6943 non-null   float64\n",
      " 31  census_tract                            6943 non-null   float64\n",
      " 32  bin                                     6888 non-null   float64\n",
      " 33  bbl                                     6888 non-null   float64\n",
      " 34  nta                                     6943 non-null   object \n",
      " 35  location                                6943 non-null   object \n",
      "dtypes: float64(13), int64(2), object(21)\n",
      "memory usage: 2.2+ MB\n"
     ]
    }
   ],
   "source": [
    "table_df.info()"
   ]
  },
  {
   "cell_type": "code",
   "execution_count": 6,
   "metadata": {},
   "outputs": [
    {
     "data": {
      "text/html": [
       "<div>\n",
       "<style scoped>\n",
       "    .dataframe tbody tr th:only-of-type {\n",
       "        vertical-align: middle;\n",
       "    }\n",
       "\n",
       "    .dataframe tbody tr th {\n",
       "        vertical-align: top;\n",
       "    }\n",
       "\n",
       "    .dataframe thead th {\n",
       "        text-align: right;\n",
       "    }\n",
       "</style>\n",
       "<table border=\"1\" class=\"dataframe\">\n",
       "  <thead>\n",
       "    <tr style=\"text-align: right;\">\n",
       "      <th></th>\n",
       "      <th>objectid</th>\n",
       "      <th>postcode</th>\n",
       "      <th>sidewalk_dimensions_length</th>\n",
       "      <th>sidewalk_dimensions_width</th>\n",
       "      <th>sidewalk_dimensions_area</th>\n",
       "      <th>roadway_dimensions_length</th>\n",
       "      <th>roadway_dimensions_width</th>\n",
       "      <th>roadway_dimensions_area</th>\n",
       "      <th>latitude</th>\n",
       "      <th>longitude</th>\n",
       "      <th>community_board</th>\n",
       "      <th>council_district</th>\n",
       "      <th>census_tract</th>\n",
       "      <th>bin</th>\n",
       "      <th>bbl</th>\n",
       "    </tr>\n",
       "  </thead>\n",
       "  <tbody>\n",
       "    <tr>\n",
       "      <th>count</th>\n",
       "      <td>7939.000000</td>\n",
       "      <td>7939.000000</td>\n",
       "      <td>7120.000000</td>\n",
       "      <td>7120.000000</td>\n",
       "      <td>7120.000000</td>\n",
       "      <td>5080.000000</td>\n",
       "      <td>5080.000000</td>\n",
       "      <td>5080.000000</td>\n",
       "      <td>6943.000000</td>\n",
       "      <td>6943.000000</td>\n",
       "      <td>6943.000000</td>\n",
       "      <td>6943.000000</td>\n",
       "      <td>6943.000000</td>\n",
       "      <td>6.888000e+03</td>\n",
       "      <td>6.888000e+03</td>\n",
       "    </tr>\n",
       "    <tr>\n",
       "      <th>mean</th>\n",
       "      <td>4006.485452</td>\n",
       "      <td>10619.992442</td>\n",
       "      <td>34.319101</td>\n",
       "      <td>10.602247</td>\n",
       "      <td>410.681882</td>\n",
       "      <td>31.530709</td>\n",
       "      <td>8.590945</td>\n",
       "      <td>280.760236</td>\n",
       "      <td>40.732316</td>\n",
       "      <td>-73.952988</td>\n",
       "      <td>231.494167</td>\n",
       "      <td>17.970906</td>\n",
       "      <td>3241.251476</td>\n",
       "      <td>2.332593e+06</td>\n",
       "      <td>2.277429e+09</td>\n",
       "    </tr>\n",
       "    <tr>\n",
       "      <th>std</th>\n",
       "      <td>2297.885878</td>\n",
       "      <td>1091.934677</td>\n",
       "      <td>38.058425</td>\n",
       "      <td>7.241442</td>\n",
       "      <td>1109.156427</td>\n",
       "      <td>30.240655</td>\n",
       "      <td>4.384592</td>\n",
       "      <td>513.508993</td>\n",
       "      <td>0.057959</td>\n",
       "      <td>0.061280</td>\n",
       "      <td>128.857022</td>\n",
       "      <td>15.370382</td>\n",
       "      <td>13737.582279</td>\n",
       "      <td>1.329363e+06</td>\n",
       "      <td>1.296711e+09</td>\n",
       "    </tr>\n",
       "    <tr>\n",
       "      <th>min</th>\n",
       "      <td>32.000000</td>\n",
       "      <td>7002.000000</td>\n",
       "      <td>0.000000</td>\n",
       "      <td>0.000000</td>\n",
       "      <td>0.000000</td>\n",
       "      <td>0.000000</td>\n",
       "      <td>0.000000</td>\n",
       "      <td>0.000000</td>\n",
       "      <td>40.511019</td>\n",
       "      <td>-74.248014</td>\n",
       "      <td>101.000000</td>\n",
       "      <td>1.000000</td>\n",
       "      <td>1.000000</td>\n",
       "      <td>1.000000e+06</td>\n",
       "      <td>0.000000e+00</td>\n",
       "    </tr>\n",
       "    <tr>\n",
       "      <th>25%</th>\n",
       "      <td>2016.500000</td>\n",
       "      <td>10016.000000</td>\n",
       "      <td>16.000000</td>\n",
       "      <td>6.000000</td>\n",
       "      <td>120.000000</td>\n",
       "      <td>17.000000</td>\n",
       "      <td>8.000000</td>\n",
       "      <td>128.000000</td>\n",
       "      <td>40.705540</td>\n",
       "      <td>-73.990058</td>\n",
       "      <td>105.000000</td>\n",
       "      <td>3.000000</td>\n",
       "      <td>70.000000</td>\n",
       "      <td>1.026910e+06</td>\n",
       "      <td>1.008740e+09</td>\n",
       "    </tr>\n",
       "    <tr>\n",
       "      <th>50%</th>\n",
       "      <td>4005.000000</td>\n",
       "      <td>10454.000000</td>\n",
       "      <td>24.000000</td>\n",
       "      <td>8.000000</td>\n",
       "      <td>225.000000</td>\n",
       "      <td>24.000000</td>\n",
       "      <td>8.000000</td>\n",
       "      <td>192.000000</td>\n",
       "      <td>40.734268</td>\n",
       "      <td>-73.968501</td>\n",
       "      <td>208.000000</td>\n",
       "      <td>15.000000</td>\n",
       "      <td>151.000000</td>\n",
       "      <td>2.046050e+06</td>\n",
       "      <td>2.037640e+09</td>\n",
       "    </tr>\n",
       "    <tr>\n",
       "      <th>75%</th>\n",
       "      <td>5993.500000</td>\n",
       "      <td>11220.000000</td>\n",
       "      <td>40.000000</td>\n",
       "      <td>14.000000</td>\n",
       "      <td>420.000000</td>\n",
       "      <td>38.000000</td>\n",
       "      <td>8.000000</td>\n",
       "      <td>320.000000</td>\n",
       "      <td>40.761935</td>\n",
       "      <td>-73.922195</td>\n",
       "      <td>314.000000</td>\n",
       "      <td>33.000000</td>\n",
       "      <td>483.500000</td>\n",
       "      <td>3.335991e+06</td>\n",
       "      <td>3.066340e+09</td>\n",
       "    </tr>\n",
       "    <tr>\n",
       "      <th>max</th>\n",
       "      <td>7992.000000</td>\n",
       "      <td>91206.000000</td>\n",
       "      <td>1000.000000</td>\n",
       "      <td>50.000000</td>\n",
       "      <td>50000.000000</td>\n",
       "      <td>1000.000000</td>\n",
       "      <td>50.000000</td>\n",
       "      <td>25000.000000</td>\n",
       "      <td>40.911190</td>\n",
       "      <td>-73.702668</td>\n",
       "      <td>503.000000</td>\n",
       "      <td>51.000000</td>\n",
       "      <td>157903.000000</td>\n",
       "      <td>5.169029e+06</td>\n",
       "      <td>5.080430e+09</td>\n",
       "    </tr>\n",
       "  </tbody>\n",
       "</table>\n",
       "</div>"
      ],
      "text/plain": [
       "          objectid      postcode  sidewalk_dimensions_length  \\\n",
       "count  7939.000000   7939.000000                 7120.000000   \n",
       "mean   4006.485452  10619.992442                   34.319101   \n",
       "std    2297.885878   1091.934677                   38.058425   \n",
       "min      32.000000   7002.000000                    0.000000   \n",
       "25%    2016.500000  10016.000000                   16.000000   \n",
       "50%    4005.000000  10454.000000                   24.000000   \n",
       "75%    5993.500000  11220.000000                   40.000000   \n",
       "max    7992.000000  91206.000000                 1000.000000   \n",
       "\n",
       "       sidewalk_dimensions_width  sidewalk_dimensions_area  \\\n",
       "count                7120.000000               7120.000000   \n",
       "mean                   10.602247                410.681882   \n",
       "std                     7.241442               1109.156427   \n",
       "min                     0.000000                  0.000000   \n",
       "25%                     6.000000                120.000000   \n",
       "50%                     8.000000                225.000000   \n",
       "75%                    14.000000                420.000000   \n",
       "max                    50.000000              50000.000000   \n",
       "\n",
       "       roadway_dimensions_length  roadway_dimensions_width  \\\n",
       "count                5080.000000               5080.000000   \n",
       "mean                   31.530709                  8.590945   \n",
       "std                    30.240655                  4.384592   \n",
       "min                     0.000000                  0.000000   \n",
       "25%                    17.000000                  8.000000   \n",
       "50%                    24.000000                  8.000000   \n",
       "75%                    38.000000                  8.000000   \n",
       "max                  1000.000000                 50.000000   \n",
       "\n",
       "       roadway_dimensions_area     latitude    longitude  community_board  \\\n",
       "count              5080.000000  6943.000000  6943.000000      6943.000000   \n",
       "mean                280.760236    40.732316   -73.952988       231.494167   \n",
       "std                 513.508993     0.057959     0.061280       128.857022   \n",
       "min                   0.000000    40.511019   -74.248014       101.000000   \n",
       "25%                 128.000000    40.705540   -73.990058       105.000000   \n",
       "50%                 192.000000    40.734268   -73.968501       208.000000   \n",
       "75%                 320.000000    40.761935   -73.922195       314.000000   \n",
       "max               25000.000000    40.911190   -73.702668       503.000000   \n",
       "\n",
       "       council_district   census_tract           bin           bbl  \n",
       "count       6943.000000    6943.000000  6.888000e+03  6.888000e+03  \n",
       "mean          17.970906    3241.251476  2.332593e+06  2.277429e+09  \n",
       "std           15.370382   13737.582279  1.329363e+06  1.296711e+09  \n",
       "min            1.000000       1.000000  1.000000e+06  0.000000e+00  \n",
       "25%            3.000000      70.000000  1.026910e+06  1.008740e+09  \n",
       "50%           15.000000     151.000000  2.046050e+06  2.037640e+09  \n",
       "75%           33.000000     483.500000  3.335991e+06  3.066340e+09  \n",
       "max           51.000000  157903.000000  5.169029e+06  5.080430e+09  "
      ]
     },
     "execution_count": 6,
     "metadata": {},
     "output_type": "execute_result"
    }
   ],
   "source": [
    "table_df.describe()"
   ]
  },
  {
   "cell_type": "markdown",
   "metadata": {},
   "source": [
    "## Simple data visualization\n",
    "\n",
    "As part of the data exploration phase, you want to look at the columns, a few rows (_head_), column statistics (_describe_), data types and number of values (_info_). However, usually the most effective way is to visualize the data to understand it. \n",
    "\n",
    "In the next cell, we build a simple scatter plot of the data with _longitude_ and _latitude_ as x-axis and y-axis, respectively."
   ]
  },
  {
   "cell_type": "code",
   "execution_count": 7,
   "metadata": {},
   "outputs": [
    {
     "data": {
      "text/plain": [
       "<AxesSubplot:xlabel='longitude', ylabel='latitude'>"
      ]
     },
     "execution_count": 7,
     "metadata": {},
     "output_type": "execute_result"
    },
    {
     "data": {
      "image/png": "[encoded data removed]",
      "text/plain": [
       "<Figure size 432x288 with 1 Axes>"
      ]
     },
     "metadata": {
      "filenames": {
       "image/png": "/Users/guy/Development/GitHub/from-excel-to-pandas/_build/jupyter_execute/notebooks/01 - loading files_11_1.png"
      },
      "needs_background": "light"
     },
     "output_type": "display_data"
    }
   ],
   "source": [
    "(\n",
    "    table_df\n",
    "    .plot\n",
    "    .scatter(x='longitude',y='latitude')\n",
    ")"
   ]
  },
  {
   "cell_type": "markdown",
   "metadata": {},
   "source": [
    "## Adding new columns\n",
    "\n",
    "One of the most common tasks that we do when building an analysis is to add calcualted fields, based on the other columns in our table/DataFrame. We will discuss power of Pandas in adding new columns in the next sections of this guide. However, here is an example of calcuting the color of a data point, based on the value of _approved_for_roadway_seating_ column. It will be green (_g_) if the value is _yes_, or red (_r_) otherwise."
   ]
  },
  {
   "cell_type": "code",
   "execution_count": 8,
   "metadata": {},
   "outputs": [
    {
     "data": {
      "text/plain": [
       "<AxesSubplot:xlabel='longitude', ylabel='latitude'>"
      ]
     },
     "execution_count": 8,
     "metadata": {},
     "output_type": "execute_result"
    },
    {
     "data": {
      "image/png": "[encoded data removed]",
      "text/plain": [
       "<Figure size 432x288 with 1 Axes>"
      ]
     },
     "metadata": {
      "filenames": {
       "image/png": "/Users/guy/Development/GitHub/from-excel-to-pandas/_build/jupyter_execute/notebooks/01 - loading files_13_1.png"
      },
      "needs_background": "light"
     },
     "output_type": "display_data"
    }
   ],
   "source": [
    "(\n",
    "    table_df\n",
    "    .assign(approved=lambda x : np.where(x.approved_for_roadway_seating == 'yes','g','r'))\n",
    "    .plot.scatter(x='longitude',y='latitude',c='approved')\n",
    ")"
   ]
  },
  {
   "cell_type": "markdown",
   "metadata": {},
   "source": [
    "## Loading Excel Files\n",
    "\n",
    "You can also read files that were edited in Excel and saved in the Excel format.\n",
    "\n",
    "If the python environment that we are using is missing part of the needed functionality, such as the ability to parse the format of the Microsoft Excel files, we need to install using the following command:"
   ]
  },
  {
   "cell_type": "code",
   "execution_count": 9,
   "metadata": {
    "tags": []
   },
   "outputs": [
    {
     "name": "stdout",
     "output_type": "stream",
     "text": [
      "Requirement already satisfied: xlrd in /Users/guy/miniconda3/lib/python3.8/site-packages (1.2.0)\r\n"
     ]
    }
   ],
   "source": [
    "!pip install xlrd"
   ]
  },
  {
   "cell_type": "markdown",
   "metadata": {},
   "source": [
    "Then, we can call _read_excel_ instead of _read_csv_"
   ]
  },
  {
   "cell_type": "code",
   "execution_count": 10,
   "metadata": {},
   "outputs": [],
   "source": [
    "table_df_from_excel = pd.read_excel('../data/open_restaurant_applications.xlsx')"
   ]
  },
  {
   "cell_type": "markdown",
   "metadata": {},
   "source": [
    "and since the data now is in the Pandas (_pd_) DataFrame format, all the rest of the commands are exactly the same. For example, here is the same chart we plotted before."
   ]
  },
  {
   "cell_type": "code",
   "execution_count": 11,
   "metadata": {},
   "outputs": [
    {
     "data": {
      "text/plain": [
       "<AxesSubplot:xlabel='longitude', ylabel='latitude'>"
      ]
     },
     "execution_count": 11,
     "metadata": {},
     "output_type": "execute_result"
    },
    {
     "data": {
      "image/png": "[encoded data removed]",
      "text/plain": [
       "<Figure size 432x288 with 1 Axes>"
      ]
     },
     "metadata": {
      "filenames": {
       "image/png": "/Users/guy/Development/GitHub/from-excel-to-pandas/_build/jupyter_execute/notebooks/01 - loading files_19_1.png"
      },
      "needs_background": "light"
     },
     "output_type": "display_data"
    }
   ],
   "source": [
    "(\n",
    "    table_df_from_excel\n",
    "    .plot\n",
    "    .scatter(x='longitude',y='latitude')\n",
    ")"
   ]
  },
  {
   "cell_type": "code",
   "execution_count": null,
   "metadata": {},
   "outputs": [],
   "source": []
  }
 ],
 "metadata": {
  "language_info": {
   "codemirror_mode": {
    "name": "ipython",
    "version": 3
   },
   "file_extension": ".py",
   "mimetype": "text/x-python",
   "name": "python",
   "nbconvert_exporter": "python",
   "pygments_lexer": "ipython3",
   "version": "3.8.3"
  }
 },
 "nbformat": 4,
 "nbformat_minor": 2
}